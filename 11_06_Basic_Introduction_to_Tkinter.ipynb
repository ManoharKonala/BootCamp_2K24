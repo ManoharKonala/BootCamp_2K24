{
  "nbformat": 4,
  "nbformat_minor": 0,
  "metadata": {
    "colab": {
      "provenance": [],
      "authorship_tag": "ABX9TyMkBxGpnlckD4MDfDw+mwi6",
      "include_colab_link": true
    },
    "kernelspec": {
      "name": "python3",
      "display_name": "Python 3"
    },
    "language_info": {
      "name": "python"
    }
  },
  "cells": [
    {
      "cell_type": "markdown",
      "metadata": {
        "id": "view-in-github",
        "colab_type": "text"
      },
      "source": [
        "<a href=\"https://colab.research.google.com/github/ManoharKonala/Python--Practice/blob/main/11_06_Basic_Introduction_to_Tkinter.ipynb\" target=\"_parent\"><img src=\"https://colab.research.google.com/assets/colab-badge.svg\" alt=\"Open In Colab\"/></a>"
      ]
    },
    {
      "cell_type": "code",
      "execution_count": null,
      "metadata": {
        "colab": {
          "base_uri": "https://localhost:8080/"
        },
        "id": "qOsRSzrzY1zU",
        "outputId": "129647b0-e955-4856-cfe2-b35b0cca48ba"
      },
      "outputs": [
        {
          "output_type": "stream",
          "name": "stdout",
          "text": [
            "Cloning into 'Python--Practice'...\n",
            "remote: Enumerating objects: 127, done.\u001b[K\n",
            "remote: Counting objects: 100% (127/127), done.\u001b[K\n",
            "remote: Compressing objects: 100% (112/112), done.\u001b[K\n",
            "remote: Total 127 (delta 63), reused 10 (delta 4), pack-reused 0\u001b[K\n",
            "Receiving objects: 100% (127/127), 57.33 KiB | 1.12 MiB/s, done.\n",
            "Resolving deltas: 100% (63/63), done.\n"
          ]
        }
      ],
      "source": [
        "! git clone https://github.com/ManoharKonala/Python--Practice"
      ]
    },
    {
      "cell_type": "markdown",
      "source": [
        "# Tkinter"
      ],
      "metadata": {
        "id": "9mqXzbVJZG3L"
      }
    },
    {
      "cell_type": "code",
      "source": [
        "import tkinter as tk\n",
        "\n",
        "# Create a Tkinter window\n",
        "root = tk.Tk()\n",
        "root.title(\"Hello, World!\")\n",
        "\n",
        "# Create a label and button\n",
        "label = tk.Label(root, text=\"Hello, World!\")\n",
        "label.pack()\n",
        "button = tk.Button(root, text=\"Click me!\", command=lambda: print(\"Button clicked!\"))\n",
        "button.pack()\n",
        "\n",
        "# Display the Tkinter window\n",
        "root.mainloop()"
      ],
      "metadata": {
        "colab": {
          "base_uri": "https://localhost:8080/",
          "height": 345
        },
        "id": "g-8in7evakB8",
        "outputId": "03267c98-2232-4ee6-9f45-f1e9941c9328"
      },
      "execution_count": null,
      "outputs": [
        {
          "output_type": "error",
          "ename": "TclError",
          "evalue": "no display name and no $DISPLAY environment variable",
          "traceback": [
            "\u001b[0;31m---------------------------------------------------------------------------\u001b[0m",
            "\u001b[0;31mTclError\u001b[0m                                  Traceback (most recent call last)",
            "\u001b[0;32m<ipython-input-2-4e328fd48e3d>\u001b[0m in \u001b[0;36m<cell line: 4>\u001b[0;34m()\u001b[0m\n\u001b[1;32m      2\u001b[0m \u001b[0;34m\u001b[0m\u001b[0m\n\u001b[1;32m      3\u001b[0m \u001b[0;31m# Create a Tkinter window\u001b[0m\u001b[0;34m\u001b[0m\u001b[0;34m\u001b[0m\u001b[0m\n\u001b[0;32m----> 4\u001b[0;31m \u001b[0mroot\u001b[0m \u001b[0;34m=\u001b[0m \u001b[0mtk\u001b[0m\u001b[0;34m.\u001b[0m\u001b[0mTk\u001b[0m\u001b[0;34m(\u001b[0m\u001b[0;34m)\u001b[0m\u001b[0;34m\u001b[0m\u001b[0;34m\u001b[0m\u001b[0m\n\u001b[0m\u001b[1;32m      5\u001b[0m \u001b[0mroot\u001b[0m\u001b[0;34m.\u001b[0m\u001b[0mtitle\u001b[0m\u001b[0;34m(\u001b[0m\u001b[0;34m\"Hello, World!\"\u001b[0m\u001b[0;34m)\u001b[0m\u001b[0;34m\u001b[0m\u001b[0;34m\u001b[0m\u001b[0m\n\u001b[1;32m      6\u001b[0m \u001b[0;34m\u001b[0m\u001b[0m\n",
            "\u001b[0;32m/usr/lib/python3.10/tkinter/__init__.py\u001b[0m in \u001b[0;36m__init__\u001b[0;34m(self, screenName, baseName, className, useTk, sync, use)\u001b[0m\n\u001b[1;32m   2297\u001b[0m                 \u001b[0mbaseName\u001b[0m \u001b[0;34m=\u001b[0m \u001b[0mbaseName\u001b[0m \u001b[0;34m+\u001b[0m \u001b[0mext\u001b[0m\u001b[0;34m\u001b[0m\u001b[0;34m\u001b[0m\u001b[0m\n\u001b[1;32m   2298\u001b[0m         \u001b[0minteractive\u001b[0m \u001b[0;34m=\u001b[0m \u001b[0;32mFalse\u001b[0m\u001b[0;34m\u001b[0m\u001b[0;34m\u001b[0m\u001b[0m\n\u001b[0;32m-> 2299\u001b[0;31m         \u001b[0mself\u001b[0m\u001b[0;34m.\u001b[0m\u001b[0mtk\u001b[0m \u001b[0;34m=\u001b[0m \u001b[0m_tkinter\u001b[0m\u001b[0;34m.\u001b[0m\u001b[0mcreate\u001b[0m\u001b[0;34m(\u001b[0m\u001b[0mscreenName\u001b[0m\u001b[0;34m,\u001b[0m \u001b[0mbaseName\u001b[0m\u001b[0;34m,\u001b[0m \u001b[0mclassName\u001b[0m\u001b[0;34m,\u001b[0m \u001b[0minteractive\u001b[0m\u001b[0;34m,\u001b[0m \u001b[0mwantobjects\u001b[0m\u001b[0;34m,\u001b[0m \u001b[0museTk\u001b[0m\u001b[0;34m,\u001b[0m \u001b[0msync\u001b[0m\u001b[0;34m,\u001b[0m \u001b[0muse\u001b[0m\u001b[0;34m)\u001b[0m\u001b[0;34m\u001b[0m\u001b[0;34m\u001b[0m\u001b[0m\n\u001b[0m\u001b[1;32m   2300\u001b[0m         \u001b[0;32mif\u001b[0m \u001b[0museTk\u001b[0m\u001b[0;34m:\u001b[0m\u001b[0;34m\u001b[0m\u001b[0;34m\u001b[0m\u001b[0m\n\u001b[1;32m   2301\u001b[0m             \u001b[0mself\u001b[0m\u001b[0;34m.\u001b[0m\u001b[0m_loadtk\u001b[0m\u001b[0;34m(\u001b[0m\u001b[0;34m)\u001b[0m\u001b[0;34m\u001b[0m\u001b[0;34m\u001b[0m\u001b[0m\n",
            "\u001b[0;31mTclError\u001b[0m: no display name and no $DISPLAY environment variable"
          ]
        }
      ]
    },
    {
      "cell_type": "markdown",
      "source": [
        "The issue with your code is that you're calling time.sleep(5) and exit() after root.mainloop(). The mainloop() method is a blocking call, which means that it will not return until the Tkinter window is closed. Therefore, the code after root.mainloop() will not be executed until the window is closed.\n",
        "\n",
        "If you want to close the window and exit the program after 5 seconds, you can use the after method to schedule a callback function to be called after a certain amount of time.***bold text***"
      ],
      "metadata": {
        "id": "jOSLQafhbyqr"
      }
    },
    {
      "cell_type": "markdown",
      "source": [
        "# ![Screenshot 2024-06-12 115359.png](data:image/png;base64,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)TKINTER\n",
        "Tkinter is the standard graphical user interface (GUI) library for Python, providing tools to create and manage GUI applications. It is included with the standard Python distribution, making it widely accessible\n",
        "\n",
        "To check if tkinter is installed correctly on your system, you can run the command python -m tkinter in your terminal or command prompt."
      ],
      "metadata": {
        "id": "3ZAnyNqROJF4"
      }
    },
    {
      "cell_type": "markdown",
      "source": [
        "#Basic Concepts and Terms"
      ],
      "metadata": {
        "id": "cHdGo76eOODj"
      }
    },
    {
      "cell_type": "markdown",
      "source": [
        "**Tkinter Module**: The module that you import in your Python script to use Tkinter functionalities. It acts as a wrapper around Tcl/Tk, a popular GUI toolkit."
      ],
      "metadata": {
        "id": "0OxaFI86OUgL"
      }
    },
    {
      "cell_type": "markdown",
      "source": [
        "**Tcl/Tk:**\n",
        "\n",
        "Tcl and Tk are fundamental components for building graphical interfaces. Tcl, known for its simplicity and integration capabilities, serves as the scripting language, while Tk provides a versatile toolkit for creating GUI elements like buttons and windows.\n",
        "\n",
        "Tkinter acts as the bridge between Python and Tcl/Tk, enabling developers to harness Tk's capabilities seamlessly within Python applications.\n",
        "\n",
        "Tkinter simplifies the process of GUI development, allowing users to focus on building engaging applications without getting bogged down in technical intricacies\n",
        "\n",
        "In Simpler Words\n",
        "\n",
        "Tcl is a special language that helps us talk to the computer, and Tk is like a big box of toys with all sorts of fun things we can use to make our pictures and buttons. Tkinter is like a special book that helps us use Tcl and Tk with our friend Python. With Tkinter, we can easily tell the computer what pictures and buttons we want, and it helps us show them on the screen. It's like playing with building blocks to create something fun! So, with Tkinter, we can make games, drawings, and other fun stuff on the computer, just like magic!\n",
        "\n",
        "Tcl is a scripting language, and Tk is a GUI toolkit."
      ],
      "metadata": {
        "id": "LiVPI6uYOf6I"
      }
    },
    {
      "cell_type": "markdown",
      "source": [
        "**Connection to Tkinter:**\n",
        "\n",
        "Tkinter: Tkinter (short for \"Tk interface\") is the standard Python binding to the Tk GUI toolkit. It allows Python developers to create graphical user interfaces by leveraging the capabilities of Tk.\n",
        "\n",
        "Python Wrapper: Tkinter acts as a wrapper around the Tcl/Tk libraries, enabling Python code to interact with Tk widgets and manage GUI elements.\n",
        "\n",
        "Integration: When you use Tkinter in a Python script, it translates Python function calls into Tcl/Tk commands. This integration allows Python applications to utilize the full power of the Tk toolkit."
      ],
      "metadata": {
        "id": "-rGdzROOOiCS"
      }
    },
    {
      "cell_type": "markdown",
      "source": [
        "**WIDGETS**\n",
        "\n",
        "These are the building blocks of a Tkinter GUI. Widgets are graphical components like buttons, labels, text boxes, etc.\n",
        "\n",
        "* *Label* : Displays text or images.\n",
        "* *Button* : A clickable button to perform actions.\n",
        "* *Entry* : A single-line text input field.\n",
        "* *Text* : A multi-line text input field.\n",
        "* *Frame* : A container to hold other widgets.\n",
        "* *Canvas* : A space for drawing shapes and images.\n",
        "\n",
        "\n",
        "\n"
      ],
      "metadata": {
        "id": "VAVNy6-9Oo1h"
      }
    },
    {
      "cell_type": "markdown",
      "source": [
        "**Geometry Managers:**\n",
        "\n",
        "Methods to control the layout of widgets within a container.\n",
        "\n",
        "\n",
        "*  *grid():* Organizes widgets in a table-like structure.\n",
        "*  *pack()*: Organizes widgets in blocks before placing them in the parent widget.\n",
        "* *place():* Places widgets at an absolute position you specify."
      ],
      "metadata": {
        "id": "jRC9y4vSO-b8"
      }
    },
    {
      "cell_type": "markdown",
      "source": [
        "**Events and Callbacks:**\n",
        "\n",
        "Events are actions like key presses or mouse clicks. You can bind events to specific functions (callbacks) that execute in response to these actions."
      ],
      "metadata": {
        "id": "MeBSTrJ0PPVZ"
      }
    },
    {
      "cell_type": "markdown",
      "source": [
        "**Mainloop:**\n",
        "\n",
        "The main loop that waits for events and updates the GUI. This keeps the application running.\n",
        "\n",
        "The mainloop() method is a blocking call, which means that it will not return until the Tkinter window is closed. Therefore, the code after root.mainloop() will not be executed until the window is closed.\n",
        "\n",
        "You can use the after method to schedule a callback function to be called after a certain amount of time."
      ],
      "metadata": {
        "id": "3YMnrt5qPScC"
      }
    },
    {
      "cell_type": "markdown",
      "source": [
        "**WHAT IF THERE IS A HEADLESS ENVIRONMENT**\n",
        "\n",
        "In a headless environment, where there is no physical display attached, using Tkinter directly to create graphical user interfaces may not be possible due to the lack of a graphical display to render the GUI. However, there are several approaches to work around this limitation and utilize Tkinter in headless environments:\n",
        "\n",
        "1. *Use Virtual Display :*  Utilize virtual display solutions like Xvfb (X Virtual Framebuffer) or PyVirtualDisplay to create a virtual display where Tkinter can render the GUI. This allows Tkinter to function as usual, even without a physical display attached.\n",
        "\n",
        "2. *Matplotlib Rendering :*  Instead of displaying Tkinter windows directly, render the GUI elements to images using Tkinter's `grab()` method or similar techniques. Then, use Matplotlib to display these images in a non-graphical manner, such as saving them to files or streaming them over a network connection.\n",
        "\n",
        "3. *Console Interface :*  Modify the application to provide a console-based interface using text-based widgets like `Text` or `Label`. While this approach doesn't offer the same level of interactivity as a graphical interface, it allows the application to function in a headless environment without requiring graphical rendering.\n",
        "\n",
        "4. *Headless Browser Testing :*  If the goal is to automate GUI interactions for testing purposes, consider using headless browser automation tools like Selenium WebDriver. These tools can interact with web-based GUIs generated by Tkinter applications running in a web server environment.\n",
        "\n",
        "5. *Remote Display :*  Run the Tkinter application on a separate machine with a graphical display and use remote desktop or virtual network computing (VNC) to access and interact with the application remotely from the headless environment.\n",
        "\n",
        "By considering these approaches, developers can adapt Tkinter applications to function effectively in headless environments, enabling a wide range of use cases beyond traditional graphical display scenarios."
      ],
      "metadata": {
        "id": "PjbJWZG8PeG2"
      }
    },
    {
      "cell_type": "markdown",
      "source": [
        "**How Tkinter Works**:\n",
        "\n",
        "*Initialization:* Tkinter initializes the Tcl interpreter.\n",
        "\n",
        "*Widget Creation:* Tkinter provides Python classes and functions corresponding to Tk widgets (e.g., Button, Label).\n",
        "\n",
        "*Event Loop:* The mainloop method starts the Tk event loop, which waits for user interactions and handles them as they occur.\n",
        "\n",
        "*Command Execution:* When an event occurs (e.g., button click), Tkinter translates it into a corresponding Tcl/Tk command, which the Tcl interpreter executes.\n",
        "\n",
        "*Updating GUI:* Changes made by Tcl commands are reflected in the GUI."
      ],
      "metadata": {
        "id": "ycFSjAoLPion"
      }
    },
    {
      "cell_type": "code",
      "source": [],
      "metadata": {
        "id": "zwvckUgXQHTW"
      },
      "execution_count": null,
      "outputs": []
    },
    {
      "cell_type": "code",
      "source": [
        "# Import the tkinter module, which is a Python binding to the Tk GUI toolkit.\n",
        "# We assign it the alias \"tk\" to make it easier to use.\n",
        "import tkinter as tk\n",
        "\n",
        "# Create a Tkinter window, which is the top-level widget of the Tkinter hierarchy.\n",
        "# This window will contain all the other widgets.\n",
        "root = tk.Tk()\n",
        "\n",
        "# Set the title of the window, which will appear in the title bar.\n",
        "root.title(\"Hello, World!\")\n",
        "\n",
        "# Create a Label widget, which displays a text or image on the screen.\n",
        "# We pass the parent widget (root) and the text to be displayed as arguments.\n",
        "label = tk.Label(root, text=\"Hello, World!\")\n",
        "\n",
        "# Use the pack() method to add the label to the window.\n",
        "# The pack() method is a layout manager that adds widgets to the window in a row or column.\n",
        "label.pack()\n",
        "\n",
        "# Create a Button widget, which is a clickable widget that performs an action when clicked.\n",
        "# We pass the parent widget (root) and the text to be displayed on the button as arguments.\n",
        "# We also specify a command to be executed when the button is clicked.\n",
        "# In this case, the command is a lambda function that prints \"Button clicked!\" to the console.\n",
        "button = tk.Button(root, text=\"Click me!\", command=lambda: print(\"Button clicked!\"))\n",
        "\n",
        "# Use the pack() method to add the button to the window.\n",
        "button.pack()\n",
        "\n",
        "# Create an Entry widget, which is a single-line text entry field.\n",
        "# We pass the parent widget (root) as an argument.\n",
        "entry = tk.Entry(root)\n",
        "\n",
        "# Use the pack() method to add the entry field to the window.\n",
        "entry.pack()\n",
        "\n",
        "# Create a Checkbutton widget, which is a checkbox that can be checked or unchecked.\n",
        "# We pass the parent widget (root) and the text to be displayed next to the checkbox as arguments.\n",
        "checkbutton = tk.Checkbutton(root, text=\"Check me!\")\n",
        "\n",
        "# Use the pack() method to add the checkbox to the window.\n",
        "checkbutton.pack()\n",
        "\n",
        "# Define a function that will be called after a certain amount of time.\n",
        "# This function will close the window and exit the program.\n",
        "def close_window():\n",
        "    # Call the destroy() method to close the window.\n",
        "    root.destroy()\n",
        "\n",
        "# Use the after() method to schedule the close_window() function to be called after 5000 milliseconds (5 seconds).\n",
        "# The after() method takes two arguments: the delay time in milliseconds, and the function to be called.\n",
        "root.after(5000, close_window)\n",
        "\n",
        "# Start the Tkinter event loop, which will run until the window is closed.\n",
        "# The mainloop() method is a blocking call, which means that it will not return until the window is closed.\n",
        "root.mainloop()"
      ],
      "metadata": {
        "collapsed": true,
        "id": "K95ILIDVNzyT"
      },
      "execution_count": null,
      "outputs": []
    },
    {
      "cell_type": "markdown",
      "source": [
        "[link text](https://![Screenshot 2024-06-12 115359.png](data:image/png;base64,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))"
      ],
      "metadata": {
        "id": "oItPKrHOQ2WZ"
      }
    },
    {
      "cell_type": "code",
      "source": [],
      "metadata": {
        "id": "o5odY1eZQqi6"
      },
      "execution_count": null,
      "outputs": []
    }
  ]
}