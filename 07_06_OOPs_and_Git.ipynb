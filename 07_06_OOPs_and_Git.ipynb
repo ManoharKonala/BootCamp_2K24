{
  "cells": [
    {
      "cell_type": "markdown",
      "metadata": {
        "colab_type": "text",
        "id": "view-in-github"
      },
      "source": [
        "<a href=\"https://colab.research.google.com/github/ManoharKonala/Python--Practice/blob/main/07_06_OOPs_and_Git.ipynb\" target=\"_parent\"><img src=\"https://colab.research.google.com/assets/colab-badge.svg\" alt=\"Open In Colab\"/></a>"
      ]
    },
    {
      "cell_type": "code",
      "execution_count": 1,
      "metadata": {
        "colab": {
          "base_uri": "https://localhost:8080/"
        },
        "id": "RlPXQFTFlcI2",
        "outputId": "57b67962-4de7-4ce4-a432-dc039d69054a"
      },
      "outputs": [
        {
          "name": "stdout",
          "output_type": "stream",
          "text": [
            "Cloning into 'Python--Practice'...\n",
            "remote: Enumerating objects: 11, done.\u001b[K\n",
            "remote: Counting objects: 100% (11/11), done.\u001b[K\n",
            "remote: Compressing objects: 100% (9/9), done.\u001b[K\n",
            "remote: Total 11 (delta 1), reused 0 (delta 0), pack-reused 0\u001b[K\n",
            "Receiving objects: 100% (11/11), 9.92 KiB | 1.24 MiB/s, done.\n",
            "Resolving deltas: 100% (1/1), done.\n"
          ]
        }
      ],
      "source": [
        "!git clone https://github.com/ManoharKonala/Python--Practice.git"
      ]
    },
    {
      "cell_type": "markdown",
      "metadata": {
        "id": "FuysRt79qaBV"
      },
      "source": [
        "OOPs(Object-Oreinted programming)\n"
      ]
    },
    {
      "cell_type": "markdown",
      "metadata": {
        "id": "msnWLeusqm0K"
      },
      "source": [
        "Class and Object"
      ]
    },
    {
      "cell_type": "code",
      "execution_count": 6,
      "metadata": {
        "colab": {
          "base_uri": "https://localhost:8080/"
        },
        "id": "j-wV7mP3mYNj",
        "outputId": "97606440-252b-47c6-f1cf-8f19a485e8b9"
      },
      "outputs": [
        {
          "name": "stdout",
          "output_type": "stream",
          "text": [
            "<__main__.Python_Practice object at 0x7bf89e96b8b0>\n",
            "None\n"
          ]
        }
      ],
      "source": [
        "# Class - Collection of objects,it combines data and function of the code\n",
        "# Object - Instance of a class\n",
        "class Python_Practice():\n",
        "  pass               ## we use '''PASS''' to avoid error for a empty class\n",
        "OBJ = Python_Practice()\n",
        "#creating object of class Python_Practice()\n",
        "print(OBJ)\n",
        "print(Python_Practice.__doc__)  #doc_string of the class\n",
        "#Object here is OBJ\n",
        "#Output will be the memory address of the object 'OBJ' as the class is empty...\n"
      ]
    },
    {
      "cell_type": "markdown",
      "metadata": {
        "id": "nrXIQRs5x4yL"
      },
      "source": [
        "METHODs\n"
      ]
    },
    {
      "cell_type": "code",
      "execution_count": 13,
      "metadata": {
        "colab": {
          "base_uri": "https://localhost:8080/"
        },
        "id": "D9bG2a9VzvPJ",
        "outputId": "dccd7c81-e7b8-4b8a-91f4-30e9c726a39c"
      },
      "outputs": [
        {
          "name": "stdout",
          "output_type": "stream",
          "text": [
            "The topic is OOPS and is done on day 7/6/24\n",
            "Hello,there this is Normal method\n"
          ]
        }
      ],
      "source": [
        "#There can be only ONE __INIT__ method as python does not support overloading.\n",
        "#Without SELF, the variables would be considered local to the method and not bound to the instance.\n",
        "#SELF should be first parameter and can be named as to our convinience..\n",
        "class PYTHON:\n",
        "  def __init__(self,topic,day):\n",
        "    self.topic=topic\n",
        "    self.day=day\n",
        "  def work(self):\n",
        "    return f\"The topic is {self.topic} and is done on day {self.day}\"\n",
        "check = PYTHON('OOPS','7/6/24')\n",
        "print(check.work())\n",
        "'''METHODS ARE FUNCTIONS INSIDE THE CLASS'''\n",
        "\n",
        "# 1. NORMAL METHOD\n",
        "''''methods which have access to the instance variables of the class'''\n",
        "class NORMAL:\n",
        "  def __init__(self,a,b):\n",
        "    self.a=a\n",
        "    self.b=b\n",
        "  def N(self):\n",
        "    return f\"{self.a},{self.b} this is Normal method\"\n",
        "Obj = NORMAL(\"Hello\",\"there\")\n",
        "print(Obj.N())\n",
        "\n",
        "\n",
        "\n"
      ]
    },
    {
      "cell_type": "code",
      "execution_count": 1,
      "metadata": {},
      "outputs": [
        {
          "name": "stdout",
          "output_type": "stream",
          "text": [
            "3\n"
          ]
        }
      ],
      "source": [
        "# 2. CLASS METHOD\n",
        "''''This method is bound to the whole class rather than a particular instance'''\n",
        "'''@classmethod-- a decorator used to define a method which operates on the \n",
        "class itself rather than a particular instance of the class.'''\n",
        "class CLASS():\n",
        "  count = 0  # Class attribute\n",
        "\n",
        "  def __init__(self, name):\n",
        "        self.name = name\n",
        "        CLASS.count += 1\n",
        "\n",
        "  @classmethod\n",
        "  def get_count(clss):\n",
        "        return clss.count\n",
        "\n",
        "# Creating instances\n",
        "obj1 = CLASS(\"T\")\n",
        "obj2 = CLASS(\"A\")\n",
        "obj3 = CLASS(\"N\")\n",
        "print(CLASS.get_count()) "
      ]
    },
    {
      "cell_type": "code",
      "execution_count": 2,
      "metadata": {},
      "outputs": [
        {
          "name": "stdout",
          "output_type": "stream",
          "text": [
            "133400\n",
            "1.1234\n"
          ]
        }
      ],
      "source": [
        "# 3. STATIC METHOD\n",
        "'''This method does not have access to the instance variables of the class'''\n",
        "''' @staticmethod-- a decorator used to define a method does not operate on \n",
        "instances of the class.'''\n",
        "class STATIC:\n",
        "  @staticmethod\n",
        "  def rupee_to_paisa(A):\n",
        "    return A*100\n",
        "\n",
        "  @staticmethod   \n",
        "  def paisa_to_rupee(B):\n",
        "    return B/100\n",
        "\n",
        "print(STATIC.rupee_to_paisa(1334))\n",
        "print(STATIC.paisa_to_rupee(112.34))"
      ]
    },
    {
      "cell_type": "markdown",
      "metadata": {},
      "source": [
        "SPECIAL METHODS"
      ]
    },
    {
      "cell_type": "code",
      "execution_count": 3,
      "metadata": {},
      "outputs": [
        {
          "name": "stdout",
          "output_type": "stream",
          "text": [
            "Adi 18 Blue\n",
            "Tej 18 Grey\n",
            "AG 18 Yellow\n"
          ]
        }
      ],
      "source": [
        "# 1. __init__ method\n",
        "'''' The init method initializes the object's attribute when an object is \n",
        "created'''\n",
        "## It is also called as a \"CONSTRUCTOR\".\n",
        "\n",
        "class Constructor():\n",
        "  def __init__(self,name,age,color_of_bag):\n",
        "    self.name=name \n",
        "    self.age=age\n",
        "    self.color_of_bag=color_of_bag\n",
        "\n",
        "student1 = Constructor(\"Adi\",18,\"Blue\")\n",
        "student2 = Constructor(\"Tej\",18,\"Grey\")\n",
        "student3 = Constructor(\"AG\",18,\"Yellow\")\n",
        "\n",
        "print(student1.name,student1.age,student1.color_of_bag) \n",
        "print(student2.name,student2.age,student2.color_of_bag)\n",
        "print(student3.name,student3.age,student3.color_of_bag)"
      ]
    },
    {
      "cell_type": "code",
      "execution_count": 4,
      "metadata": {},
      "outputs": [
        {
          "name": "stdout",
          "output_type": "stream",
          "text": [
            "Name: Adi --> Roll No: 1\n",
            "Name: Honey --> Roll No: 2\n",
            "Name: Akshith --> Roll No: 3\n"
          ]
        }
      ],
      "source": [
        "# 2. __str__ Method \n",
        "''''__str__ method is used to return a string representation of an object.'''\n",
        "''''It is automatically called when you try to convert an object to a string, \n",
        "for example, when you print an object.'''\n",
        "\n",
        "class STR_Method():\n",
        "  def __init__(self,name,roll_no):\n",
        "    self.name=name\n",
        "    self.roll_no=roll_no\n",
        "  def __str__(self):\n",
        "    return f\"Name: {self.name} --> Roll No: {self.roll_no}\"\n",
        "\n",
        "student1=STR_Method(\"Adi\",1)\n",
        "student2=STR_Method(\"Honey\",2)\n",
        "student3=STR_Method(\"Akshith\",3)\n",
        "\n",
        "\n",
        "print(student1)\n",
        "print(str(student2))\n",
        "print(student3)"
      ]
    },
    {
      "cell_type": "markdown",
      "metadata": {},
      "source": [
        "CONSTRUCTOR AND DECONSTRUCTOR"
      ]
    },
    {
      "cell_type": "code",
      "execution_count": 5,
      "metadata": {},
      "outputs": [
        {
          "name": "stdout",
          "output_type": "stream",
          "text": [
            "Earth\n",
            "M-class\n"
          ]
        }
      ],
      "source": [
        "''''CONSTRUCTOR'''\n",
        "# special method that is automatically initialized when an object of a class is \n",
        "# created.\n",
        "#the constructor method is named \"INIT\".\n",
        "\n",
        "class Planet:\n",
        "    def __init__(self, name, Class):\n",
        "        self.name = name\n",
        "        self.breed = Class\n",
        "My_Planet = Planet(\"Earth\", \"M-class\")\n",
        "print(My_Planet.name)\n",
        "print(My_Planet.breed)"
      ]
    },
    {
      "cell_type": "code",
      "execution_count": 6,
      "metadata": {},
      "outputs": [
        {
          "name": "stdout",
          "output_type": "stream",
          "text": [
            "Text 'data.txt' closed.\n"
          ]
        }
      ],
      "source": [
        "''''DECONSTRUCTOR'''\n",
        "# special method that is automatically called when an object of a class is \n",
        "# destroyed.\n",
        "# the deconstructor method is named \"DEL\".\n",
        "\n",
        "class Text:\n",
        "    def __init__(self, textname):\n",
        "        self.textname = textname\n",
        "        self.file = open(textname, 'w')\n",
        "\n",
        "    def __del__(self):\n",
        "        self.file.close()\n",
        "        print(f\"Text '{self.textname}' closed.\")\n",
        "\n",
        "my_file = Text(\"data.txt\")\n",
        "del my_file  # Triggers the deconstructor"
      ]
    },
    {
      "cell_type": "markdown",
      "metadata": {},
      "source": [
        "DATA ENCAPSULATION"
      ]
    },
    {
      "cell_type": "code",
      "execution_count": 7,
      "metadata": {},
      "outputs": [
        {
          "name": "stdout",
          "output_type": "stream",
          "text": [
            "Anwar\n",
            "30\n",
            "Bobby harsha\n",
            "25\n"
          ]
        }
      ],
      "source": [
        "'''' It is an essential part of  object-oriented programming that describes the\n",
        "the process of wrapping data and function that operate on data .'''\n",
        "# This restricts on accessing variables and methods directly..\n",
        "# A Class is an exmaple of encapsulation..\n",
        "\n",
        "class Person:\n",
        "    def __init__(self, name, age):\n",
        "        self.__name = name  \n",
        "        self.__age = age    \n",
        "\n",
        "    def get_name(self):\n",
        "        return self.__name\n",
        "    def set_name(self, name):\n",
        "        self.__name = name    \n",
        "    def get_age(self):\n",
        "        return self.__age\n",
        "    def set_age(self, age):\n",
        "        if age > 0:\n",
        "            self.__age = age\n",
        "        else:\n",
        "            raise ValueError(\"Age must be positive\")\n",
        "\n",
        "person = Person(\"Anwar\", 30)\n",
        "print(person.get_name())  \n",
        "print(person.get_age())   \n",
        "\n",
        "person.set_name(\"Bobby harsha\")\n",
        "person.set_age(25)\n",
        "\n",
        "print(person.get_name()) \n",
        "print(person.get_age())  \n",
        "\n",
        "\n"
      ]
    },
    {
      "cell_type": "markdown",
      "metadata": {},
      "source": [
        "Data Abstraction"
      ]
    },
    {
      "cell_type": "code",
      "execution_count": 8,
      "metadata": {},
      "outputs": [
        {
          "name": "stdout",
          "output_type": "stream",
          "text": [
            "TV is ON\n",
            "Volume: 11\n",
            "Channel: 45\n",
            "TV is OFF\n"
          ]
        }
      ],
      "source": [
        "'''''Data abstraction is another core concept of object-oriented programming (OOP) that \n",
        "focuses on exposing only the essential features and behaviors of an object while hiding \n",
        "the underlying implementation details.'''\n",
        "\n",
        "class TVRemote:\n",
        "    def __init__(self):\n",
        "        self.__volume = 10  # Private attribute\n",
        "        self.__channel = 1  # Private attribute\n",
        "        self.__is_on = False  # Private attribute\n",
        "\n",
        "    def power(self):\n",
        "        self.__is_on = not self.__is_on\n",
        "        state = \"ON\" if self.__is_on else \"OFF\"\n",
        "        print(f\"TV is {state}\")\n",
        "\n",
        "    def volume_up(self):\n",
        "        if self.__is_on and self.__volume < 100:\n",
        "            self.__volume += 1\n",
        "            print(f\"Volume: {self.__volume}\")\n",
        "\n",
        "    def volume_down(self):\n",
        "        if self.__is_on and self.__volume > 0:\n",
        "            self.__volume -= 1\n",
        "            print(f\"Volume: {self.__volume}\")\n",
        "\n",
        "    def change_channel(self, channel):\n",
        "        if self.__is_on and 1 <= channel <= 999:\n",
        "            self.__channel = channel\n",
        "            print(f\"Channel: {self.__channel}\")\n",
        "\n",
        "# Using the TVRemote class\n",
        "remote = TVRemote()\n",
        "remote.power()         # Output: TV is ON\n",
        "remote.volume_up()     # Output: Volume: 11\n",
        "remote.change_channel(45)  # Output: Channel: 45\n",
        "remote.power()         # Output: TV is OFF\n",
        "remote.volume_up()     # No output because TV is off\n"
      ]
    }
  ],
  "metadata": {
    "colab": {
      "authorship_tag": "ABX9TyOEoDEicOxu8HjjKLHUEZYn",
      "include_colab_link": true,
      "provenance": []
    },
    "kernelspec": {
      "display_name": "Python 3",
      "name": "python3"
    },
    "language_info": {
      "codemirror_mode": {
        "name": "ipython",
        "version": 3
      },
      "file_extension": ".py",
      "mimetype": "text/x-python",
      "name": "python",
      "nbconvert_exporter": "python",
      "pygments_lexer": "ipython3",
      "version": "3.11.9"
    }
  },
  "nbformat": 4,
  "nbformat_minor": 0
}
