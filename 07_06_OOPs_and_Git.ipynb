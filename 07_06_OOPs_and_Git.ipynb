{
  "cells": [
    {
      "cell_type": "markdown",
      "metadata": {
        "colab_type": "text",
        "id": "view-in-github"
      },
      "source": [
        "<a href=\"https://colab.research.google.com/github/ManoharKonala/Python--Practice/blob/main/07_06_OOPs_and_Git.ipynb\" target=\"_parent\"><img src=\"https://colab.research.google.com/assets/colab-badge.svg\" alt=\"Open In Colab\"/></a>"
      ]
    },
    {
      "cell_type": "code",
      "execution_count": 1,
      "metadata": {
        "colab": {
          "base_uri": "https://localhost:8080/"
        },
        "id": "RlPXQFTFlcI2",
        "outputId": "57b67962-4de7-4ce4-a432-dc039d69054a"
      },
      "outputs": [
        {
          "name": "stdout",
          "output_type": "stream",
          "text": [
            "Cloning into 'Python--Practice'...\n",
            "remote: Enumerating objects: 11, done.\u001b[K\n",
            "remote: Counting objects: 100% (11/11), done.\u001b[K\n",
            "remote: Compressing objects: 100% (9/9), done.\u001b[K\n",
            "remote: Total 11 (delta 1), reused 0 (delta 0), pack-reused 0\u001b[K\n",
            "Receiving objects: 100% (11/11), 9.92 KiB | 1.24 MiB/s, done.\n",
            "Resolving deltas: 100% (1/1), done.\n"
          ]
        }
      ],
      "source": [
        "!git clone https://github.com/ManoharKonala/Python--Practice.git"
      ]
    },
    {
      "cell_type": "markdown",
      "metadata": {
        "id": "FuysRt79qaBV"
      },
      "source": [
        "OOPs(Object-Oreinted programming)\n"
      ]
    },
    {
      "cell_type": "markdown",
      "metadata": {
        "id": "msnWLeusqm0K"
      },
      "source": [
        "Class and Object"
      ]
    },
    {
      "cell_type": "code",
      "execution_count": 6,
      "metadata": {
        "colab": {
          "base_uri": "https://localhost:8080/"
        },
        "id": "j-wV7mP3mYNj",
        "outputId": "97606440-252b-47c6-f1cf-8f19a485e8b9"
      },
      "outputs": [
        {
          "name": "stdout",
          "output_type": "stream",
          "text": [
            "<__main__.Python_Practice object at 0x7bf89e96b8b0>\n",
            "None\n"
          ]
        }
      ],
      "source": [
        "# Class - Collection of objects,it combines data and function of the code\n",
        "# Object - Instance of a class\n",
        "class Python_Practice():\n",
        "  pass               ## we use '''PASS''' to avoid error for a empty class\n",
        "OBJ = Python_Practice()\n",
        "#creating object of class Python_Practice()\n",
        "print(OBJ)\n",
        "print(Python_Practice.__doc__)  #doc_string of the class\n",
        "#Object here is OBJ\n",
        "#Output will be the memory address of the object 'OBJ' as the class is empty...\n"
      ]
    },
    {
      "cell_type": "markdown",
      "metadata": {
        "id": "nrXIQRs5x4yL"
      },
      "source": [
        "METHODs\n"
      ]
    },
    {
      "cell_type": "code",
      "execution_count": 13,
      "metadata": {
        "colab": {
          "base_uri": "https://localhost:8080/"
        },
        "id": "D9bG2a9VzvPJ",
        "outputId": "dccd7c81-e7b8-4b8a-91f4-30e9c726a39c"
      },
      "outputs": [
        {
          "name": "stdout",
          "output_type": "stream",
          "text": [
            "The topic is OOPS and is done on day 7/6/24\n",
            "Hello,there this is Normal method\n"
          ]
        }
      ],
      "source": [
        "#There can be only ONE __INIT__ method as python does not support overloading.\n",
        "#Without SELF, the variables would be considered local to the method and not bound to the instance.\n",
        "#SELF should be first parameter and can be named as to our convinience..\n",
        "class PYTHON:\n",
        "  def __init__(self,topic,day):\n",
        "    self.topic=topic\n",
        "    self.day=day\n",
        "  def work(self):\n",
        "    return f\"The topic is {self.topic} and is done on day {self.day}\"\n",
        "check = PYTHON('OOPS','7/6/24')\n",
        "print(check.work())\n",
        "'''METHODS ARE FUNCTIONS INSIDE THE CLASS'''\n",
        "\n",
        "# 1. NORMAL METHOD\n",
        "''''methods which have access to the instance variables of the class'''\n",
        "class NORMAL:\n",
        "  def __init__(self,a,b):\n",
        "    self.a=a\n",
        "    self.b=b\n",
        "  def N(self):\n",
        "    return f\"{self.a},{self.b} this is Normal method\"\n",
        "Obj = NORMAL(\"Hello\",\"there\")\n",
        "print(Obj.N())\n",
        "\n",
        "\n",
        "\n"
      ]
    },
    {
      "cell_type": "code",
      "execution_count": 1,
      "metadata": {},
      "outputs": [
        {
          "name": "stdout",
          "output_type": "stream",
          "text": [
            "3\n"
          ]
        }
      ],
      "source": [
        "# 2. CLASS METHOD\n",
        "''''This method is bound to the whole class rather than a particular instance'''\n",
        "'''@classmethod-- a decorator used to define a method which operates on the \n",
        "class itself rather than a particular instance of the class.'''\n",
        "class CLASS():\n",
        "  count = 0  # Class attribute\n",
        "\n",
        "  def __init__(self, name):\n",
        "        self.name = name\n",
        "        CLASS.count += 1\n",
        "\n",
        "  @classmethod\n",
        "  def get_count(clss):\n",
        "        return clss.count\n",
        "\n",
        "# Creating instances\n",
        "obj1 = CLASS(\"T\")\n",
        "obj2 = CLASS(\"A\")\n",
        "obj3 = CLASS(\"N\")\n",
        "print(CLASS.get_count()) "
      ]
    }
  ],
  "metadata": {
    "colab": {
      "authorship_tag": "ABX9TyOEoDEicOxu8HjjKLHUEZYn",
      "include_colab_link": true,
      "provenance": []
    },
    "kernelspec": {
      "display_name": "Python 3",
      "name": "python3"
    },
    "language_info": {
      "codemirror_mode": {
        "name": "ipython",
        "version": 3
      },
      "file_extension": ".py",
      "mimetype": "text/x-python",
      "name": "python",
      "nbconvert_exporter": "python",
      "pygments_lexer": "ipython3",
      "version": "3.11.9"
    }
  },
  "nbformat": 4,
  "nbformat_minor": 0
}
