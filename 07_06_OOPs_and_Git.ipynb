{
  "nbformat": 4,
  "nbformat_minor": 0,
  "metadata": {
    "colab": {
      "provenance": [],
      "authorship_tag": "ABX9TyOEoDEicOxu8HjjKLHUEZYn",
      "include_colab_link": true
    },
    "kernelspec": {
      "name": "python3",
      "display_name": "Python 3"
    },
    "language_info": {
      "name": "python"
    }
  },
  "cells": [
    {
      "cell_type": "markdown",
      "metadata": {
        "id": "view-in-github",
        "colab_type": "text"
      },
      "source": [
        "<a href=\"https://colab.research.google.com/github/ManoharKonala/Python--Practice/blob/main/07_06_OOPs_and_Git.ipynb\" target=\"_parent\"><img src=\"https://colab.research.google.com/assets/colab-badge.svg\" alt=\"Open In Colab\"/></a>"
      ]
    },
    {
      "cell_type": "code",
      "execution_count": 1,
      "metadata": {
        "colab": {
          "base_uri": "https://localhost:8080/"
        },
        "id": "RlPXQFTFlcI2",
        "outputId": "57b67962-4de7-4ce4-a432-dc039d69054a"
      },
      "outputs": [
        {
          "output_type": "stream",
          "name": "stdout",
          "text": [
            "Cloning into 'Python--Practice'...\n",
            "remote: Enumerating objects: 11, done.\u001b[K\n",
            "remote: Counting objects: 100% (11/11), done.\u001b[K\n",
            "remote: Compressing objects: 100% (9/9), done.\u001b[K\n",
            "remote: Total 11 (delta 1), reused 0 (delta 0), pack-reused 0\u001b[K\n",
            "Receiving objects: 100% (11/11), 9.92 KiB | 1.24 MiB/s, done.\n",
            "Resolving deltas: 100% (1/1), done.\n"
          ]
        }
      ],
      "source": [
        "!git clone https://github.com/ManoharKonala/Python--Practice.git"
      ]
    },
    {
      "cell_type": "markdown",
      "source": [
        "OOPs(Object-Oreinted programming)\n"
      ],
      "metadata": {
        "id": "FuysRt79qaBV"
      }
    },
    {
      "cell_type": "markdown",
      "source": [
        "Class and Object"
      ],
      "metadata": {
        "id": "msnWLeusqm0K"
      }
    },
    {
      "cell_type": "code",
      "source": [
        "# Class - Collection of objects,it combines data and function of the code\n",
        "# Object - Instance of a class\n",
        "class Python_Practice():\n",
        "  pass               ## we use '''PASS''' to avoid error for a empty class\n",
        "OBJ = Python_Practice()\n",
        "#creating object of class Python_Practice()\n",
        "print(OBJ)\n",
        "print(Python_Practice.__doc__)  #doc_string of the class\n",
        "#Object here is OBJ\n",
        "#Output will be the memory address of the object 'OBJ' as the class is empty...\n"
      ],
      "metadata": {
        "colab": {
          "base_uri": "https://localhost:8080/"
        },
        "id": "j-wV7mP3mYNj",
        "outputId": "97606440-252b-47c6-f1cf-8f19a485e8b9"
      },
      "execution_count": 6,
      "outputs": [
        {
          "output_type": "stream",
          "name": "stdout",
          "text": [
            "<__main__.Python_Practice object at 0x7bf89e96b8b0>\n",
            "None\n"
          ]
        }
      ]
    },
    {
      "cell_type": "markdown",
      "source": [
        "METHODs\n"
      ],
      "metadata": {
        "id": "nrXIQRs5x4yL"
      }
    },
    {
      "cell_type": "code",
      "source": [
        "#There can be only ONE __INIT__ method as python does not support overloading.\n",
        "#Without SELF, the variables would be considered local to the method and not bound to the instance.\n",
        "#SELF should be first parameter and can be named as to our convinience..\n",
        "class PYTHON:\n",
        "  def __init__(self,topic,day):\n",
        "    self.topic=topic\n",
        "    self.day=day\n",
        "  def work(self):\n",
        "    return f\"The topic is {self.topic} and is done on day {self.day}\"\n",
        "check = PYTHON('OOPS','7/6/24')\n",
        "print(check.work())\n",
        "'''METHODS ARE FUNCTIONS INSIDE THE CLASS'''\n",
        "\n",
        "# 1. NORMAL METHOD\n",
        "''''methods which have access to the instance variables of the class'''\n",
        "class NORMAL:\n",
        "  def __init__(self,a,b):\n",
        "    self.a=a\n",
        "    self.b=b\n",
        "  def N(self):\n",
        "    return f\"{self.a},{self.b} this is Normal method\"\n",
        "Obj = NORMAL(\"Hello\",\"there\")\n",
        "print(Obj.N())\n",
        "\n",
        "\n",
        "\n"
      ],
      "metadata": {
        "colab": {
          "base_uri": "https://localhost:8080/"
        },
        "id": "D9bG2a9VzvPJ",
        "outputId": "dccd7c81-e7b8-4b8a-91f4-30e9c726a39c"
      },
      "execution_count": 13,
      "outputs": [
        {
          "output_type": "stream",
          "name": "stdout",
          "text": [
            "The topic is OOPS and is done on day 7/6/24\n",
            "Hello,there this is Normal method\n"
          ]
        }
      ]
    }
  ]
}