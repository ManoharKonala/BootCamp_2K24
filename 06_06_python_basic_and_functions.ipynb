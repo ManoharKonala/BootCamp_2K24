{
  "nbformat": 4,
  "nbformat_minor": 0,
  "metadata": {
    "colab": {
      "provenance": [],
      "authorship_tag": "ABX9TyO52yh9XoW09OD44bgiaeaH",
      "include_colab_link": true
    },
    "kernelspec": {
      "name": "python3",
      "display_name": "Python 3"
    },
    "language_info": {
      "name": "python"
    }
  },
  "cells": [
    {
      "cell_type": "markdown",
      "metadata": {
        "id": "view-in-github",
        "colab_type": "text"
      },
      "source": [
        "<a href=\"https://colab.research.google.com/github/ManoharKonala/Python--Practice/blob/main/06_06_python_basic_and_functions.ipynb\" target=\"_parent\"><img src=\"https://colab.research.google.com/assets/colab-badge.svg\" alt=\"Open In Colab\"/></a>"
      ]
    },
    {
      "cell_type": "code",
      "execution_count": null,
      "metadata": {
        "colab": {
          "base_uri": "https://localhost:8080/"
        },
        "id": "sKvey7hNtrxz",
        "outputId": "75d5c5b9-f215-4b65-8285-d1fa67710fcd"
      },
      "outputs": [
        {
          "output_type": "stream",
          "name": "stdout",
          "text": [
            "Cloning into 'Python--Practice'...\n",
            "warning: You appear to have cloned an empty repository.\n"
          ]
        }
      ],
      "source": [
        "!git clone https://github.com/ManoharKonala/Python--Practice.git"
      ]
    },
    {
      "cell_type": "markdown",
      "source": [
        "INPUT AND OUTPUT"
      ],
      "metadata": {
        "id": "Ql2lqDpBvrJB"
      }
    },
    {
      "cell_type": "code",
      "source": [
        "INPUT = input(\"Enter: \")\n",
        "print(\"Welcome,\", INPUT)"
      ],
      "metadata": {
        "colab": {
          "base_uri": "https://localhost:8080/"
        },
        "id": "KzVinJ60u8yv",
        "outputId": "46fb7d22-5faa-48bd-8809-1be1b12a0eb0"
      },
      "execution_count": null,
      "outputs": [
        {
          "output_type": "stream",
          "name": "stdout",
          "text": [
            "Enter: This is Python Basics and Functions\n",
            "Welcome, This is Python Basics and Functions\n"
          ]
        }
      ]
    },
    {
      "cell_type": "markdown",
      "source": [
        "Data Types\n"
      ],
      "metadata": {
        "id": "YqoUlm_AwvXu"
      }
    },
    {
      "cell_type": "code",
      "source": [
        "INT_NUM=12\n",
        "float_NUM=2.3453\n",
        "complex_NUM=5+4j\n",
        "STRING=\"WELCOME\"\n",
        "boolean_= True\n",
        "print(type(INT_NUM))\n",
        "print(type(float_NUM))\n",
        "print(type(STRING))\n",
        "print(type(complex_NUM))\n",
        "print(type(boolean_))"
      ],
      "metadata": {
        "colab": {
          "base_uri": "https://localhost:8080/"
        },
        "id": "-X2JZDBzvl3V",
        "outputId": "0bcb2ba2-8201-41b4-b90a-fd4d985dd78e"
      },
      "execution_count": null,
      "outputs": [
        {
          "output_type": "stream",
          "name": "stdout",
          "text": [
            "<class 'int'>\n",
            "<class 'float'>\n",
            "<class 'str'>\n",
            "<class 'complex'>\n",
            "<class 'bool'>\n"
          ]
        }
      ]
    },
    {
      "cell_type": "code",
      "source": [
        "list_ = [1, 2, 3, 4, 5]\n",
        "tuple_ = (1, 2, 3, 4, 5)\n",
        "dictionary_ = {\"2\": 4, \"3\": 9}\n",
        "set_ = {1, 2, 3, 4, 5}\n",
        "print(type(list_))\n",
        "print(type(tuple_))\n",
        "print(type(dictionary_))\n",
        "print(type(set_))"
      ],
      "metadata": {
        "colab": {
          "base_uri": "https://localhost:8080/"
        },
        "id": "VFi5KRqRyWzS",
        "outputId": "3f3455c9-2834-46e3-d780-eec3399381ba"
      },
      "execution_count": null,
      "outputs": [
        {
          "output_type": "stream",
          "name": "stdout",
          "text": [
            "<class 'list'>\n",
            "<class 'tuple'>\n",
            "<class 'dict'>\n",
            "<class 'set'>\n"
          ]
        }
      ]
    },
    {
      "cell_type": "markdown",
      "source": [
        "Expressions and Operators"
      ],
      "metadata": {
        "id": "IglJCVX1y9Ov"
      }
    },
    {
      "cell_type": "code",
      "source": [
        "A=4\n",
        "B=9\n",
        "''''Arithemtic Operators'''\n",
        "print(A+B) #ADDITION\n",
        "print(A-B) #SUBTRACTION\n",
        "print(A*B) #MULTIPLICATION\n",
        "print(A/B) #DIVISION\n",
        "print(A//B) #FLOOR DIVISION\n",
        "print(A%B)  #MODULUS\n",
        "print(A**B) #EXPONENT\n",
        "''''Comparison Operators'''\n",
        "print(A == B) # Equal to\n",
        "print(A != B) # Not equal to\n",
        "print(A > B)  # Greater than\n",
        "print(A < B)  # Less than\n",
        "print(A >= B) # Greater than or equal to\n",
        "print(A <= B) # Less than or equal to"
      ],
      "metadata": {
        "colab": {
          "base_uri": "https://localhost:8080/"
        },
        "id": "NEa2GonDy6s0",
        "outputId": "b9f4d81b-ba0c-42be-cb46-e46bc09a27f0"
      },
      "execution_count": null,
      "outputs": [
        {
          "output_type": "stream",
          "name": "stdout",
          "text": [
            "13\n",
            "-5\n",
            "36\n",
            "0.4444444444444444\n",
            "0\n",
            "4\n",
            "262144\n",
            "False\n",
            "True\n",
            "False\n",
            "True\n",
            "False\n",
            "True\n"
          ]
        }
      ]
    },
    {
      "cell_type": "markdown",
      "source": [
        "Type Casting"
      ],
      "metadata": {
        "id": "tMSJjFIZ0V27"
      }
    },
    {
      "cell_type": "code",
      "source": [
        "a=int(64)\n",
        "b=float(64.45)\n",
        "c=str(81)\n",
        "d=list(\"list\")\n",
        "e=tuple([1,24,43])\n",
        "f=set([1,2,4,5654,5])\n",
        "print(a,b,c)\n",
        "print(d,e,f)"
      ],
      "metadata": {
        "colab": {
          "base_uri": "https://localhost:8080/"
        },
        "id": "W2ztVe660X53",
        "outputId": "bba047ce-862d-4db3-f6ee-652acf0ff406"
      },
      "execution_count": null,
      "outputs": [
        {
          "output_type": "stream",
          "name": "stdout",
          "text": [
            "64 64.45 81\n",
            "['l', 'i', 's', 't'] (1, 24, 43) {1, 2, 4, 5, 5654}\n"
          ]
        }
      ]
    },
    {
      "cell_type": "markdown",
      "source": [
        "Conditional Statements"
      ],
      "metadata": {
        "id": "vVIrJtf-02uI"
      }
    },
    {
      "cell_type": "code",
      "source": [
        "#IF Statement: Executes the block if the condition is true\n",
        "#ELIF: Checks another condition if the previous one is false\n",
        "#ELSE: Executes the block if all the conditions are false\n",
        "A = int(input(\"Enter a number: \"))\n",
        "B = int(input(\"Enter another number: \"))\n",
        "if A > B:\n",
        "  print(\"A is greater than B\")\n",
        "elif A == B:\n",
        "  print(\"A is equal to B\")\n",
        "else:\n",
        "  print(\"A is less than B\")"
      ],
      "metadata": {
        "colab": {
          "base_uri": "https://localhost:8080/"
        },
        "id": "uZoLTjCe05RZ",
        "outputId": "a56f85bb-e448-43bb-a420-db710a66f46a"
      },
      "execution_count": null,
      "outputs": [
        {
          "output_type": "stream",
          "name": "stdout",
          "text": [
            "Enter a number: 81\n",
            "Enter another number: 256\n",
            "A is less than B\n"
          ]
        }
      ]
    },
    {
      "cell_type": "markdown",
      "source": [
        "Looping Statements\n"
      ],
      "metadata": {
        "id": "zPI4VDrk2km3"
      }
    },
    {
      "cell_type": "code",
      "source": [
        "#FOR LOOP : Checks another condition if the previous one is false\n",
        "#WHILE LOOP: Executes the block if the condition is true\n",
        "Numbers = [1, 2, 3, 4, 5]\n",
        "for num in Numbers:\n",
        "    print(num,end=\" \")\n",
        "\n",
        "print(\"\\n\")\n",
        "\n",
        "count = 1\n",
        "while count <= 5:\n",
        "    print(count,end=\" \")\n",
        "    count += 1"
      ],
      "metadata": {
        "colab": {
          "base_uri": "https://localhost:8080/"
        },
        "id": "zvkuz2n72o2y",
        "outputId": "69acae0d-994d-454a-ef0d-31448aeeb00e"
      },
      "execution_count": null,
      "outputs": [
        {
          "output_type": "stream",
          "name": "stdout",
          "text": [
            "1 2 3 4 5 \n",
            "\n",
            "1 2 3 4 5 "
          ]
        }
      ]
    },
    {
      "cell_type": "markdown",
      "source": [
        "Special Functions"
      ],
      "metadata": {
        "id": "iyR7v2Ut35Hn"
      }
    },
    {
      "cell_type": "code",
      "source": [
        "K = [1,2,3,4,5,6,7,8]\n",
        "\n",
        "# len()\n",
        "print(len(K)) #Length of the list\n",
        "# id()\n",
        "print(id(K)) #Returns the unique identifier (memory address) of an object.\n",
        "# range()\n",
        "for i in range(5):\n",
        "    print(i)\n",
        "#Size\n",
        "print(\"size\",len(K))\n",
        "#Max value\n",
        "print(\"maximum value\",max(K))\n",
        "#Min value\n",
        "print(\"minimum value\",min(K))\n",
        "#Sort\n",
        "print(\"sorted list\",sorted(K))\n",
        "#Type()\n",
        "print(type(K))\n",
        "\n"
      ],
      "metadata": {
        "colab": {
          "base_uri": "https://localhost:8080/"
        },
        "id": "-WiCUNGj4MbE",
        "outputId": "17f7e3db-0277-440e-d700-fe3f927b962d"
      },
      "execution_count": null,
      "outputs": [
        {
          "output_type": "stream",
          "name": "stdout",
          "text": [
            "8\n",
            "139824385170624\n",
            "0\n",
            "1\n",
            "2\n",
            "3\n",
            "4\n",
            "size 8\n",
            "maximum value 8\n",
            "minimum value 1\n",
            "sorted list [1, 2, 3, 4, 5, 6, 7, 8]\n",
            "<class 'list'>\n"
          ]
        }
      ]
    }
  ]
}