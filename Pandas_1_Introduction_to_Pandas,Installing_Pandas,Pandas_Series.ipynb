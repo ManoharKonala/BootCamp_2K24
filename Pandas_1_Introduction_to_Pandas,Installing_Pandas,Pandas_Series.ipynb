{
  "nbformat": 4,
  "nbformat_minor": 0,
  "metadata": {
    "colab": {
      "provenance": [],
      "authorship_tag": "ABX9TyOgtBl1Caej3H/INootZlpa",
      "include_colab_link": true
    },
    "kernelspec": {
      "name": "python3",
      "display_name": "Python 3"
    },
    "language_info": {
      "name": "python"
    }
  },
  "cells": [
    {
      "cell_type": "markdown",
      "metadata": {
        "id": "view-in-github",
        "colab_type": "text"
      },
      "source": [
        "<a href=\"https://colab.research.google.com/github/ManoharKonala/BootCamp_2K24/blob/main/Pandas_1_Introduction_to_Pandas%2CInstalling_Pandas%2CPandas_Series.ipynb\" target=\"_parent\"><img src=\"https://colab.research.google.com/assets/colab-badge.svg\" alt=\"Open In Colab\"/></a>"
      ]
    },
    {
      "cell_type": "code",
      "source": [
        "!git clone https://github.com/ManoharKonala/BootCamp_2K24.git"
      ],
      "metadata": {
        "colab": {
          "base_uri": "https://localhost:8080/"
        },
        "id": "LsmbnDrakEgp",
        "outputId": "5a99dad7-62ff-40e5-ca8d-539509bcd6fe"
      },
      "execution_count": 24,
      "outputs": [
        {
          "output_type": "stream",
          "name": "stdout",
          "text": [
            "Cloning into 'BootCamp_2K24'...\n",
            "remote: Enumerating objects: 255, done.\u001b[K\n",
            "remote: Counting objects: 100% (146/146), done.\u001b[K\n",
            "remote: Compressing objects: 100% (121/121), done.\u001b[K\n",
            "remote: Total 255 (delta 87), reused 56 (delta 25), pack-reused 109\u001b[K\n",
            "Receiving objects: 100% (255/255), 331.77 KiB | 7.06 MiB/s, done.\n",
            "Resolving deltas: 100% (123/123), done.\n"
          ]
        }
      ]
    },
    {
      "cell_type": "markdown",
      "source": [
        "#**What is Data Manipulation?**\n",
        "Data manipulation involves transforming, cleaning, and restructuring data to make it usable for analysis and modeling. This process includes a variety of tasks such as:\n",
        "\n",
        "* **Cleaning:** Removing or correcting errors, inconsistencies, and missing values in the data.\n",
        "* **Transforming:** Changing the format or structure of the data to make it more suitable for analysis.\n",
        "* **Reshaping:** Adjusting the data layout, for example, pivoting or unpivoting data tables.\n",
        "* **Aggregating:** Summarizing data by grouping and applying aggregate functions like sum, mean, or count.\n",
        "* **Merging:** Combining multiple datasets into a single dataset.\n"
      ],
      "metadata": {
        "id": "dV2zDPjIT4lE"
      }
    },
    {
      "cell_type": "markdown",
      "source": [
        "#**Importance of Data Manipulation in Data Science and Analysis**\n",
        " **1. Data Quality**\n",
        "* Raw Data Issues: Raw data often contains errors, inconsistencies, and missing values. These issues can arise from data entry mistakes, sensor errors, or incomplete data collection.\n",
        "* Cleaning and Validation: Data manipulation allows you to identify and correct these issues, ensuring the data is accurate and reliable for analysis.\n",
        "\n",
        "**2. Data Reshaping**\n",
        "* Inappropriate Formats: Data might not always be in the right format for analysis or modeling. For instance, you might have data spread across multiple tables or in a format that is not suitable for the analysis you want to perform.\n",
        "* Reshaping for Analysis: Data manipulation helps you transform and restructure the data into a format that is more suitable for specific analytical tasks, such as merging datasets, creating pivot tables, or reshaping data from wide to long format.\n",
        "\n",
        "**3. Feature Engineering**\n",
        "* Creating New Features: Feature engineering involves creating new features or variables from existing data to improve model performance in machine learning.\n",
        "* Enhancing Model Accuracy: Data manipulation is essential for generating these new features, which can capture additional patterns and relationships in the data that the original features might miss.\n",
        "\n",
        "**4. Exploration and Visualization**\n",
        "* Preparation for EDA: Exploratory Data Analysis (EDA) involves visualizing and summarizing the main characteristics of a dataset.\n",
        "* Visualizing Patterns: By manipulating the data, you can create visualizations and summary statistics that help you understand patterns, trends, and relationships in the data, making it easier to generate insights and hypotheses."
      ],
      "metadata": {
        "id": "MJAmD58cUcGr"
      }
    },
    {
      "cell_type": "markdown",
      "source": [
        "# **Pandas: A Library for Handling Structured Data in Python**\n",
        "\n",
        "- **Powerful and Versatile:** Specifically designed for data manipulation and analysis.\n",
        "- **Efficient Data Structures:** Handles tabular data (like Excel or SQL tables) and time series data.\n",
        "- **Core Components:**\n",
        "  - **DataFrame:** 2D labeled data structure, similar to a table.\n",
        "  - **Series:** 1D labeled array, capable of holding any data type.\n",
        "- **Wide Range of Functionalities:**\n",
        "  - Data cleaning\n",
        "  - Data transformation\n",
        "  - Merging and joining datasets\n",
        "  - Handling missing data\n",
        "  - Performing group operations\n",
        "- **Seamless Integration:** Works well with other popular Python libraries like NumPy, SciPy, and matplotlib.\n",
        "- **Essential Tool:** Indispensable for data scientists and analysts for processing, analyzing, and visualizing structured data.\n",
        "\n"
      ],
      "metadata": {
        "id": "kQFb9UQ4WdTy"
      }
    },
    {
      "cell_type": "markdown",
      "source": [
        "# Benefits of Using Pandas for Data Cleaning and Analysis\n",
        "\n",
        "- **Ease of Use:**\n",
        "  - Simple and intuitive API.\n",
        "  - Easy to load, manipulate, and analyze data with DataFrames and Series.\n",
        "\n",
        "- **Flexibility:**\n",
        "  - Wide range of functionalities for various data manipulation needs.\n",
        "  - Suitable for data cleaning, EDA, and building machine learning models.\n",
        "\n",
        "- **Handling Large Datasets:**\n",
        "  - Efficiently handles large datasets.\n",
        "  - Optimizes memory usage and improves processing speed.\n",
        "\n",
        "- **Comprehensive Data Cleaning:**\n",
        "  - Handles missing values, removes duplicates, and standardizes data formats.\n",
        "  - Ensures data quality and prepares raw data for analysis.\n",
        "\n",
        "- **Advanced Data Analysis:**\n",
        "  - Performs complex operations like group-by, rolling statistics, and multi-level indexing.\n",
        "  - Enables in-depth data analysis and extraction of valuable insights.\n",
        "\n",
        "- **Integration with Other Libraries:**\n",
        "  - Works well with NumPy, SciPy, and matplotlib.\n",
        "  - Enhances capabilities and allows for seamless workflows in data science projects.\n",
        "\n",
        "- **Rich Functionality for Time Series Analysis:**\n",
        "  - Tools for date range generation, frequency conversion, and time series-specific operations.\n",
        "  - Ideal for financial data analysis and other time-stamped data applications.\n",
        "\n",
        "- **Built-in Data Visualization:**\n",
        "  - Quick creation of basic visualizations directly from DataFrames and Series.\n",
        "  - Complements specialized visualization libraries like matplotlib and seaborn."
      ],
      "metadata": {
        "id": "zV9XCxE4WjNU"
      }
    },
    {
      "cell_type": "markdown",
      "source": [
        "# Installing Pandas Locally\n",
        "* You can install Pandas using pip from the command line.\n",
        "\n",
        "# Command to install Pandas\n",
        "pip install pandas\n",
        "\n",
        "# Command to install Pandas with Python 3\n",
        "* pip3 install pandas\n",
        "\n",
        "# Installing Pandas in a Virtual Environment\n",
        "* Create a new virtual environment (e.g., named 'myenv')\n",
        "\n",
        "* python -m venv myenv\n",
        "\n",
        " Activate the virtual environment\n",
        "\n",
        "**Windows**\n",
        " * myenv\\Scripts\\activate\n",
        "\n",
        "**macOS/Linux**\n",
        " * source myenv/bin/activate\n",
        "\n",
        "\n",
        "# Install Pandas within a Jupyter notebook\n",
        "!pip install pandas"
      ],
      "metadata": {
        "id": "9pY1BocPahBU"
      }
    },
    {
      "cell_type": "markdown",
      "source": [
        "# PANDAS SERIES\n",
        "* A Pandas Series is a one-dimensional labeled array capable of holding any data type. It is similar to a column in a DataFrame or an array in NumPy but comes with additional features like labeling and built-in methods for data manipulation."
      ],
      "metadata": {
        "id": "DHJAgMyId3BK"
      }
    },
    {
      "cell_type": "markdown",
      "source": [
        "**From List**"
      ],
      "metadata": {
        "id": "m_g2XyNNd56N"
      }
    },
    {
      "cell_type": "code",
      "execution_count": 4,
      "metadata": {
        "colab": {
          "base_uri": "https://localhost:8080/"
        },
        "id": "a_qabw2UT2hc",
        "outputId": "016c8a77-9e83-4e63-d39c-790247447626"
      },
      "outputs": [
        {
          "output_type": "stream",
          "name": "stdout",
          "text": [
            "0    10\n",
            "1    20\n",
            "2    30\n",
            "3    40\n",
            "4    50\n",
            "dtype: int64 \n",
            "\n",
            "a    10\n",
            "b    20\n",
            "c    30\n",
            "d    40\n",
            "e    50\n",
            "dtype: int64\n"
          ]
        }
      ],
      "source": [
        "import pandas as pd\n",
        "my_list = [120, 240, 340, 460, 560]\n",
        "my_series = pd.Series(my_list)\n",
        "print(my_series,\"\\n\")\n",
        "\n",
        "# with a index\n",
        "My_series = pd.Series(my_list,index=(\"a\",\"b\",\"c\",\"d\",\"e\"))\n",
        "print(My_series)\n"
      ]
    },
    {
      "cell_type": "markdown",
      "source": [
        "**From Arrays**"
      ],
      "metadata": {
        "id": "yeyXkgBhfTma"
      }
    },
    {
      "cell_type": "code",
      "source": [
        "import numpy as np\n",
        "arr = np.array([120, 240, 340, 460, 560])\n",
        "my_series = pd.Series(arr)\n",
        "print(my_series,\"\\n\")\n",
        "\n",
        "# with a index\n",
        "My_series = pd.Series(arr,index=(\"a\",\"b\",\"c\",\"d\",\"e\"))\n",
        "print(My_series)"
      ],
      "metadata": {
        "colab": {
          "base_uri": "https://localhost:8080/"
        },
        "id": "Bq0SnMDcfawz",
        "outputId": "932be7d6-3d58-40d9-a7e7-d1169cfd2ba3"
      },
      "execution_count": 8,
      "outputs": [
        {
          "output_type": "stream",
          "name": "stdout",
          "text": [
            "0    120\n",
            "1    240\n",
            "2    340\n",
            "3    460\n",
            "4    560\n",
            "dtype: int64 \n",
            "\n",
            "a    120\n",
            "b    240\n",
            "c    340\n",
            "d    460\n",
            "e    560\n",
            "dtype: int64\n"
          ]
        }
      ]
    },
    {
      "cell_type": "markdown",
      "source": [
        "**From Dictionary**"
      ],
      "metadata": {
        "id": "4HPEYsVLf2z2"
      }
    },
    {
      "cell_type": "code",
      "source": [
        "dict = {\"a\":120,\"b\":240,\"c\":340,\"d\":460,\"e\":560}\n",
        "my_series = pd.Series(dict)\n",
        "print(my_series,\"\\n\")\n",
        "\n",
        "# With index\n",
        "My_series = pd.Series(dict,index=(\"a\",\"b\",\"c\",\"d\",\"e\"))\n",
        "print(My_series)"
      ],
      "metadata": {
        "colab": {
          "base_uri": "https://localhost:8080/"
        },
        "id": "yJBT92Tof2hX",
        "outputId": "de05ee3c-4269-4f2e-85cf-31bf2cb7c845"
      },
      "execution_count": 13,
      "outputs": [
        {
          "output_type": "stream",
          "name": "stdout",
          "text": [
            "a    120\n",
            "b    240\n",
            "c    340\n",
            "d    460\n",
            "e    560\n",
            "dtype: int64 \n",
            "\n",
            "a    120\n",
            "b    240\n",
            "c    340\n",
            "d    460\n",
            "e    560\n",
            "dtype: int64\n"
          ]
        }
      ]
    },
    {
      "cell_type": "markdown",
      "source": [
        "# Exploring Series Attributes\n",
        "**Common Attributes**\n",
        "* s.index: Returns the index labels of the Series.\n",
        "* s.values: Returns the underlying values in the Series as a NumPy array.\n",
        "* s.dtype: Provides the data type of the Series elements.\n",
        "* s.size: Returns the number of elements in the Series."
      ],
      "metadata": {
        "id": "eg02xmbVhD2Y"
      }
    },
    {
      "cell_type": "code",
      "source": [
        "my_list = [120, 240, 340, 460, 560]\n",
        "my_series = pd.Series(my_list)\n",
        "print(my_series.index)\n",
        "print(my_series.values)\n",
        "print(my_series.dtype)\n",
        "print(my_series.size)\n"
      ],
      "metadata": {
        "colab": {
          "base_uri": "https://localhost:8080/"
        },
        "id": "p4R1I-TrhNdT",
        "outputId": "83e8db64-09b1-4b65-dfc0-8df2e8f548d4"
      },
      "execution_count": 15,
      "outputs": [
        {
          "output_type": "stream",
          "name": "stdout",
          "text": [
            "RangeIndex(start=0, stop=5, step=1)\n",
            "[120 240 340 460 560]\n",
            "int64\n",
            "5\n"
          ]
        }
      ]
    },
    {
      "cell_type": "markdown",
      "source": [
        "**Common Methods**\n",
        "Pandas Series methods allow you to perform various operations, including arithmetic, data manipulation, and indexing.\n",
        "\n",
        "* s.head(n): Returns the first n elements of the Series.\n",
        "* s.tail(n): Returns the last n elements.\n",
        "* s.sort_values(): Sorts the Series by its values.\n",
        "* s.mean(), s.median(), s.std(): Compute common statistics.\n",
        "* s.str: Provides string manipulation methods if the Series contains string data.\n",
        "* s.apply(func): Applies a function to each element in the Series."
      ],
      "metadata": {
        "id": "RPHIgIV-iJ2n"
      }
    },
    {
      "cell_type": "code",
      "source": [
        "my_list = [120, 2400, 340, 40,0]\n",
        "my_series = pd.Series(my_list)\n",
        "\n",
        "Another_list = [\"raju\",\"ante\",\"rebel\",\"aa\",\"ra\"]\n",
        "My_series = pd.Series(Another_list)\n",
        "\n",
        "print(\"First two elements:\\n\",my_series.head(2),\"\\n\")\n",
        "print(\"Last two elements:\\n\",my_series.tail(2),\"\\n\")\n",
        "print(\"Sorted Series:\\n\",my_series.sort_values(),\"\\n\")\n",
        "print(\"Mean:\\n\",my_series.mean(),\"\\n\")\n",
        "print(\"Median:\\n\",my_series.median())\n",
        "print(\"Standard Deviation:\\n\",my_series.std(),\"\\n\")\n",
        "print(\"String Methods:\\n\", My_series.str.upper(),\"\\n\")\n",
        "print(\"Apply Method:\\n\",my_series.apply(lambda x: x**2))"
      ],
      "metadata": {
        "colab": {
          "base_uri": "https://localhost:8080/"
        },
        "id": "DXk6S4mpiguK",
        "outputId": "4c160351-e666-43dc-c78a-a9f10f35b71b"
      },
      "execution_count": 23,
      "outputs": [
        {
          "output_type": "stream",
          "name": "stdout",
          "text": [
            "First two elements:\n",
            " 0     120\n",
            "1    2400\n",
            "dtype: int64 \n",
            "\n",
            "Last two elements:\n",
            " 3    40\n",
            "4     0\n",
            "dtype: int64 \n",
            "\n",
            "Sorted Series:\n",
            " 4       0\n",
            "3      40\n",
            "0     120\n",
            "2     340\n",
            "1    2400\n",
            "dtype: int64 \n",
            "\n",
            "Mean:\n",
            " 580.0 \n",
            "\n",
            "Median:\n",
            " 120.0\n",
            "Standard Deviation:\n",
            " 1025.865488258573 \n",
            "\n",
            "String Methods:\n",
            " 0     RAJU\n",
            "1     ANTE\n",
            "2    REBEL\n",
            "3       AA\n",
            "4       RA\n",
            "dtype: object \n",
            "\n",
            "Apply Method:\n",
            " 0      14400\n",
            "1    5760000\n",
            "2     115600\n",
            "3       1600\n",
            "4          0\n",
            "dtype: int64\n"
          ]
        }
      ]
    }
  ]
}