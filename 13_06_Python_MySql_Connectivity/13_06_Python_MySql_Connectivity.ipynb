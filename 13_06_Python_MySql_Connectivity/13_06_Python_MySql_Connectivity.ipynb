{
  "cells": [
    {
      "cell_type": "markdown",
      "metadata": {
        "colab_type": "text",
        "id": "view-in-github"
      },
      "source": [
        "<a href=\"https://colab.research.google.com/github/ManoharKonala/Python--Practice/blob/main/13_06_Python_MySql_Connectivity.ipynb\" target=\"_parent\"><img src=\"https://colab.research.google.com/assets/colab-badge.svg\" alt=\"Open In Colab\"/></a>"
      ]
    },
    {
      "cell_type": "code",
      "execution_count": 9,
      "metadata": {
        "colab": {
          "base_uri": "https://localhost:8080/"
        },
        "id": "-O2ZMNwqm-qM",
        "outputId": "024511fc-69f3-4e13-d7a4-7b62c8342980"
      },
      "outputs": [
        {
          "name": "stdout",
          "output_type": "stream",
          "text": [
            "Cloning into 'Python--Practice'...\n",
            "remote: Enumerating objects: 177, done.\u001b[K\n",
            "remote: Counting objects: 100% (68/68), done.\u001b[K\n",
            "remote: Compressing objects: 100% (49/49), done.\u001b[K\n",
            "remote: Total 177 (delta 54), reused 19 (delta 19), pack-reused 109\u001b[K\n",
            "Receiving objects: 100% (177/177), 128.97 KiB | 1.01 MiB/s, done.\n",
            "Resolving deltas: 100% (90/90), done.\n"
          ]
        }
      ],
      "source": [
        "!git clone https://github.com/ManoharKonala/Python--Practice.git"
      ]
    },
    {
      "cell_type": "markdown",
      "metadata": {
        "id": "uxfijd_Ea_TB"
      },
      "source": [
        "PYTHON AND MYSQL CONNECTIVITY"
      ]
    },
    {
      "cell_type": "markdown",
      "metadata": {
        "id": "0-_n-_NjbRQp"
      },
      "source": [
        "Connecting Python to MySQL allows you to interact with your MySQL database directly from your Python applications.\n",
        "\n",
        "As it allows you to store, retrieve, and manipulate data in a robust and efficient manner. This is especially important for web applications, data analysis, and any situation where persistent data storage is needed.\n",
        "\n",
        "MySQL seamlessly integrates with Python, allowing for powerful backend processing with libraries like SQLAlchemy, Django ORM, and Flask SQLAlchemy."
      ]
    },
    {
      "cell_type": "markdown",
      "metadata": {
        "id": "_JvX6de5moNv"
      },
      "source": [
        "# Using mysql-connector-python"
      ]
    },
    {
      "cell_type": "code",
      "execution_count": 2,
      "metadata": {
        "colab": {
          "base_uri": "https://localhost:8080/"
        },
        "id": "xlAKbWo8a-Vb",
        "outputId": "4ab77f9e-f5c7-4ce6-dfcf-9f2af2b7c11b"
      },
      "outputs": [
        {
          "name": "stdout",
          "output_type": "stream",
          "text": [
            "Collecting mysql-connector-python\n",
            "  Downloading mysql_connector_python-8.4.0-cp310-cp310-manylinux_2_17_x86_64.whl (19.4 MB)\n",
            "\u001b[2K     \u001b[90m━━━━━━━━━━━━━━━━━━━━━━━━━━━━━━━━━━━━━━━━\u001b[0m \u001b[32m19.4/19.4 MB\u001b[0m \u001b[31m47.5 MB/s\u001b[0m eta \u001b[36m0:00:00\u001b[0m\n",
            "\u001b[?25hInstalling collected packages: mysql-connector-python\n",
            "Successfully installed mysql-connector-python-8.4.0\n"
          ]
        }
      ],
      "source": [
        "#You need to install the MySQL Connector library. You can do this using pip:\n",
        "%pip install mysql-connector-python\n"
      ]
    },
    {
      "cell_type": "code",
      "execution_count": null,
      "metadata": {
        "id": "t5aBpma9hAkx"
      },
      "outputs": [],
      "source": [
        "# Import the Connector in Your Python Script\n",
        "import mysql.connector # type:ignore\n",
        "'''Establish a Connection to the MySQL Database\n",
        "\n",
        "You need to provide the necessary credentials (host, user, password, and\n",
        "                                               database name):'''\n",
        "\n",
        "connection = mysql.connector.connect(\n",
        "    host='localhost',\n",
        "    user='root',\n",
        "    password='manohar*****',\n",
        "    database='projectt'\n",
        ")\n",
        "\n",
        "# cursor allows you to execute SQL queries:\n",
        "\n",
        "cursor = connection.cursor()"
      ]
    },
    {
      "cell_type": "markdown",
      "metadata": {
        "id": "bxnuSxIPexHo"
      },
      "source": [
        "**cursor.execute(create_table_query)** -->Creates table\n",
        "\n",
        "**cursor.fetchall()**---> Fetches specified table records\n",
        "\n",
        "**cursor.execute(update_query, (, ))-**-> Updates records in the table\n",
        "\n",
        "**cursor.execute(delete_query, ())** --> Deletes specified records in the table.\n",
        "\n",
        "*After changing or modifying data in any way, use **connection.commit()** to commit those changes*\n",
        "\n",
        "**cursor.close()**--> Closes the cursor\n",
        "\n",
        "**connection.close()** --> Closes the connection"
      ]
    },
    {
      "cell_type": "code",
      "execution_count": null,
      "metadata": {
        "id": "fstNpSh2hY21"
      },
      "outputs": [],
      "source": [
        "import mysql.connector #type:ignore\n",
        "\n",
        "# Establish the connection\n",
        "connection = mysql.connector.connect(\n",
        "    host='localhost',\n",
        "    user='yourusername',\n",
        "    password='yourpassword',\n",
        "    database='yourdatabase'\n",
        ")\n",
        "\n",
        "''''Replace localhost with the hostname or IP address of your MySQL server.\n",
        "Replace username with your MySQL username.\n",
        "Replace password with your MySQL password.\n",
        "Replace database_name with the name of the database you want to connect to.\n",
        "Replace table_name with the name of the table you want to select from.'''''\n",
        "\n",
        "# Create a cursor object\n",
        "cursor = connection.cursor()\n",
        "\n",
        "# Create a table\n",
        "create_table_query = '''\n",
        "CREATE TABLE employees (\n",
        "    id INT AUTO_INCREMENT PRIMARY KEY,\n",
        "    name VARCHAR(255) NOT NULL,\n",
        "    position VARCHAR(255),\n",
        "    salary DECIMAL(10, 2)\n",
        ")\n",
        "'''\n",
        "cursor.execute(create_table_query)\n",
        "\n",
        "# Insert data into the table\n",
        "insert_query = '''\n",
        "INSERT INTO employees (name, position, salary)\n",
        "VALUES (%s, %s, %s)\n",
        "'''\n",
        "employee_data = ('John Doe', 'Software Engineer', 70000)\n",
        "cursor.execute(insert_query, employee_data)\n",
        "connection.commit()\n",
        "\n",
        "# Insert multiple records\n",
        "multiple_employees = [\n",
        "    ('Jane Smith', 'Project Manager', 90000),\n",
        "    ('Mike Johnson', 'Data Analyst', 65000)\n",
        "]\n",
        "cursor.executemany(insert_query, multiple_employees)\n",
        "connection.commit()\n",
        "\n",
        "# Query data from the table\n",
        "select_query = 'SELECT * FROM employees'\n",
        "cursor.execute(select_query)\n",
        "results = cursor.fetchall()\n",
        "for row in results:\n",
        "    print(row)\n",
        "\n",
        "# Update data in the table\n",
        "update_query = 'UPDATE employees SET salary = %s WHERE name = %s'\n",
        "cursor.execute(update_query, (75000, 'John Doe'))\n",
        "connection.commit()\n",
        "\n",
        "# Delete data from the table\n",
        "delete_query = 'DELETE FROM employees WHERE name = %s'\n",
        "cursor.execute(delete_query, ('John Doe',))\n",
        "connection.commit()\n",
        "\n",
        "# Close the connection\n",
        "cursor.close()\n",
        "connection.close()\n"
      ]
    },
    {
      "cell_type": "markdown",
      "metadata": {
        "id": "wDQekSwzkcIG"
      },
      "source": [
        "# USING SQLITE3"
      ]
    },
    {
      "cell_type": "markdown",
      "metadata": {
        "id": "Uujnszo1khO-"
      },
      "source": [
        "you do not need to commit transactions when using the sqlite3 library in Python\n"
      ]
    },
    {
      "cell_type": "code",
      "execution_count": null,
      "metadata": {
        "id": "q6HXWJznheGh"
      },
      "outputs": [],
      "source": [
        "import sqlite3\n",
        "\n",
        "# Connect to the database\n",
        "conn = sqlite3.connect(\"my_database.db\")\n",
        "\n",
        "'''Replace my_data.db with the path to your SQLite database file.\n",
        "Replace localhost, username, password, and my_database with the\n",
        "appropriate values for your MySQL database.'''\n",
        "\n",
        "# Create a cursor object\n",
        "cursor = conn.cursor()\n",
        "\n",
        "# Execute SQL statements\n",
        "cursor.execute(\"SELECT * FROM my_table\")\n",
        "\n",
        "# Fetch the results\n",
        "rows = cursor.fetchall()\n",
        "\n",
        "# Close the connection\n",
        "conn.close()"
      ]
    },
    {
      "cell_type": "markdown",
      "metadata": {
        "id": "8mnPPkGekpdD"
      },
      "source": [
        "# USING pymysql"
      ]
    },
    {
      "cell_type": "code",
      "execution_count": 7,
      "metadata": {
        "colab": {
          "base_uri": "https://localhost:8080/"
        },
        "id": "ew7GL_lMkyRH",
        "outputId": "6e725336-101f-4097-ec4f-a0f0382cdd8e"
      },
      "outputs": [
        {
          "name": "stdout",
          "output_type": "stream",
          "text": [
            "Collecting pymysql\n",
            "  Downloading PyMySQL-1.1.1-py3-none-any.whl (44 kB)\n",
            "\u001b[?25l     \u001b[90m━━━━━━━━━━━━━━━━━━━━━━━━━━━━━━━━━━━━━━━━\u001b[0m \u001b[32m0.0/45.0 kB\u001b[0m \u001b[31m?\u001b[0m eta \u001b[36m-:--:--\u001b[0m\r\u001b[2K     \u001b[90m━━━━━━━━━━━━━━━━━━━━━━━━━━━━━━━━━━━━━━━━\u001b[0m \u001b[32m45.0/45.0 kB\u001b[0m \u001b[31m2.2 MB/s\u001b[0m eta \u001b[36m0:00:00\u001b[0m\n",
            "\u001b[?25hInstalling collected packages: pymysql\n",
            "Successfully installed pymysql-1.1.1\n"
          ]
        }
      ],
      "source": [
        "%pip install pymysql"
      ]
    },
    {
      "cell_type": "code",
      "execution_count": null,
      "metadata": {
        "id": "4yCWk7Xak4I7"
      },
      "outputs": [],
      "source": [
        "import pymysql #type:ignore\n",
        "\n",
        "# Connect to the database\n",
        "conn = pymysql.connect(host=\"localhost\", user=\"username\", password=\"password\", db=\"my_database\")\n",
        "\n",
        "# Create a cursor object\n",
        "cursor = conn.cursor()\n",
        "\n",
        "# Execute SQL statements\n",
        "cursor.execute(\"SELECT * FROM my_table\")\n",
        "\n",
        "# Fetch the results\n",
        "rows = cursor.fetchall()\n",
        "\n",
        "# Close the connection\n",
        "conn.close()"
      ]
    },
    {
      "cell_type": "markdown",
      "metadata": {
        "id": "SAUbDD4ZlILe"
      },
      "source": [
        "# Using sql extension"
      ]
    },
    {
      "cell_type": "markdown",
      "metadata": {
        "id": "Nz13QqVLjacf"
      },
      "source": [
        "The %load_ext sql command in Google Colab loads the sql extension, which allows you to run SQL queries directly in your notebook.\n",
        "\n",
        "This command does the following:\n",
        "\n",
        "* Installs the ipython-sql package, which provides the functionality for running SQL queries.\n",
        "* Sets up the necessary configuration for the extension.\n",
        "* Creates a new cell magic command called %%sql, which can be used to execute SQL queries.\n",
        "\n",
        "After loading the sql extension, you can use the %%sql magic command to execute SQL queries against any database that you have access to.\n",
        "\n"
      ]
    },
    {
      "cell_type": "markdown",
      "metadata": {
        "id": "JRABNB72lpL3"
      },
      "source": [
        "The %%sql magic command in Google Colab allows you to execute SQL queries directly in your notebook."
      ]
    },
    {
      "cell_type": "code",
      "execution_count": null,
      "metadata": {
        "id": "mCdFsioyltsx"
      },
      "outputs": [],
      "source": [
        "%%sql\n",
        "SQL query\n",
        "# Where SQL query is the SQL statement that you want to execute."
      ]
    },
    {
      "cell_type": "markdown",
      "metadata": {
        "id": "JZfJwkkKjxjJ"
      },
      "source": [
        "to connect to a SQLite database file called my_data.db and select all data from the users table, you would use the following commands:"
      ]
    },
    {
      "cell_type": "code",
      "execution_count": null,
      "metadata": {
        "id": "ANggKKmmjwuU"
      },
      "outputs": [],
      "source": [
        "%load_ext sql\n",
        "\n",
        "%sql sqlite:///my_data.db\n",
        "#%sql sqlite:///path/to/database.db\n",
        "\n",
        "%%sql\n",
        "SELECT * FROM users;"
      ]
    }
  ],
  "metadata": {
    "colab": {
      "authorship_tag": "ABX9TyMie8tkHAQuiKCAR0u32HGB",
      "include_colab_link": true,
      "provenance": []
    },
    "kernelspec": {
      "display_name": "Python 3",
      "name": "python3"
    },
    "language_info": {
      "name": "python"
    }
  },
  "nbformat": 4,
  "nbformat_minor": 0
}
