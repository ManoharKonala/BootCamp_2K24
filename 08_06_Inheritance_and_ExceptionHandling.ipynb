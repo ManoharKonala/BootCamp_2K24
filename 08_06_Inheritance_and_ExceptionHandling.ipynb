{
  "nbformat": 4,
  "nbformat_minor": 0,
  "metadata": {
    "colab": {
      "provenance": [],
      "authorship_tag": "ABX9TyOMpEawWfD+P/GmN9qkWh4P",
      "include_colab_link": true
    },
    "kernelspec": {
      "name": "python3",
      "display_name": "Python 3"
    },
    "language_info": {
      "name": "python"
    }
  },
  "cells": [
    {
      "cell_type": "markdown",
      "metadata": {
        "id": "view-in-github",
        "colab_type": "text"
      },
      "source": [
        "<a href=\"https://colab.research.google.com/github/ManoharKonala/Python--Practice/blob/main/08_06_Inheritance_and_ExceptionHandling.ipynb\" target=\"_parent\"><img src=\"https://colab.research.google.com/assets/colab-badge.svg\" alt=\"Open In Colab\"/></a>"
      ]
    },
    {
      "cell_type": "code",
      "execution_count": 1,
      "metadata": {
        "colab": {
          "base_uri": "https://localhost:8080/"
        },
        "id": "hIBIhNnymXps",
        "outputId": "4299aa4b-e059-442a-d581-71380abff60f"
      },
      "outputs": [
        {
          "output_type": "stream",
          "name": "stdout",
          "text": [
            "Cloning into 'Python--Practice'...\n",
            "remote: Enumerating objects: 27, done.\u001b[K\n",
            "remote: Counting objects: 100% (27/27), done.\u001b[K\n",
            "remote: Compressing objects: 100% (20/20), done.\u001b[K\n",
            "remote: Total 27 (delta 9), reused 11 (delta 4), pack-reused 0\u001b[K\n",
            "Receiving objects: 100% (27/27), 17.28 KiB | 2.88 MiB/s, done.\n",
            "Resolving deltas: 100% (9/9), done.\n"
          ]
        }
      ],
      "source": [
        "!git clone https://github.com/ManoharKonala/Python--Practice.git"
      ]
    },
    {
      "cell_type": "markdown",
      "source": [
        "INHERITANCE"
      ],
      "metadata": {
        "id": "08zCZQE_nEc1"
      }
    },
    {
      "cell_type": "code",
      "source": [
        "'''' It is a fundamental concept in OOP which allows us to inherit properties\n",
        "and methods of one class to another class'''\n",
        "# PARENT -- The class whose properties and methods are inherited.\n",
        "# CHILD  -- The class that inherits  properties and methods.\n",
        "\n",
        "## TYPES OF INHERITANCE\n",
        "\n",
        "''''Single Inheritance --> A child class inherits from one parent class.'''\n",
        "#Multiple Inheritance -->A child class inherits from more than one parent class\n",
        "''''Multilevel Inheritance --> A class is derived from a class which is also\n",
        "derived from another class.'''\n",
        "#Hierarchical Inheritance --> Multiple classes inherit from one parent class.\n",
        "\n",
        "class Calculator:\n",
        "  def __init__(self,a,b):\n",
        "    self.a=a\n",
        "    self.b=b\n",
        "  def sum(self):\n",
        "      print(\"Sum = \",self.a + self.b)\n",
        "  def sub(self):\n",
        "\n",
        "    print(\"Subtraction = \",self.a - self.b)\n",
        "  def mult(self):\n",
        "    print(\"Multiplication = \",self.a*self.b)\n",
        "  def div(self):\n",
        "    print(\"Division = \",self.a/self.b)\n",
        "\n",
        "class Child(Calculator):\n",
        "  def mod(self):\n",
        "    print(\"Mod :\",self.a % self.b)\n",
        "y=Child(10,20)\n",
        "y.sum()\n",
        "y.mult()\n",
        "y.mod()"
      ],
      "metadata": {
        "colab": {
          "base_uri": "https://localhost:8080/"
        },
        "id": "ASNkhw_znEC7",
        "outputId": "bc382f3a-59b8-458b-bd0b-af6da4ba42d1"
      },
      "execution_count": 2,
      "outputs": [
        {
          "output_type": "stream",
          "name": "stdout",
          "text": [
            "Sum =  30\n",
            "Multiplication =  200\n",
            "Mod : 10\n"
          ]
        }
      ]
    },
    {
      "cell_type": "markdown",
      "source": [
        "SINGLE INHERITANCE"
      ],
      "metadata": {
        "id": "bJD0hDJCnsDS"
      }
    },
    {
      "cell_type": "code",
      "source": [
        "''''In this inheritance, a child class inherits from one parent class.'''\n",
        "\n",
        "class Parent:\n",
        "    def parent(self):\n",
        "        print(\"This is a parent class.\")\n",
        "\n",
        "class Child(Parent):\n",
        "    def child(self):\n",
        "        print(\"This is a child class.\")\n",
        "\n",
        "OBJ = Child()\n",
        "OBJ.parent()\n",
        "OBJ.child()\n"
      ],
      "metadata": {
        "colab": {
          "base_uri": "https://localhost:8080/"
        },
        "id": "3NV0W4ayn2tr",
        "outputId": "3a87e1c2-4089-430a-c3a4-764ef10acf9b"
      },
      "execution_count": 3,
      "outputs": [
        {
          "output_type": "stream",
          "name": "stdout",
          "text": [
            "This is a parent class.\n",
            "This is a child class.\n"
          ]
        }
      ]
    },
    {
      "cell_type": "markdown",
      "source": [
        "MULTIPLE INHERTANCE"
      ],
      "metadata": {
        "id": "e9xSrNWazgd9"
      }
    },
    {
      "cell_type": "code",
      "source": [
        "'''' In this inheritance, a child class can inherit from more than one parent class.'''\n",
        "class UNIVERSITY():\n",
        "  def __init__(self,uname,course):\n",
        "    self.uname=uname\n",
        "    self.course=course\n",
        "\n",
        "class STUDENT():\n",
        "  def __init__(self,name,rollno):\n",
        "    self.name=name\n",
        "    self.rollno=rollno\n",
        "\n",
        "class STUDENT_DETAILS(UNIVERSITY,STUDENT):\n",
        "  def __init__(self):\n",
        "    UNIVERSITY.__init__(self,\"LPU\",\"CSE\")\n",
        "    STUDENT.__init__(self,\"Manohar\",2)\n",
        "  def info(self):\n",
        "    print(\"Name_of_student:\",self.name)\n",
        "    print(\"Rollno_of_student :\",self.rollno)\n",
        "    print(\"University_of_the_student :\",self.uname)\n",
        "    print(\"Course_of_the_student :\",self.course)\n",
        "K = STUDENT_DETAILS()\n",
        "K.name = \"Manohar\"\n",
        "K.course = \"CSE\"\n",
        "K.rollno = 2\n",
        "K.uname = \"LPU\"\n",
        "K.info()\n",
        "\n"
      ],
      "metadata": {
        "colab": {
          "base_uri": "https://localhost:8080/"
        },
        "id": "AcYbPWThzmqu",
        "outputId": "7da1bf2c-7b08-4f6a-dd77-fd522ff48e32"
      },
      "execution_count": 5,
      "outputs": [
        {
          "output_type": "stream",
          "name": "stdout",
          "text": [
            "Name_of_student: Manohar\n",
            "Rollno_of_student : 2\n",
            "University_of_the_student : LPU\n",
            "Course_of_the_student : CSE\n"
          ]
        }
      ]
    },
    {
      "cell_type": "markdown",
      "source": [
        "MULTILEVEL INHERTANCE"
      ],
      "metadata": {
        "id": "we69aHrA38-t"
      }
    },
    {
      "cell_type": "code",
      "source": [
        "''''In this inheritance, a class is derived from a class which is also derived\n",
        "from another class.'''\n",
        "\n",
        "# Base class\n",
        "class Father:\n",
        "    def __init__(self, father_name):\n",
        "        self.father_name = father_name\n",
        "\n",
        "# Intermediate class\n",
        "class Son(Father):\n",
        "    def __init__(self, father_name, son_name):\n",
        "        self.son_name = son_name\n",
        "        # invoking constructor of Father class\n",
        "        Father.__init__(self, father_name)\n",
        "\n",
        "# Derived class\n",
        "class GrandSon(Son):\n",
        "    def __init__(self, grandson_name, father_name, son_name):\n",
        "        self.grandson_name = grandson_name\n",
        "        # invoking constructor of Son class\n",
        "        Son.__init__(self, father_name, son_name)\n",
        "\n",
        "    def print_name(self):\n",
        "        print('Father name:', self.father_name)\n",
        "        print('Son name:', self.son_name)\n",
        "        print('Grandson name:', self.grandson_name)\n",
        "\n",
        "# Instantiate GrandSon with all required parameters\n",
        "L = GrandSon(\"S\", \"P\", \"Y\")\n",
        "L.print_name()\n",
        "\n"
      ],
      "metadata": {
        "colab": {
          "base_uri": "https://localhost:8080/"
        },
        "id": "A6GC3a0J5XdM",
        "outputId": "9eb0aada-9a23-441b-cc3c-e03e9e1abb57"
      },
      "execution_count": 12,
      "outputs": [
        {
          "output_type": "stream",
          "name": "stdout",
          "text": [
            "Father name: P\n",
            "Son name: Y\n",
            "Grandson name: S\n"
          ]
        }
      ]
    },
    {
      "cell_type": "markdown",
      "source": [
        "HEIRIARCHIAL INHERITANCE"
      ],
      "metadata": {
        "id": "iAXet24m9Ily"
      }
    },
    {
      "cell_type": "code",
      "source": [
        "''''In this inheritance, multiple classes inherit from one parent class.'''\n",
        "\n",
        "# Base class\n",
        "class Section:\n",
        "\tdef func1(self):\n",
        "\t\tprint(\"This is the Section.\")\n",
        "\n",
        "# 1st Derived class\n",
        "class Student1(Section):\n",
        "\tdef func2(self):\n",
        "\t\tprint(\"Student 1 belongs to Section.\")\n",
        "\n",
        "# 2nd Derivied class\n",
        "class Student2(Section):\n",
        "\tdef func3(self):\n",
        "\t\tprint(\"Student 2 belongs to Section.\")\n",
        "\n",
        "\n",
        "L = Student1()\n",
        "K = Student2()\n",
        "L.func1()\n",
        "L.func2()\n",
        "K.func3()"
      ],
      "metadata": {
        "colab": {
          "base_uri": "https://localhost:8080/"
        },
        "id": "sw4y17jw9BZ5",
        "outputId": "b801d059-8cdf-43f6-9e50-4c5c1b3b0dc3"
      },
      "execution_count": 14,
      "outputs": [
        {
          "output_type": "stream",
          "name": "stdout",
          "text": [
            "This is the Section.\n",
            "Student 1 belongs to Section.\n",
            "Student 2 belongs to Section.\n"
          ]
        }
      ]
    },
    {
      "cell_type": "markdown",
      "source": [
        "HYBRID INHERITANCE"
      ],
      "metadata": {
        "id": "FP2X5qmI_EJl"
      }
    },
    {
      "cell_type": "code",
      "source": [
        "''''This inheritance is combination of two or more types of inheritance.'''\n",
        "\n",
        "class Vehicle:\n",
        "    def __init__(self, name):\n",
        "        self.name = name\n",
        "\n",
        "class Bike(Vehicle):\n",
        "    def __init__(self, name, brand):\n",
        "        super().__init__(name)\n",
        "        self.brand = brand\n",
        "\n",
        "class Electric:\n",
        "    def __init__(self, battery_type):\n",
        "        self.battery_type = battery_type\n",
        "\n",
        "class ElectricBike(Bike, Electric):\n",
        "    def __init__(self, name, brand, battery_type):\n",
        "        Bike.__init__(self, name, brand)\n",
        "        Electric.__init__(self, battery_type)\n",
        "\n",
        "# Create an instance of ElectricCar\n",
        "my_bike = ElectricBike(\"AETHER\", \"HYUNDAI\", \"Lithium-ion\")\n",
        "\n",
        "print(my_bike.name)\n",
        "print(my_bike.brand)\n",
        "print(my_bike.battery_type)"
      ],
      "metadata": {
        "colab": {
          "base_uri": "https://localhost:8080/"
        },
        "id": "wye12HhK_JBc",
        "outputId": "38d114a0-fa4b-4437-a8ef-a91ed06f1af7"
      },
      "execution_count": 16,
      "outputs": [
        {
          "output_type": "stream",
          "name": "stdout",
          "text": [
            "AETHER\n",
            "HYUNDAI\n",
            "Lithium-ion\n"
          ]
        }
      ]
    },
    {
      "cell_type": "markdown",
      "source": [
        "METHOD OVERRIDING"
      ],
      "metadata": {
        "id": "L1N0RAaLCHt2"
      }
    },
    {
      "cell_type": "code",
      "source": [
        "''''Method overriding is a feature of object-oriented programming languages\n",
        "where the child class provides can implement a method that is already\n",
        " implemented by its parentclass.'''\n",
        "\n",
        " # Base class\n",
        "class Vehicle:\n",
        "    def start(self):\n",
        "        print(\"Starting the vehicle\")\n",
        "\n",
        "    def stop(self):\n",
        "        print(\"Stopping the vehicle\")\n",
        "\n",
        "# Derived class\n",
        "class Car(Vehicle):\n",
        "    def start(self):\n",
        "        print(\"Starting the car with a key\")\n",
        "\n",
        "    def stop(self):\n",
        "        print(\"Stopping the car with hydraulic brakes\")\n",
        "\n",
        "# Another derived class\n",
        "class Bike(Vehicle):\n",
        "    def start(self):\n",
        "        print(\"Starting the bike with a kick\")\n",
        "\n",
        "    def stop(self):\n",
        "        print(\"Stopping the bike with disc brakes\")\n",
        "\n",
        "# Creating instances of the classes\n",
        "vehicle = Vehicle()\n",
        "car = Car()\n",
        "bike = Bike()\n",
        "\n",
        "vehicle.start()\n",
        "vehicle.stop()\n",
        "\n",
        "car.start()\n",
        "car.stop()\n",
        "\n",
        "bike.start()\n",
        "bike.stop()\n"
      ],
      "metadata": {
        "colab": {
          "base_uri": "https://localhost:8080/"
        },
        "id": "751NhvRQCKtD",
        "outputId": "ee2092da-8295-4c50-b261-3ed37bcbcde6"
      },
      "execution_count": 17,
      "outputs": [
        {
          "output_type": "stream",
          "name": "stdout",
          "text": [
            "Starting the vehicle\n",
            "Stopping the vehicle\n",
            "Starting the car with a key\n",
            "Stopping the car with hydraulic brakes\n",
            "Starting the bike with a kick\n",
            "Stopping the bike with disc brakes\n"
          ]
        }
      ]
    },
    {
      "cell_type": "markdown",
      "source": [
        "SUPER METHOD"
      ],
      "metadata": {
        "id": "uZImwV0ADPZ1"
      }
    },
    {
      "cell_type": "code",
      "source": [
        "''''super() function in Python is used to call a method from a parent class.'''\n",
        "# Useful in METHOD OVERRIDNG.\n",
        "\n",
        "# Base class\n",
        "class Animal:\n",
        "    def sound(self):\n",
        "        print(\"This animal makes a sound\")\n",
        "\n",
        "# Derived class\n",
        "class Dog(Animal):\n",
        "    def sound(self):\n",
        "        super().sound()  # Call the method from the parent class\n",
        "        print(\"The dog barks\")\n",
        "\n",
        "dog = Dog()\n",
        "dog.sound()\n",
        "\n",
        "# The Dog class overrides the sound method.\n",
        "\n",
        "# The super().sound() call in the Dog class makes sure that the sound method\n",
        "# from the Animal class is called before executing the specific behavior of the\n",
        "# Dog class.'''\n"
      ],
      "metadata": {
        "colab": {
          "base_uri": "https://localhost:8080/"
        },
        "id": "cgQFTnzADRa3",
        "outputId": "f3955b10-2842-4a38-d70c-e7701b421d84"
      },
      "execution_count": 20,
      "outputs": [
        {
          "output_type": "stream",
          "name": "stdout",
          "text": [
            "This animal makes a sound\n",
            "The dog barks\n"
          ]
        }
      ]
    },
    {
      "cell_type": "code",
      "source": [
        "''''super() with __str__ method --->extend or modify the string representation\n",
        "provided by the parent class.'''\n",
        "\n",
        "# Base class\n",
        "class Company():\n",
        "    def __init__(self, cname, clocation):\n",
        "        self.cname = cname\n",
        "        self.clocation = clocation\n",
        "\n",
        "    def __str__(self):\n",
        "        return f\"Company Name: {self.cname}, Location: {self.clocation}\"\n",
        "\n",
        "# Derived class\n",
        "class Employee(Company):\n",
        "    def __init__(self, cname, clocation, employeename):\n",
        "        super().__init__(cname, clocation)  # Call the __init__ method of the base class\n",
        "        self.employeename = employeename\n",
        "\n",
        "    def __str__(self):\n",
        "      from_parent_class = super().__str__()\n",
        "      return f\"{from_parent_class}, Employee Name: {self.employeename}\"\n",
        "\n",
        "employee = Employee(\"Tindi\", \"LPU\", \"Manohar\")\n",
        "\n",
        "# Printing the string representation of the object\n",
        "print(employee)\n"
      ],
      "metadata": {
        "colab": {
          "base_uri": "https://localhost:8080/"
        },
        "id": "Tn9kgArKFy6W",
        "outputId": "1b330031-a082-4941-c78a-d8a47e249818"
      },
      "execution_count": 25,
      "outputs": [
        {
          "output_type": "stream",
          "name": "stdout",
          "text": [
            "Company Name: Tindi, Location: LPU, Employee Name: Manohar\n"
          ]
        }
      ]
    }
  ]
}