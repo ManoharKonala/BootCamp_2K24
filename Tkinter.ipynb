{
  "nbformat": 4,
  "nbformat_minor": 0,
  "metadata": {
    "colab": {
      "provenance": [],
      "authorship_tag": "ABX9TyP1TlE+apFlJTt1ByByGLxh",
      "include_colab_link": true
    },
    "kernelspec": {
      "name": "python3",
      "display_name": "Python 3"
    },
    "language_info": {
      "name": "python"
    }
  },
  "cells": [
    {
      "cell_type": "markdown",
      "metadata": {
        "id": "view-in-github",
        "colab_type": "text"
      },
      "source": [
        "<a href=\"https://colab.research.google.com/github/ManoharKonala/Python--Practice/blob/main/Tkinter.ipynb\" target=\"_parent\"><img src=\"https://colab.research.google.com/assets/colab-badge.svg\" alt=\"Open In Colab\"/></a>"
      ]
    },
    {
      "cell_type": "code",
      "execution_count": null,
      "metadata": {
        "colab": {
          "base_uri": "https://localhost:8080/"
        },
        "id": "qOsRSzrzY1zU",
        "outputId": "129647b0-e955-4856-cfe2-b35b0cca48ba"
      },
      "outputs": [
        {
          "output_type": "stream",
          "name": "stdout",
          "text": [
            "Cloning into 'Python--Practice'...\n",
            "remote: Enumerating objects: 127, done.\u001b[K\n",
            "remote: Counting objects: 100% (127/127), done.\u001b[K\n",
            "remote: Compressing objects: 100% (112/112), done.\u001b[K\n",
            "remote: Total 127 (delta 63), reused 10 (delta 4), pack-reused 0\u001b[K\n",
            "Receiving objects: 100% (127/127), 57.33 KiB | 1.12 MiB/s, done.\n",
            "Resolving deltas: 100% (63/63), done.\n"
          ]
        }
      ],
      "source": [
        "! git clone https://github.com/ManoharKonala/Python--Practice"
      ]
    },
    {
      "cell_type": "markdown",
      "source": [
        "# Tkinter\n",
        "\n",
        "Tkinter is the standard graphical user interface (GUI) library for Python, providing tools to create and manage GUI applications. It is included with the standard Python distribution, making it widely accessible![Screenshot 2024-06-12 124726.png](data:image/png;base64,iVBORw0KGgoAAAANSUhEUgAABEwAAACzCAYAAACTiollAAAAAXNSR0IArs4c6QAAAARnQU1BAACxjwv8YQUAAAAJcEhZcwAADsMAAA7DAcdvqGQAACwpSURBVHhe7d0LfJTlge/xf2aSycxkcr+TG0kgIYQ74gUVbYWWtlbZ7cVle7U3d9fj9uLZrq3uqf1su2fdczy7dtvd1V2rdr3UKhVFLaiIgiAC1SCXACEhEnK/Ta6TSSbJed/JDMQxQAIBcvl9P7yfmTzv+z7vM8Mk5P3zXMLam7oGj1Ue0//9539U/JxrlbX4E3p1w3p1WVNki8uSpeE9OTqPKj/Jqr+87XZlZmTKYrFoNJ5Z9zt97Ztf0YGSQ8qdmRsoPeVs+09nx87tWrn643pt4+tafuXV/jJnXKR+9tN/0A++e6f/6/ESbOPwaw1nXvfb37xND9z/i0DJKfMWFyk/L1/Pr3sxUHLuRnrNp/PdO/9am19/VfvfK/V/bf79Fi+aM6pzp7KwwCNwofk/a4P+p1PWxPh+mihvMu04vXFq0wX/wE2Gb9jJ0MaxmGqvZ6ym++sHMPmN9h9n8+fd5L0Ts5QdPaJ33n1PaXOvUcrMYvV6OvTB/m1qrf/AH4x4Gw8pJzlK1yy/VrExsaMOS6aKy5Yu8z/ufGen/3E4M8Qw/efDD/ofhzNDiopjFbpuxccCJQAwNUzef/IAYCIgLAEwFYz2Z9nk/s3Rsv/gfm3ftVuZC66XKzFDDVVH5e1s1YCvV+r3qb+zQfnZabr2mhVyuVyB06YPs+fLqhtW6c2tWwIlpzz9zNOBZ6fCk6A9f9ztf7zyiiv9jwAwFRCWAMC5Mm8uCEsATCVT/2eapba2RnX1terr69Oe15/T84/9q5Iu+4pS539K4eHhSkpMUkJ8gqKioqZd75Igs5fIq5tf9fcaGc4c9mIOAzKF9kB5a8dbysvNm9ZDYIDpiEABAAAA08fUDk0svsh4zVl+o+yuWLW3Nqqp7oQiotNk7e9WX32J1N8jq9Xq38LCLs6tgNlbw5wbJLjd/LkbA3vGbng95vb/Hrg/sGf0gr1Egr1GTMEhN+a+kXqgmGHKDR9fFfhqiHnt0PaEMucfMec+Gf4ehAY1w5lzrAyvzzw/1Fjmh5mquInFhWZ+xk5+zvgPRGD88AMcAABcIpbBqGTNXf4ZdbS1yts3IEdCtizhNvlaKzRQ964SYxwXdSiOGQAEJzftdnv9W3lF+ZhDk2DgYPYACdZjTi57z09+POa6gr1EzF4jQcHwxNwX7IESFAxTrll+TaBE/mua1w62xdzMyWLNNoYO5zF95y+/dfK40wUeZgATnDQ3eKxppDlVAFw4HwpKCEtwyUzEZOE820RYAgAALiGLx9OtloZqPf2LH6uq0auCz/xIkTGpGuhuUZy1S1++5c905eVXBQ4/N+YKLcN7QQQ382Y/lFlmhhzDh7I89O//5Q8kRgoWTscMHMxAYviqOWbwYAYxY63LZNZl9hoJevzJ3/h7lpiCPVCCdQbDlOCEsWYIZF7TDDaGM1fWMeu47//870DJEDNs2fDcy4GvRmaGMmYA89jD//2hQMWs0xwKBOAiIygBxhdhyRTGD0wAwORgGRgYkK/Xq4YTFerp7ZcjJlm+xkNyDbqVkzlD2VlZiomNDRx+bob3gBi+mTf7wwUDhz+5+U/9j0HB8KS6utr/eDbBHh63fOGWQMkpwbpGWvXmTMzeImadweExZgDy5T//qv+5WacZUgTrDM5fEgwyzK/NYGSkniKhvVNMw889nWAo84XPfdH/OFzoUKCg9LQZgWcAgKmJlAETHWEJAGDysDgiLIq2W2QNzOc60Nul3hO7lOb0acG8BXI6nBft169gIDJSjxRT1Ykq/+PZ1NbVBJ6N7Fx6YAR7i5hBRTDYCZaZzJAiOI+J2RPlG1//lv+5qbKyIvDso7IyswLPxma07wWG8OsZAACXGv8aAwAmF0tuUoQuz4lUlG0oMQkb6JOlu0bz8jP0iVWfVExMjL/8YsjIyPA/nq5HyvDhNWdytp4UZk+RsTJ7fJi9RMzeImZPktBeIGYPlOBQH7P+4csJz5x5+oDmYgUf5vt3tl4rU535axq/qgHAxUavFwAAMDlZDh3cp3d2vKGuzg51VL2rrsMva1lxnuYXz1ViQqJ/aeGLJRh0DF+N5lyYwYAZaDz9zNOBklNON+xnNMzhM2bvEbMnSeiwl2Bvk+B8JMPnYAmGKSOtdmPWZc6PMlah86YMx6SvZ0ZwgguCe8KLJPgdzHfx5MI3CPieBQBMPpZDhw7r5T/8QW3tbfI1liqy4R1dd+VSFc4uDBxy8ZhBhznhqznxa2gQYC61OxY/ueen/uBg+DLCZmBhrsBjBhTB3hbmdcwhPyMFD6HMkMLsPWKGH8NXwDEFQxpzX3Ay2CBznhFznznUaDhzCWDz+O/d8f1AyeiZgYx5HfP1DA9iRloByNxvvsZzWVJ5KuNXN4wXPksXC+80AAAALh5LbnaOaqtOqK+3VwWzC7Rq5Sc0t6hYCQkJgUMuLnPYjRmamEHA8DlMzJVyxsIMKYLLCAfrMAMLc6JZcyWZIHN4jRk8DO8RcjrDjxlpstXgvCVmT5RQ+98rPbmMcHAze6ucz1CZ59e96G/78Dlf/vZvfvSRHitnm9NlOuP2C8C5M3+C8FNkdCby+8TfIQAAGFnYS89vHHx9y2Y9/tR/65OrPqm/+PZfqqCg0D/Z63Rg9sgwV7sZKQDB9EFncZwv/2doGtx3XdrvlYn0BhMAjN45tueifdgmyzfuZGnn6Uz29o8H3gMAU9XUvZuyLL9quW7+7M2Ki41TVma2Fi1cPG3CEpM5JGb4ajeYnvgVBgAuhIn+05Wf/gAA4PQsVovVP7Fr2DT9L3ZWj0EQvzbjXE3l3iXmaxu+wcRPCwAAgOnAYlB8fIJ/1Zc5hR+elBSYbrgNwlhNpxCB7w/gUuG7DwCAS2EoMImL08qPrdScwrGtRANMRfxaitE42ePC/MBMgw8N3xfApcJ3HwAAl0pYt9vLv8TACBh+gDM5GZZMcebrHP4yL+33xUR5wyf6X/xEat95tuWCf+Am8t/lRP+cjdVUez3ngvcAwFQ1de+cLIFHAACAaYSbVwAAcGYEJgAAAMAFRUAHAJMRgQkAAJiYLtg9JjevAADg7AhMAAATmHljG9wAAACAi4fABADGaLpM+Hrp8SbDwMcAkx4fYgCYrMJ27tzJT3EAAAAAAIBhwtxuN4EJAAAAAADAMAzJAQAAAAAACEFgAgAAAAAAEILABAAAAAAAIASBCQAAAAAAQAgCEwAAAAAAgBAEJgAAAAAAACFYVhgAAAAApp1e+bweuWs6pSiXbPGxigqXrGGB3X6jOSbUgLH1qLOpS13tPkWkJslhH1SEb6z1jF5vZ5O83R3yOGbIGRkply2w40ztH/AZzXSryWtVR3+kZsTZFRl+Pv0JRvtene798RrnemSNdioyySW7cRS9Gy4961133XVv4DkAAAAAYFqoUcvxPVp/z9Pa3yS1zypUqnGXbrcGdvuN5phQHmM7ol1PbtLG/3hT1XlFiozrUHj9WOsZvZpdT2rvaw/rDe8yhdnjlR0b2HGm9ntajGau15M7j+vhfRYtmxmreGfE0GnnZLTv1enen73GuW/ouDdMliXZMl/C+bQG44PQCgAAAACmnV75etvUVHFCjfVutfuk/o+MPRjNMaHMHhQedTY1qL6iRs2dffL0n0s9o+eKDFekcWe780i1jta1BkoNnjb1NFWorGyX/lh6RCUV7fJ4+/27+vt61F5XprbWZnX5IjQweL7dXUb7Gk/3/rQb5zaopanTH6mYR+HSIzABAAAAAExa8ckZSskqVPXxOjXUN6rPKDOziv72Nnkbq9UR49GJ7nZVlDfL6/WZe9TX16O6mmbZFKbcGYmKjAg3qwI+hMAEAAAAADB5uaJli41XdpNbto4utRhFZizSVVet9rrjSrzhY4qZmSs1Nhs7/HvU42nW4X0+WfujNL8wUQ47gQk+isAEAAAAADB6nhq5K97Uhod+qX+77z7dd98DxrZeG946qipjd+/QUWf3kXqGtsc2vKXtRkWdo60oKln2+EwVDVQqvKNO5e398va3q7HGreMVPsXNmak0y6Bc+46q1uNVqzrV53WruiLGaGy0ZqRHKCIibJTtMc5u2q/tD6/Txsce1/r1T+mBB14yXnv5yK89pM77f/mQHnmzXO/X9AQOwERGYAIAAAAA05I5cKVH3a11qq04rPKywzp8ePhWqfLKejX39snrPz4w/0btYVW+/ao2/X69nntmndY9+5zWPf6yXnvnsPa3++Q56wQlwXoO6NjbL+rF3z2nZ39r1LPuGa17+hE999IbenVPrarb+tQzNOXImTmSZY+boQJHhaw9dSpv9snra1Zjk09V1bFKyMjQzHCvkqvKdKLbq6aeNvV2NauqM1X91nilxwwowjra9rSos+l9bfvPJ/TSb36n5197Xb9fv1u7S2vVbDTF7L8yZOTXuH7Dy9q045AOVLvVETjKLyxMskfIGm6V2dflfGdUwfggMAEAAACAacnsD3Fc+177tR76wdd1+ze/rq9/ffj2Q33vx49pfXWzKv3Hm70iDqvktXe16YkWZX3573T7rx7TY//xcz324wwVpXRpy45mdXSeig1GFqznNb34aIkiV/9QX73PqOe/fqnH7v+OPu5qVfnDD+rNI4062jV0xplFKTzCpaTUGg1aW9TY7JPPZ7RDsWoPX6b8xIVaPM+h2Uvq1NnTp87yWnWdOKbdC3LlmZmuAqM99jG1Z+h9a4/OlXXRt/XTf7pVt61ZZNQj/3LAQ0Z+jf/287/TdzNalKhq7TKOOPnybBFSdrJcCdFKMr5kgNDEQGACAAAAANOSueZtrJJzF2nJqpu0+sabdNNNw7cb9ImPLVRhtMO/zK36+6T2OjXUlGtv6V7t2bpRr//hBb3w8ka9sH2Ptr5/VIcrm9XTe5bA5GQ9/TrenKGshYUqXlakouKFKlr6CS3It2tW1Huqd3erpTNwzhlZFRnpUt7sXHmNW9x9B8vlKT+oam+vDiVmKtYeq+xkixJSPTpW1abK8lp1ttTLlp6oqIRYOY32WMbUnqH3LS45W/lz56iwKFMZyS45jdKTN9jB19gRqerwYs1bOldLjTrnFhepeEmxZmekaIZx2NDSwQ5ZI4z60h2KjrX6y+hhMjEQmAAAAADAtGT2Y0hV3mWf1mdv/5G+98Mf6Uc/Gr7dpju+/UldkxSrNPPw/n6pvU1dnjbVddWpbNcr2vbyOq3bsEnrdtXraEOPHNZeWcLOMiTnZD2x6rLNUWaWXQnxRrnVIcXMU1ZutOYX1KvX61O3ucbuKNgiHcqaNV/9ilT5/oNyH9yvhn6vajPS5bBFKCnWJleCTR9UNai8rFatje3KTIozyl3n0J6h9y0pIUV52TGKtJkBSohgnRHp6sm8SnPzopRp1Gl1OI0qlyh3RpaKjMOGeqS4ZLOnKGdWgpJTHAzJmUAITAAAAAAAYzBTiRlr9LWf/4vue+wxPRbc7r1N/7CmUBlxpwamXDTh4VJSihL6w5RSXafKumo5oh1aNrdAUXa7otIylJg/W+Htx1V/qF7Hy8I1OydRGWlRgQoupSi54nK0fM0KLVicr0SjhCE5EwOBCQAAAADg7KxWKSZGTnuvXIONauqJVWRsroqKioa23AzlJTsUGX6W28yT9bQrqu+wqqt61NJqlPd7pPYDOlE5oNKKOUpODvT0GI3wSCkxX+l2t9Kbt2rj1mYdb7AoO90pW4RF1pg42WNjlHDoLVXtrdJbVQmKibcrLsZoy4VoT7DOvjrZT+xU6bEuVRt19ns8RpUlqqw5oUPGYUNr5bTL467U/g3v6dDeatUbJX3+clxqBCYAAAAAgLOzRkgx6UpJD1NGzAc6+Pb7eu/tfadW1fmgVpXNHnl9J9d+GdmwerLiq3T8/TIdfNc4/9ABHS7ZqgPHrPrAe7VyZ7iU7uqUt71BldUtamjr8QcJIw74sUYadeZpRqxHWWElerMkTCdabJqRKEWY3TUcsbI5XMqs3aOW+hbt8WbK5bIp1mGeO4b2JPivdnbBOh2dSu9+V3v2lOods87SQyr94z4dqa7TCeOwoWDEXHnnoLY99Lre2TbGpZlxQRGYAAAAAABGwRxqU6DFq1ZqzbcuU9ye/9L6v7/91Ko69z6ou9cfUY17qN/E6Z2q5zNfWyTvxn/Sb35onP/NH+jrP9io3UrWsh+s0cLUOKXWl6jmrcd19wMv64mtR9VinDnylLJmKpKotIwsFS6dI/ucpUrLylBhonE1//iWVNmjCjV3WaTSr09X5LK5KoyyG6WmMbTHf/xoBOq86gqtunGGyl78B/2LUedf3f0zPVCdYLyOTF1uHDERBgTh9Kx33XXXvYHnAAAAAIBpw6EIR4qyF89VTn6aUiKliI/8l/rwY9KNYyIU5bTLGZ8ohzNRmXl5mllYqEJzK16g4oI8LcyKkyMiXvFZOcq7rFCZ8XbFRJymnrhE2SLjNCM316inSIVFi7Tsmsu0dEmeMp0Wecpe19H339TuwWXKn52nJTNjZDRzhP/5N6dJtcpqDZcjKUPxuUt0+aJcFc2Ikd3YZTH2hVkiZHc5FVdwmeYUz9eVM+MU7Z+w1Tw3QjbH2dtj91/4dO/bCK/RbpMjIVnhManKy8s3rjtPxUuv1IKcfC0qnqX8k++P3Tg3SdlLcpWRk+hflchsGS6tMLfbfZYpjAEAAAAAuJjMYT1ela7/V7239VUdu+FXumpBgT6eNbQXuBgYkgMAAAAAmGDMYT1HVFfp0LH3lyk3I0rpox8PA4wLAhMAAAAAwARjTjySoMylV+jKWz6lRZmxSrUN7QEuFobkAAAAAAAAhKCHCQAAAAAAQAgCEwAAAAAAgBAEJgAAAAAAACEITAAAAAAAAEIw6SsAAAAA4KSwsDBFRET4H3FhHD16VDU1NZo3b56ioqICpZhoCEwAAAAAACdZLBY5nU5/YDIwMBAoxXgw30+v16tXX31V+/bt09q1a5WamhrYi4mGwAQAAAAAcFIwMPF4POrq6gqUYjyY72lZWZk/LOno6CAwmeCYwwQAAAAA8BFmbwifz+d/bvY2YTv/zXxP29vb/cEJJj56mAAAAAAATgr2MDF7l3R2dsrhcPjLcP7MsGT37t0qLS31h1H0MJnY+NQDAAAAAACEIDABAAAAAAAIQWACAAAAAAAQgsAEAAAAAAAgBIEJAAAAAABACAITAAAAAACAEAQmAAAAAAAAIcLcbvdg4DkAAAAAYJqzWCxyOp3q6upSZ2enHA6Hv2xkPfK01erYW5t18IRblR2B4uiZisucqxuuyVV6bI98TTV6f8MRDeTMUsLiWcrVMR19r0qHK3zKuOEazUyPVbo9cO5ptapzeD2XzVdulOSwBnZfUmbb6o221clWmKW05flKMUptQztPam9v1+7du1VaWiqfz6e1a9cqNTU1sBcTDT1MAAAAAABjM9gv+TrU3nhMx/bv1Dub1usP657W008HtvWvaMPWfTrc6FF7X4s6m97X1gef0ZZNJdrn7pWno1IV7+7R1pd3an9tp5q8gXrPKKSedsljNGNiMNt20GjbZr2ztUxVRknv0A5MYgQmAAAAAICx8XVKzdu19Yn/0C//8WkdKPhr3fC3j+rRRwPb36/R/7pR6myU6uoD5wSFu6TE5VrxpVt15323ac2CZOUbRcBEQ2ACAAAAABiDHnk6qnVw8x9U2TQgzf2Ully2WMsWF6u4OLgt1Nw5c1WY5lCiM3BaUJhViohTfPoM5czOVLLLJueEGFYDfBiBCQAAAABg9Prb1dV8TDs3vqtWW57m/NltWrkgWbMTAvtNjgw5kudrfq5DGcPL/QaMzaOulmY1flCn1q4+9fiH1pjTa/rU096o5uNlOlZeprKyMlVUHlddW6+Mw0IE66lTXUWlKura1PKRg4Zdq7JGrW0taqir0XGj3nJjq6prUXOncf22OjXWHPNfz9yO1TSqrsOnvv7AlJ8nhyCdOresrEqVx1vU1mscN3QUphgCEwAAAADA6HXVyVNbpf0V8zUQMVNFBZL9rBO2DtdjbEdUsv4ZPfG3D+nlfY0q7zLLfcbWrPKtT+iZn9yq733nVt166626/c679ast1SoJHdpzsp6H9Kvb79Ttv9qi9R85aNi17rxfL295Xo88dL9+YtT7HWO796H1evY94/qvP6Qn7r/Tfz1zu/P+J/TQjmY1dpptMviHIO3Q1idOnXvrrffqzrvXa0u1Wx9pGqYEAhMAAAAAwOj1ezUw4FOHK1P2mATNiJIixnRnafb66FZHQ51qy6rU2NGn7n5ztZ0PdPClJ/TOwVqVxV2tJdeu0urVq7Xy+mu0KNullA8N7TGOd1cZx/9eR2o61T3nel1ZnK1ZHz7IELxWmY6W7NZLW2rUEJah+TdcqxvmxUhVb+vldU/q+cpo+TKu1GqjfLVRbqs/oZ2b3tWR9m61mivgtJZpx2/fUWVtpOKuXq1rV63W6itStTitVvuOtqi8tkcKt0opsXJEO2TULEYZTX4EJgAAAACAsbEat5LxLtmcdpkRxXnfWJrDfBoOa+fTz2lfnVNhq76vb37/x7rnnnt05x236XNLPjzkp7ezVo3H3tXbf9ipenueCr96h/7qpiVa8aFxQcN55OltV+kHTsXPW6U//9vv629uW615tmod2vh7vdW7RFk33KZ7jPJ7jPIrYgfUsn2Pjrq71dTXpI76A9r8ZImOuxM188ZbdOMXb9Etn5mla4vcOnC4URXHPQqz2RWRlSBXvFOxxhUJTCY/AhMAAAAAwNj0+qTjDepq6VCz8WVg4Mq5GzbMxxVfrI8tT1S0Kzyw86Oq331Nu156Qrsyv6TkJSu1pkCKO+OwoATFxs/VZz5/va5ckq9Eu13hBUWamVqsFfY8XVGYroxU19DYIn95lBb318vT0qfO+k71tdSovr9C21/7tf7zf96qO751q2696wH9zcNva2fpcRlvg8LDk5SSGq5os3sJpgQCEwAAAADA6NkTZItLVG7cEQ14qnX0hOTtDew7V+YwH2+POjzRska4lBAXIas1LLBzODOaaZC3vVnNdb0q64mTN9yplLMOCwpXRESUklITFBvjNI61KCzKJYctSglWh2KjIhUZaTXukI1K/OVWxQx61d87KF+vT4O9YfIOZim98HJd89nV+sSnVmv1TV/QTX96i7718UIty0mXMzpDi65foNmFMxRtXJEeJpMfgQkAAAAAYPQcSXKmZmlRUb0sPUe1d89x1bSErGLT36P+3g51ePrVM5olZCw240+knJFdGvB1q63Dp/7gCjUfYi6n0ypbVIIccQVSR7XaWupUP3xFm/FmsSoswqkI5ajw8s9qzXfv0g9+dLd/uNA9d96hez5nDgVKUUSkSxkzM5WUGCebcdpIcQ8mFwITAAAAAMAYuOSKztbyj10la0uJXnnwbj2xI2QVm65ydVbv0I4DnSofzRIyrlQ50jM1P2+fOlsPaMuOZnUEV6j5EDOKyFbG0jW6/vOf11/Ev6y+8tf04PAVbcaby6XwBKfSwt9Vbfnp2lYvd/U7Wn/309q0vkRHjBJzfR5MbgQmAAAAAIAxsMrqSFTc/E/r6hWX69NzBlS/+XE99+/36/77A9sjm/XfW93yhvcrMnThmpFYYxWVMktXfO5qzbQ3qenJX+nRX/yzv65fPvSoNuxtVnmreaDZb8OhyJgUpeXP0ZUrVijP1iz3G4/qsWe36/V9tWo3jjD7oYwba5KiU4p0/ecXKNNepTKjbQ8H2nb/Lx/S/Rv2akd5vXzeNjWU1ampoUPdxmnm+jyY3AhMAAAAAABjY4uWsldoxafW6C++cKVm1Lyl0k1P6amnAtsrZdpcFq2kZKuSE2yyGscnZKcpMSlG0eEWWcPsikpIVFJ2quKjwmW3OOSIy9H8P/mCFudEK/nAy9r8/O/8da174WVtP9qmms4P15MYn6jc676ihdlJyq1/XW9s36c/VjSFhBXmLW/otcZanqDoxHla8ZWbtLQgUnajba8E2vbUuhf01Paj2l/TY7TNZbQtUXEJUUYN3GxPBWFut/sCDfQCAAAAAEw2FotFTqdTXV1d6uzslMPh8JeNqL9bvd0daqhtVVevTyenK4lwyRYVp/SUaDlt/Rrwdqv1eJsGXTGKTIpVdLhH3Y2d6nT3KSI9xbieTU6rGXN41NHQKneDW53GV2ZPEWtEpFzJ2Ypzhck+OLyeOKMen7zuJnW0tqlV8YqNj1ZSvFPm+jpDc4gE6zzdtUZZbjFa4utQa5Nbzc2dMue49Ycy1ggZjVNKXITibQNG2zyyxEbJYbxuh7E79F1rb2/X7t27VVpaKp/Pp7Vr1yo1NTWwFxMNgQkAAAAA4KQxBSYYEwKTyYVPPQAAAAAAQAgCEwAAAAAAgBAEJgAAAAAAACEITAAAAAAAAEIQmAAAAAAAAIQgMAEAAAAAAAhBYAIAAAAAABCCwAQAAAAAACBEmNvtHgw8BwAAAABMcxaLRU6nU9XV1aqqqlJERITCwsICe3E+vF6vTpw4ofLycvl8Pq1du1apqamBvZhoCEwAAAAAACcNDg6qr69PpaWl/g3jr66uzv9IYDKxEZgAAAAAAE5qaWnRpk2b/D1MPB5PoBTjyQykEhISCEwmOAITAAAAABhHvb29qqmp8T9ORp2dndq7d6//EReOy+XSwoUL/Y+TTUpKin8zgx+zR9JURWACAAAAAOOovb1du3fv9gcmkZGRgVJg6pgzZ44KCgrU3d2tgYGBQOnUQ2ACAAAAAOMoGJikp6ersLAwUApMHQ6HQzabjcAEAAAAADB6wcAkLy9PixYtCpQCU0t/f/+UD0wsgUcAAAAAAAAEEJgAAAAAAACEIDABAAAAAAAIQWACAAAAAAAQgsAEAAAAAAAgBIEJAAAAAABACAITAAAAAACAEAQmAAAAAAAAIQhMAAAAAAAAQhCYAAAAAAAAhCAwAQAAAAAACEFgAgAAAAAAEILABAAAAAAAIASBCQAAAAAAQAgCEwAAAAAAgBAEJgAAAAAAACEITAAAAAAAAEIQmAAAAAAAAIQgMAEAAAAAAAhBYAIAAAAAABCCwAQAAAAAACAEgQkAAAAAAEAIAhMAAAAAAIAQBCYAAAAAMI7sdrtmz56t1NTUQAmAySjM7XYPBp4DAAAAAM6TxWKRw+HwPwJT1cDAgDwej/9xqiIwAQAAAIBxZoYlYWFhga+AqWdwcHBKhyUmAhMAAAAAAIAQ9BEDAAAAAAAIQWACAAAAAAAQgsAEAAAAAAAgBIEJAAAAAABACAITAAAAAACAEAQmAAAAAAAAIVhWGAAAAACmgb6+PvX29ga+OneRkZGy2WwaGBgIlABTE4EJAAAAAEwDlZWV/u18FRQUaNasWerp6SE0wZRGYAIAAAAA08ChQ4e0f/9+tba2+nubjJXT6fSHJUVFRcrKylJ3dzeBCaY0AhMAAAAAmAbMwOS9995TWVmZwsLC/AHIWMTHx2vlypXKyclRVFTUGAKTAQ34vOpubVGXt08eX6A43KGIyCglxDsVGd6vwT6vOhq6NehwKiLGJadVsoQFjh13Zrt71e32qKfLJ2tCvOyR4YqcELN8BtvWK2/XgGwp0bJFWBUxtBMXEYEJAAAAAEwDwwOTpUuX6uqrrw7sGR0zZDG32NjYMQYm7WqvLdXOX/+rNu+t1q7GQHHy5cpYeIPu+MaVKkpvV1/lAW346Vb1L7laWV/8tK5MkGIuWErgMbYyvf3oTu1+rVHJd3xDC4vSNTdmaO+lFWzbYZW82aU5P/msZs9MVObQTlxErJIDAAAAANOMGXqYPUXGsqWnp/snex21/h6po1QH3nhJzz/5kvb25StqznW67rrAtihJC1Ja1dDoU5Pbq76eFtWVHlPNiWa19km+C/pf+/3G1qW2uhpVl1aqvr1XXWbRhBBsW4NqSuvU2tMn79AOXGQEJgAAAACAcTaggV63uiq3atfGDXrhxf1qKfqqrvvWvbr33sB2+yd128ejFOaxqrM9cBowgRCYAAAAAADGWac6Wyu0/dkX1BiZr8Lv/FxfWJ6hRamB3aaofEVlLNfyuVHKH14OTBDWu+66697AcwAAAADAFNXU1KS6ujq1tLQoNzfXv+LNWJjzlXg8HkVERPiH5pgr7QwOnmbcTE+1WisPaONTh+XNvkIFN35Cy9LCFR8Z2G+y2GQJd8gRaZEtvFWdTdUqWX9EA2nRCp8hHd+8Sbu2bdPb+w6prCdOVptdKa7woXN76tR2Yq/eWL9Jb76xTVt3lmjnznq5FS5HZrwcxiFW9ain7YTK3liv7W++oY1bdxrH7NQxt9TlSFG8o0HH3y5X5cEORa9coWzjmnHdR/Tuupe07WC9Srocyox3yGmzDl3Tz62u5mPGMTt1vLZKNd212vPSJqP+bdp1sEz11kz1txxT15FXtX7TNr2xbYf+OOb2Rxntb9Cxt2pVdahX6WsWKS3JpYShM3EREZgAAAAAwDRwUQOTjqNqLj+k9Rucipu/QJd/Ol/pVun0M6CYgckJlazfr+4onzojm/XeM+u1/Y3XtWN/qfZ6ZysxKVHzcpyyqFc9Ne/r2Duv6MlHNui1bTv19nulKtnVot6kZMUvzFVa+IDUVa368t3a+tQj+sPmbdr49l6VlJSoxZYpe85CzU5oUO07ZmDSruiVVystpkGDx97Qi794VpvKfTrszNGK2QlKiBo+82y1Wo7v0fq7f6v9NVU6OtisXb8baueu0sOqdhZroHGfuvY/r8fWb9O2rdtUMub2Zxrtb1DVzkZVGe3Iummh0pNcigu0ABcPgQkAAAAATAMXt4dJjdpa6rT1sF0z5udryZJM/w1/oH/FCMzA5JhK1r+mPzY5VOFcrM9/44v604/N1LL4Pm17o0v2lDhlLUtVrI6o5Nkd2vJMtaJv+Y4++eU/1zduvlpr5raoxxWrva0JWpTSpdpt67Tt9y/o7eRbtOTTX9Zff+MWrVmzRquuXaZFWTYlOBp0bLsZmLQqemWxeg5uUdXmLaq57A5d85lP66srspSd4FC4dfjaxqdv59K4Vr2yaZMOd8aqv3itvvLFP9Haa7K0eMztjzfa71bDsR7Vtjo1f9UcpcU7FRVoAS4e5jABAAAAAIy/frOXR4983l71GF+efQFi8/Y0SvGpOZq9YLHmL16kRVct1YKlBZrVWauwhkbVuvvU565VbdVRlRzYp717tmvXjq3aun27tu7dq3dKj6m0vEY9TWWqOtyiA6UuJRcvUvFVy7R48WL/VpiTpjSXFBG4G/Z2tuqDHc+opLxRZVHLNf+KpbpqUY6KjIPswYM+ZOR2zl9SpKyWbsUNRil61kLNXbBIi8+l/ZWt6vE65YhzKS49Uo6IsDMETbiQCEwAAAAAAOPLEqEw43bT0VIjT5tbdV7Jd9bExBz6kq5ZRcW6ftVCZUQ75UhMkiMnW8W2TsV5uuRu8cnX4laXp0XV7R/o/def1UtP/Vq/fvwZ/XpzhUoq3bL0tUltFWqos6m2bYHmF6cpJ9Oc1WQk/fK21+noa0+rpCFMxwvW6qqCeBUmBnaP6HTtLDDamaOFiWmaPTNWkebcJ+fS/gGfUX+84pMSlJ0fJUeklRv3S4T3HQAAAAAwvqLS5EzP1Py8fbL0Var0sOTxBvaNi5lKzFijr/3sn3XfI4/okeD2k9v085sLlBFnDxx3Ni3GVmdsqWrtiFRVY7O8ff3+PRfWmdo/12h/hvIXLdCKm5crOy6K4TiXCIEJAAAAAGB8hcfKGZ+ty69Il7X9gLb9/nFtOdjsX6HmpJ469bQc0qGqHtUNLz8Tq1WKjpbT7lO02tUZlqbYGXO1ZMmSoW3OTBVlJsiekK3EpD6lRB/WkbJGVdeZg4JGEimbK1M5yz+ny3IiVNT2krYfPKEDpz3+PI2m/el22SNa1HCoQgc3l+lEu1edgdNxcRGYAAAAAADGmUNOV4YWXrNC8dZGfbDl19q4bb/e3veBPvggsFXsV0XZXu073q269sBpZ2ONkGLTlJTSr1TnUb3/9gHt3X3kVJ21TarpkPpcecqcZdPsmcd0eM9B7R92TG2TW27v0BQrUozsMUWatXKtVi+J16rwrdqxp0RvvV+l6qYueXwDo5h7ZQxG0353u/r6jXZv2aFXfrlF+xs71Bw4HRcXgQkAAAAAYPzZ46SCm7XmS1/RvV9bKOumf9Jv7rpVt94a2P7Xev39i5IrWUpLDZxzVuZQmwItWnWD1nxzqeL++LCe/9n/OFXnTx/UPc+Xq9odpfwVK3XdLauVv+sxvT7smJ8++LyePyx/aDJc6qJVWvTJL+myqie0+7cP6q4Hd2hfY+c49+4YTfuPGO2/QD1cMCYsKwwAAAAA04C5rHBbW5vS0tI0c+ZMxcTEqLe3d9Sb1+v1P5pLCp91WWFTmFWyRSs6JlqJ8fEKH7QrMT1daTk5yjG3WQs0e06xrpiXqhRXuMIHbLJY45W5eK6yZ6Ur1W6uZDOowQ+VzzDKbYp2ORRl1GmzRCk5I+NUnbOLNSs/T4uy4hUf55LDFa/IvnDFzkhXQuCY2cULlZ+Xq6yYMOOaUYpJy1LusjmaOSNRSTFxcg765EjOVXxWnhbMTla8I8I/zeuQ0Pacrp3n0/5co/2xsltiFZOeptzLZio5KlLOQAtw8YS53e4zfMIBAAAAAFNBRUWF6urqVFhYKIfjdKvGnF10dLT//O7ubg0MjOuAFWBCITABAAAAgGkgGG6YYYfFcu6zM1jNiUsNBCaY6ghMAAAAAGAaCA8P92/jwRyKYw7POeOQHGCSIzABAAAAAAAIwSo5AAAAAAAAIQhMAAAAAAAAQhCYAAAAAAAAhCAwAQAAAAAACEFgAgAAAAAAEILABAAAAAAAIASBCQAAAAAAQAgCEwAAAAAAgBAEJgAAAAAAACEITAAAAAAAAEIQmAAAAAAAAIQgMAEAAAAAAAhBYAIAAAAAABCCwAQAAAAAACAEgQkAAAAAAEAIAhMAAAAAAIAQBCYAAAAAAAAhCEwAAAAAAABCEJgAAAAAAACEIDABAAAAAAAIQWACAAAAAAAQgsAEAAAAAAAgBIEJAAAAAABACAITAAAAAACAEAQmAAAAAAAAIQhMAAAAAAAAPkT6/0+10fzw4etiAAAAAElFTkSuQmCC)\n"
      ],
      "metadata": {
        "id": "9mqXzbVJZG3L"
      }
    },
    {
      "cell_type": "markdown",
      "source": [
        "#Basic Concepts and Terms"
      ],
      "metadata": {
        "id": "cHdGo76eOODj"
      }
    },
    {
      "cell_type": "markdown",
      "source": [
        "**Tkinter Module**: The module that you import in your Python script to use Tkinter functionalities. It acts as a wrapper around Tcl/Tk, a popular GUI toolkit."
      ],
      "metadata": {
        "id": "0OxaFI86OUgL"
      }
    },
    {
      "cell_type": "markdown",
      "source": [
        "**Tcl/Tk:**\n",
        "\n",
        "Tcl and Tk are fundamental components for building graphical interfaces. Tcl, known for its simplicity and integration capabilities, serves as the scripting language, while Tk provides a versatile toolkit for creating GUI elements like buttons and windows.\n",
        "\n",
        "Tkinter acts as the bridge between Python and Tcl/Tk, enabling developers to harness Tk's capabilities seamlessly within Python applications.\n",
        "\n",
        "Tkinter simplifies the process of GUI development, allowing users to focus on building engaging applications without getting bogged down in technical intricacies\n",
        "\n",
        "In Simpler Words\n",
        "\n",
        "Tcl is a special language that helps us talk to the computer, and Tk is like a big box of toys with all sorts of fun things we can use to make our pictures and buttons. Tkinter is like a special book that helps us use Tcl and Tk with our friend Python. With Tkinter, we can easily tell the computer what pictures and buttons we want, and it helps us show them on the screen. It's like playing with building blocks to create something fun! So, with Tkinter, we can make games, drawings, and other fun stuff on the computer, just like magic!\n",
        "\n",
        "Tcl is a scripting language, and Tk is a GUI toolkit."
      ],
      "metadata": {
        "id": "LiVPI6uYOf6I"
      }
    },
    {
      "cell_type": "markdown",
      "source": [
        "**Connection to Tkinter:**\n",
        "\n",
        "Tkinter: Tkinter (short for \"Tk interface\") is the standard Python binding to the Tk GUI toolkit. It allows Python developers to create graphical user interfaces by leveraging the capabilities of Tk.\n",
        "\n",
        "Python Wrapper: Tkinter acts as a wrapper around the Tcl/Tk libraries, enabling Python code to interact with Tk widgets and manage GUI elements.\n",
        "\n",
        "Integration: When you use Tkinter in a Python script, it translates Python function calls into Tcl/Tk commands. This integration allows Python applications to utilize the full power of the Tk toolkit."
      ],
      "metadata": {
        "id": "-rGdzROOOiCS"
      }
    },
    {
      "cell_type": "markdown",
      "source": [
        "**WIDGETS**\n",
        "\n",
        "These are the building blocks of a Tkinter GUI. Widgets are graphical components like buttons, labels, text boxes, etc.\n",
        "\n",
        "* *Label* : Displays text or images.\n",
        "* *Button* : A clickable button to perform actions.\n",
        "* *Entry* : A single-line text input field.\n",
        "* *Text* : A multi-line text input field.\n",
        "* *Frame* : A container to hold other widgets.\n",
        "* *Canvas* : A space for drawing shapes and images.\n",
        "\n",
        "\n",
        "\n"
      ],
      "metadata": {
        "id": "VAVNy6-9Oo1h"
      }
    },
    {
      "cell_type": "markdown",
      "source": [
        "**Geometry Managers:**\n",
        "\n",
        "Methods to control the layout of widgets within a container.\n",
        "\n",
        "\n",
        "*  *grid():* Organizes widgets in a table-like structure.\n",
        "*  *pack()*: Organizes widgets in blocks before placing them in the parent widget.\n",
        "* *place():* Places widgets at an absolute position you specify."
      ],
      "metadata": {
        "id": "jRC9y4vSO-b8"
      }
    },
    {
      "cell_type": "markdown",
      "source": [
        "**Events and Callbacks:**\n",
        "\n",
        "Events are actions like key presses or mouse clicks. You can bind events to specific functions (callbacks) that execute in response to these actions."
      ],
      "metadata": {
        "id": "MeBSTrJ0PPVZ"
      }
    },
    {
      "cell_type": "markdown",
      "source": [
        "**Mainloop:**\n",
        "\n",
        "The main loop that waits for events and updates the GUI. This keeps the application running.\n",
        "\n",
        "The mainloop() method is a blocking call, which means that it will not return until the Tkinter window is closed. Therefore, the code after root.mainloop() will not be executed until the window is closed.\n",
        "\n",
        "You can use the after method to schedule a callback function to be called after a certain amount of time."
      ],
      "metadata": {
        "id": "3YMnrt5qPScC"
      }
    },
    {
      "cell_type": "markdown",
      "source": [
        "**WHAT IF THERE IS A HEADLESS ENVIRONMENT**\n",
        "\n",
        "In a headless environment, where there is no physical display attached, using Tkinter directly to create graphical user interfaces may not be possible due to the lack of a graphical display to render the GUI. However, there are several approaches to work around this limitation and utilize Tkinter in headless environments:\n",
        "\n",
        "1. *Use Virtual Display :*  Utilize virtual display solutions like Xvfb (X Virtual Framebuffer) or PyVirtualDisplay to create a virtual display where Tkinter can render the GUI. This allows Tkinter to function as usual, even without a physical display attached.\n",
        "\n",
        "2. *Matplotlib Rendering :*  Instead of displaying Tkinter windows directly, render the GUI elements to images using Tkinter's `grab()` method or similar techniques. Then, use Matplotlib to display these images in a non-graphical manner, such as saving them to files or streaming them over a network connection.\n",
        "\n",
        "3. *Console Interface :*  Modify the application to provide a console-based interface using text-based widgets like `Text` or `Label`. While this approach doesn't offer the same level of interactivity as a graphical interface, it allows the application to function in a headless environment without requiring graphical rendering.\n",
        "\n",
        "4. *Headless Browser Testing :*  If the goal is to automate GUI interactions for testing purposes, consider using headless browser automation tools like Selenium WebDriver. These tools can interact with web-based GUIs generated by Tkinter applications running in a web server environment.\n",
        "\n",
        "5. *Remote Display :*  Run the Tkinter application on a separate machine with a graphical display and use remote desktop or virtual network computing (VNC) to access and interact with the application remotely from the headless environment.\n",
        "\n",
        "By considering these approaches, developers can adapt Tkinter applications to function effectively in headless environments, enabling a wide range of use cases beyond traditional graphical display scenarios."
      ],
      "metadata": {
        "id": "PjbJWZG8PeG2"
      }
    },
    {
      "cell_type": "markdown",
      "source": [
        "**How Tkinter Works**:\n",
        "\n",
        "*Initialization:* Tkinter initializes the Tcl interpreter.\n",
        "\n",
        "*Widget Creation:* Tkinter provides Python classes and functions corresponding to Tk widgets (e.g., Button, Label).\n",
        "\n",
        "*Event Loop:* The mainloop method starts the Tk event loop, which waits for user interactions and handles them as they occur.\n",
        "\n",
        "*Command Execution:* When an event occurs (e.g., button click), Tkinter translates it into a corresponding Tcl/Tk command, which the Tcl interpreter executes.\n",
        "\n",
        "*Updating GUI:* Changes made by Tcl commands are reflected in the GUI."
      ],
      "metadata": {
        "id": "ycFSjAoLPion"
      }
    },
    {
      "cell_type": "code",
      "source": [
        "# Import the tkinter module, which is a Python binding to the Tk GUI toolkit.\n",
        "# We assign it the alias \"tk\" to make it easier to use.\n",
        "import tkinter as tk\n",
        "\n",
        "# Create a Tkinter window, which is the top-level widget of the Tkinter hierarchy.\n",
        "# This window will contain all the other widgets.\n",
        "root = tk.Tk()\n",
        "\n",
        "# Set the title of the window, which will appear in the title bar.\n",
        "root.title(\"Hello, World!\")\n",
        "\n",
        "# Create a Label widget, which displays a text or image on the screen.\n",
        "# We pass the parent widget (root) and the text to be displayed as arguments.\n",
        "label = tk.Label(root, text=\"Hello, World!\")\n",
        "\n",
        "# Use the pack() method to add the label to the window.\n",
        "# The pack() method is a layout manager that adds widgets to the window in a row or column.\n",
        "label.pack()\n",
        "\n",
        "# Create a Button widget, which is a clickable widget that performs an action when clicked.\n",
        "# We pass the parent widget (root) and the text to be displayed on the button as arguments.\n",
        "# We also specify a command to be executed when the button is clicked.\n",
        "# In this case, the command is a lambda function that prints \"Button clicked!\" to the console.\n",
        "button = tk.Button(root, text=\"Click me!\", command=lambda: print(\"Button clicked!\"))\n",
        "\n",
        "# Use the pack() method to add the button to the window.\n",
        "button.pack()\n",
        "\n",
        "# Create an Entry widget, which is a single-line text entry field.\n",
        "# We pass the parent widget (root) as an argument.\n",
        "entry = tk.Entry(root)\n",
        "\n",
        "# Use the pack() method to add the entry field to the window.\n",
        "entry.pack()\n",
        "\n",
        "# Create a Checkbutton widget, which is a checkbox that can be checked or unchecked.\n",
        "# We pass the parent widget (root) and the text to be displayed next to the checkbox as arguments.\n",
        "checkbutton = tk.Checkbutton(root, text=\"Check me!\")\n",
        "\n",
        "# Use the pack() method to add the checkbox to the window.\n",
        "checkbutton.pack()\n",
        "\n",
        "# Define a function that will be called after a certain amount of time.\n",
        "# This function will close the window and exit the program.\n",
        "def close_window():\n",
        "    # Call the destroy() method to close the window.\n",
        "    root.destroy()\n",
        "\n",
        "# Use the after() method to schedule the close_window() function to be called after 5000 milliseconds (5 seconds).\n",
        "# The after() method takes two arguments: the delay time in milliseconds, and the function to be called.\n",
        "root.after(5000, close_window)\n",
        "\n",
        "# Start the Tkinter event loop, which will run until the window is closed.\n",
        "# The mainloop() method is a blocking call, which means that it will not return until the window is closed.\n",
        "root.mainloop()"
      ],
      "metadata": {
        "collapsed": true,
        "id": "K95ILIDVNzyT"
      },
      "execution_count": null,
      "outputs": []
    },
    {
      "cell_type": "markdown",
      "source": [],
      "metadata": {
        "id": "mFGe9m_qRVDu"
      }
    },
    {
      "cell_type": "markdown",
      "source": [
        "# ![Screenshot 2024-06-12 115359.png](data:image/png;base64,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)TKINTER\n"
      ],
      "metadata": {
        "id": "eD_iRbD-RVsb"
      }
    },
    {
      "cell_type": "markdown",
      "source": [
        "[link text](https://)![Screenshot 2024-06-12 124726.png](data:image/png;base64,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)"
      ],
      "metadata": {
        "id": "ekJPewt2UByr"
      }
    },
    {
      "cell_type": "code",
      "source": [],
      "metadata": {
        "id": "o5odY1eZQqi6"
      },
      "execution_count": null,
      "outputs": []
    }
  ]
}