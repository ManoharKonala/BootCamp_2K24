{
  "nbformat": 4,
  "nbformat_minor": 0,
  "metadata": {
    "colab": {
      "provenance": [],
      "authorship_tag": "ABX9TyPOV4CBvTl9pPrb0HyKQVDs",
      "include_colab_link": true
    },
    "kernelspec": {
      "name": "python3",
      "display_name": "Python 3"
    },
    "language_info": {
      "name": "python"
    }
  },
  "cells": [
    {
      "cell_type": "markdown",
      "metadata": {
        "id": "view-in-github",
        "colab_type": "text"
      },
      "source": [
        "<a href=\"https://colab.research.google.com/github/ManoharKonala/Python--Practice/blob/main/06_06_Python_Basic_and_Functions.ipynb\" target=\"_parent\"><img src=\"https://colab.research.google.com/assets/colab-badge.svg\" alt=\"Open In Colab\"/></a>"
      ]
    },
    {
      "cell_type": "code",
      "execution_count": 1,
      "metadata": {
        "colab": {
          "base_uri": "https://localhost:8080/"
        },
        "id": "sKvey7hNtrxz",
        "outputId": "75d5c5b9-f215-4b65-8285-d1fa67710fcd"
      },
      "outputs": [
        {
          "output_type": "stream",
          "name": "stdout",
          "text": [
            "Cloning into 'Python--Practice'...\n",
            "warning: You appear to have cloned an empty repository.\n"
          ]
        }
      ],
      "source": [
        "!git clone https://github.com/ManoharKonala/Python--Practice.git"
      ]
    },
    {
      "cell_type": "markdown",
      "source": [
        "INPUT AND OUTPUT"
      ],
      "metadata": {
        "id": "Ql2lqDpBvrJB"
      }
    },
    {
      "cell_type": "code",
      "source": [
        "INPUT = input(\"Enter: \")\n",
        "print(\"Welcome,\", INPUT)"
      ],
      "metadata": {
        "colab": {
          "base_uri": "https://localhost:8080/"
        },
        "id": "KzVinJ60u8yv",
        "outputId": "46fb7d22-5faa-48bd-8809-1be1b12a0eb0"
      },
      "execution_count": 5,
      "outputs": [
        {
          "output_type": "stream",
          "name": "stdout",
          "text": [
            "Enter: This is Python Basics and Functions\n",
            "Welcome, This is Python Basics and Functions\n"
          ]
        }
      ]
    },
    {
      "cell_type": "markdown",
      "source": [
        "Data Types\n"
      ],
      "metadata": {
        "id": "YqoUlm_AwvXu"
      }
    },
    {
      "cell_type": "code",
      "source": [
        "INT_NUM=12\n",
        "float_NUM=2.3453\n",
        "complex_NUM=5+4j\n",
        "STRING=\"WELCOME\"\n",
        "boolean_= True\n",
        "print(type(INT_NUM))\n",
        "print(type(float_NUM))\n",
        "print(type(STRING))\n",
        "print(type(complex_NUM))\n",
        "print(type(boolean_))"
      ],
      "metadata": {
        "colab": {
          "base_uri": "https://localhost:8080/"
        },
        "id": "-X2JZDBzvl3V",
        "outputId": "0bcb2ba2-8201-41b4-b90a-fd4d985dd78e"
      },
      "execution_count": 9,
      "outputs": [
        {
          "output_type": "stream",
          "name": "stdout",
          "text": [
            "<class 'int'>\n",
            "<class 'float'>\n",
            "<class 'str'>\n",
            "<class 'complex'>\n",
            "<class 'bool'>\n"
          ]
        }
      ]
    },
    {
      "cell_type": "code",
      "source": [
        "list_ = [1, 2, 3, 4, 5]\n",
        "tuple_ = (1, 2, 3, 4, 5)\n",
        "dictionary_ = {\"2\": 4, \"3\": 9}\n",
        "set_ = {1, 2, 3, 4, 5}\n",
        "print(type(list_))\n",
        "print(type(tuple_))\n",
        "print(type(dictionary_))\n",
        "print(type(set_))"
      ],
      "metadata": {
        "colab": {
          "base_uri": "https://localhost:8080/"
        },
        "id": "VFi5KRqRyWzS",
        "outputId": "3f3455c9-2834-46e3-d780-eec3399381ba"
      },
      "execution_count": 11,
      "outputs": [
        {
          "output_type": "stream",
          "name": "stdout",
          "text": [
            "<class 'list'>\n",
            "<class 'tuple'>\n",
            "<class 'dict'>\n",
            "<class 'set'>\n"
          ]
        }
      ]
    },
    {
      "cell_type": "markdown",
      "source": [
        "Expressions and Operators"
      ],
      "metadata": {
        "id": "IglJCVX1y9Ov"
      }
    },
    {
      "cell_type": "code",
      "source": [
        "A=4\n",
        "B=9\n",
        "''''Arithemtic Operators'''\n",
        "print(A+B) #ADDITION\n",
        "print(A-B) #SUBTRACTION\n",
        "print(A*B) #MULTIPLICATION\n",
        "print(A/B) #DIVISION\n",
        "print(A//B) #FLOOR DIVISION\n",
        "print(A%B)  #MODULUS\n",
        "print(A**B) #EXPONENT\n",
        "''''Comparison Operators'''\n",
        "print(A == B) # Equal to\n",
        "print(A != B) # Not equal to\n",
        "print(A > B)  # Greater than\n",
        "print(A < B)  # Less than\n",
        "print(A >= B) # Greater than or equal to\n",
        "print(A <= B) # Less than or equal to"
      ],
      "metadata": {
        "colab": {
          "base_uri": "https://localhost:8080/"
        },
        "id": "NEa2GonDy6s0",
        "outputId": "b9f4d81b-ba0c-42be-cb46-e46bc09a27f0"
      },
      "execution_count": 12,
      "outputs": [
        {
          "output_type": "stream",
          "name": "stdout",
          "text": [
            "13\n",
            "-5\n",
            "36\n",
            "0.4444444444444444\n",
            "0\n",
            "4\n",
            "262144\n",
            "False\n",
            "True\n",
            "False\n",
            "True\n",
            "False\n",
            "True\n"
          ]
        }
      ]
    },
    {
      "cell_type": "markdown",
      "source": [
        "Type Casting"
      ],
      "metadata": {
        "id": "tMSJjFIZ0V27"
      }
    },
    {
      "cell_type": "code",
      "source": [
        "a=int(64)\n",
        "b=float(64.45)\n",
        "c=str(81)\n",
        "d=list(\"list\")\n",
        "e=tuple([1,24,43])\n",
        "f=set([1,2,4,5654,5])\n",
        "print(a,b,c)\n",
        "print(d,e,f)"
      ],
      "metadata": {
        "colab": {
          "base_uri": "https://localhost:8080/"
        },
        "id": "W2ztVe660X53",
        "outputId": "bba047ce-862d-4db3-f6ee-652acf0ff406"
      },
      "execution_count": 16,
      "outputs": [
        {
          "output_type": "stream",
          "name": "stdout",
          "text": [
            "64 64.45 81\n",
            "['l', 'i', 's', 't'] (1, 24, 43) {1, 2, 4, 5, 5654}\n"
          ]
        }
      ]
    },
    {
      "cell_type": "markdown",
      "source": [
        "Conditional Statements"
      ],
      "metadata": {
        "id": "vVIrJtf-02uI"
      }
    },
    {
      "cell_type": "code",
      "source": [
        "#IF Statement: Executes the block if the condition is true\n",
        "#ELIF: Checks another condition if the previous one is false\n",
        "#ELSE: Executes the block if all the conditions are false\n",
        "A = int(input(\"Enter a number: \"))\n",
        "B = int(input(\"Enter another number: \"))\n",
        "if A > B:\n",
        "  print(\"A is greater than B\")\n",
        "elif A == B:\n",
        "  print(\"A is equal to B\")\n",
        "else:\n",
        "  print(\"A is less than B\")"
      ],
      "metadata": {
        "colab": {
          "base_uri": "https://localhost:8080/"
        },
        "id": "uZoLTjCe05RZ",
        "outputId": "a56f85bb-e448-43bb-a420-db710a66f46a"
      },
      "execution_count": 17,
      "outputs": [
        {
          "output_type": "stream",
          "name": "stdout",
          "text": [
            "Enter a number: 81\n",
            "Enter another number: 256\n",
            "A is less than B\n"
          ]
        }
      ]
    },
    {
      "cell_type": "markdown",
      "source": [
        "Looping Statements\n"
      ],
      "metadata": {
        "id": "zPI4VDrk2km3"
      }
    },
    {
      "cell_type": "code",
      "source": [
        "#FOR LOOP : Checks another condition if the previous one is false\n",
        "#WHILE LOOP: Executes the block if the condition is true\n",
        "Numbers = [1, 2, 3, 4, 5]\n",
        "for num in Numbers:\n",
        "    print(num,end=\" \")\n",
        "\n",
        "print(\"\\n\")\n",
        "\n",
        "count = 1\n",
        "while count <= 5:\n",
        "    print(count,end=\" \")\n",
        "    count += 1"
      ],
      "metadata": {
        "colab": {
          "base_uri": "https://localhost:8080/"
        },
        "id": "zvkuz2n72o2y",
        "outputId": "69acae0d-994d-454a-ef0d-31448aeeb00e"
      },
      "execution_count": 24,
      "outputs": [
        {
          "output_type": "stream",
          "name": "stdout",
          "text": [
            "1 2 3 4 5 \n",
            "\n",
            "1 2 3 4 5 "
          ]
        }
      ]
    },
    {
      "cell_type": "markdown",
      "source": [
        "Special Functions"
      ],
      "metadata": {
        "id": "iyR7v2Ut35Hn"
      }
    },
    {
      "cell_type": "code",
      "source": [
        "K = [1,2,3,4,5,6,7,8]\n",
        "\n",
        "# len()\n",
        "print(len(K)) #Length of the list\n",
        "# id()\n",
        "print(id(K)) #Returns the unique identifier (memory address) of an object.\n",
        "# range()\n",
        "for i in range(5):\n",
        "    print(i)\n",
        "#Size\n",
        "print(\"size\",len(K))\n",
        "#Max value\n",
        "print(\"maximum value\",max(K))\n",
        "#Min value\n",
        "print(\"minimum value\",min(K))\n",
        "#Sort\n",
        "print(\"sorted list\",sorted(K))\n",
        "#Type()\n",
        "print(type(K))\n",
        "\n",
        ""
      ],
      "metadata": {
        "colab": {
          "base_uri": "https://localhost:8080/"
        },
        "id": "-WiCUNGj4MbE",
        "outputId": "17f7e3db-0277-440e-d700-fe3f927b962d"
      },
      "execution_count": 25,
      "outputs": [
        {
          "output_type": "stream",
          "name": "stdout",
          "text": [
            "8\n",
            "139824385170624\n",
            "0\n",
            "1\n",
            "2\n",
            "3\n",
            "4\n",
            "size 8\n",
            "maximum value 8\n",
            "minimum value 1\n",
            "sorted list [1, 2, 3, 4, 5, 6, 7, 8]\n",
            "<class 'list'>\n"
          ]
        }
      ]
    },
    {
      "cell_type": "markdown",
      "source": [
        "*FUNCTIONS IN PYTHON*\n"
      ],
      "metadata": {
        "id": "sXrO4YD7MQLz"
      }
    },
    {
      "cell_type": "code",
      "source": [
        "#FUNCTION--block of organized, reusable code that performs a specific task.\n",
        "def exmp_func(func_name):\n",
        "    print(\"Hello\",func_name)\n",
        "exmp_func(\"example function\")\n",
        "#func_name is called a PARAMETER which is a input to function\n",
        "#return-- Exiting a Function and Returning Values\n",
        "def add(x, y):\n",
        "    return x + y\n",
        "OUTPUt = add(5, 3)\n",
        "print(OUTPUt)\n",
        "#when return is executed, the function terminates immediately,\n",
        "def check_even(number):\n",
        "    if number % 2 == 0:\n",
        "        return \"Even\"\n",
        "    return \"Odd\"\n",
        "OUTPUT = check_even(5)\n",
        "print(OUTPUT)"
      ],
      "metadata": {
        "colab": {
          "base_uri": "https://localhost:8080/"
        },
        "id": "4tDKCon-MX-O",
        "outputId": "8ca0097d-6462-4906-a0db-80a39dbec6b8"
      },
      "execution_count": 28,
      "outputs": [
        {
          "output_type": "stream",
          "name": "stdout",
          "text": [
            "Hello example function\n",
            "8\n",
            "Odd\n"
          ]
        }
      ]
    },
    {
      "cell_type": "markdown",
      "source": [
        "PASSING FUNCTION AS ARGUMENTS\n"
      ],
      "metadata": {
        "id": "6IxFpyWPO76j"
      }
    },
    {
      "cell_type": "code",
      "source": [
        "#higher-order function-pass a function as an argument to another function\n",
        "def add(x, y):\n",
        "    return x + y\n",
        "def multiply(x, y):\n",
        "    return x * y\n",
        "def High_order(func, a, b):\n",
        "    return func(a, b)\n",
        "#passing add function as an argument\n",
        "OUTPUT1 = High_order(add, 5, 3)\n",
        "print(OUTPUT1)\n",
        "#passing multiply function as an argument\n",
        "OUTPUT2 = High_order(multiply, 5, 3)\n",
        "print(OUTPUT2)"
      ],
      "metadata": {
        "colab": {
          "base_uri": "https://localhost:8080/"
        },
        "id": "mfRJNwdsPBGp",
        "outputId": "643880e5-5cf6-4dd1-cc9d-ea35a74ecd91"
      },
      "execution_count": 27,
      "outputs": [
        {
          "output_type": "stream",
          "name": "stdout",
          "text": [
            "8\n",
            "15\n"
          ]
        }
      ]
    },
    {
      "cell_type": "markdown",
      "source": [
        "LAMBDA FUNCTION\n"
      ],
      "metadata": {
        "id": "uh3PQvRrR8Vy"
      }
    },
    {
      "cell_type": "code",
      "source": [
        "#lambda arguments: expression\n",
        "#it can take any number of arguments, but can only have one expression\n",
        "SQUARE = lambda y: y*y\n",
        "SQUARE(5)"
      ],
      "metadata": {
        "colab": {
          "base_uri": "https://localhost:8080/"
        },
        "id": "_DFQbYSwUBR9",
        "outputId": "8390186d-c45c-4776-80da-9369bcd4a314"
      },
      "execution_count": 29,
      "outputs": [
        {
          "output_type": "execute_result",
          "data": {
            "text/plain": [
              "25"
            ]
          },
          "metadata": {},
          "execution_count": 29
        }
      ]
    },
    {
      "cell_type": "markdown",
      "source": [
        "MAP, FILTER And REDUCE"
      ],
      "metadata": {
        "id": "AXoBMX0IVDvY"
      }
    },
    {
      "cell_type": "code",
      "source": [
        "#MAP-- Applie a function to each element\n",
        "# map(function, iterable)\n",
        "LIst =[12,1132,33]\n",
        "square_root = list(map(lambda x: x**0.5, LIst))\n",
        "print(square_root)\n",
        "#FILTER-- returns a new list containg only elements for which condition is true\n",
        "# filter(function, iterable)\n",
        "TUple=[-1,2,3,-4,-5]\n",
        "positive_numbers = list(filter(lambda x: x > 0, TUple))\n",
        "print(positive_numbers)\n",
        "#REDUCE--reduces a list to a single value\n",
        "'''''from functools import reduce\n",
        "reduce(function, iterable)'''\n",
        "from functools import reduce\n",
        "List = [22,33,44,55,66]\n",
        "summed_list = reduce(lambda x, y: x + y, List)\n",
        "print(summed_list)\n"
      ],
      "metadata": {
        "colab": {
          "base_uri": "https://localhost:8080/"
        },
        "id": "6_Z0CJIDXS2X",
        "outputId": "bf0b959a-b1b8-47ca-f389-40808572105f"
      },
      "execution_count": 30,
      "outputs": [
        {
          "output_type": "stream",
          "name": "stdout",
          "text": [
            "[3.4641016151377544, 33.645207682521445, 5.744562646538029]\n",
            "[2, 3]\n",
            "220\n"
          ]
        }
      ]
    },
    {
      "cell_type": "markdown",
      "source": [
        "LOCAL AND GLOBAL VARIABLES"
      ],
      "metadata": {
        "id": "1lJr_Et7aNUR"
      }
    },
    {
      "cell_type": "code",
      "source": [
        "#Local Variables--accessible within that function.\n",
        "#Global Variables--accessible throughout, by any function.\n",
        "x = 10  # global variable\n",
        "def up():\n",
        "    x = 20  # local variable\n",
        "    print(\"Inside up(), x =\", x)\n",
        "def down():\n",
        "    global x  # declare x as global\n",
        "    x = 30\n",
        "    print(\"Inside down(), x =\", x)\n",
        "\n",
        "print(\"Before calling up(), x =\", x)  # prints 10\n",
        "up()\n",
        "print(\"After calling up(), x =\", x)  # still prints 10\n",
        "print(\"Before calling down(), x =\", x)  # prints 10\n",
        "down()\n",
        "print(\"After calling down(), x =\", x)  # prints 30"
      ],
      "metadata": {
        "colab": {
          "base_uri": "https://localhost:8080/"
        },
        "id": "f_Xwp53AaMlu",
        "outputId": "bd43b69c-a5b3-4f1b-a3bf-7f26964dc6e1"
      },
      "execution_count": 31,
      "outputs": [
        {
          "output_type": "stream",
          "name": "stdout",
          "text": [
            "Before calling up(), x = 10\n",
            "Inside up(), x = 20\n",
            "After calling up(), x = 10\n",
            "Before calling down(), x = 10\n",
            "Inside down(), x = 30\n",
            "After calling down(), x = 30\n"
          ]
        }
      ]
    },
    {
      "cell_type": "code",
      "source": [
        "'''''Create a function Calculate_area(shape, dimensions) that takes the shape\n",
        "(e.g., \"rectangle\", \"circle\") and its dimensions as arguments.\n",
        "The function should calculate the area based on the shape and return the result.\n",
        "Implement logic for handling different shapes (rectangle, circle) and\n",
        "their corresponding dimensions (length, width for rectangle; radius for circle)'''\n",
        "import math\n",
        "\n",
        "def Calculate_area(shape, dimensions):\n",
        "    if shape == \"rectangle\":\n",
        "        return dimensions[0] * dimensions[1]\n",
        "    elif shape == \"circle\":\n",
        "        return math.pi * (dimensions[0] ** 2)\n",
        "    else:\n",
        "        print (f\"Unsupported shape: {shape}\")\n",
        "'''a rectangle, dimensions is a tuple or list containing two elements: the length\n",
        "and the width. dimensions[0] refers to the first element, which is the length,\n",
        "and dimensions[1] refers to the second element, which is the width.'''\n",
        "print(Calculate_area(\"rectangle\", (4, 5)))\n",
        "print(Calculate_area(\"circle\", (3,)))\n",
        "print(Calculate_area(\"triangle\", (3, 4)))"
      ],
      "metadata": {
        "colab": {
          "base_uri": "https://localhost:8080/"
        },
        "id": "qqBqJfujiXbw",
        "outputId": "af531496-4a78-40b8-f824-f150e533975d"
      },
      "execution_count": 42,
      "outputs": [
        {
          "output_type": "stream",
          "name": "stdout",
          "text": [
            "20\n",
            "28.274333882308138\n",
            "Unsupported shape: triangle\n",
            "None\n"
          ]
        }
      ]
    },
    {
      "cell_type": "code",
      "source": [
        "''''Create a function reverse_words(text) that takes a string as input.\n",
        "The function should reverse the order of words in the string while maintaining the order of characters within each word.\n",
        " -Return the modified string.\n",
        " Hint: Use string methods like split and join to manipulate the words.'''\n",
        "def reverse_words(original):\n",
        "    reversed = original[::-1]\n",
        "    return reversed\n",
        "reverse_words('PYTHON')"
      ],
      "metadata": {
        "colab": {
          "base_uri": "https://localhost:8080/",
          "height": 36
        },
        "id": "RHCpRUxkjxcR",
        "outputId": "a1ab3186-9dd1-45d9-eb72-7941c89d742f"
      },
      "execution_count": 44,
      "outputs": [
        {
          "output_type": "execute_result",
          "data": {
            "text/plain": [
              "'NOHTYP'"
            ],
            "application/vnd.google.colaboratory.intrinsic+json": {
              "type": "string"
            }
          },
          "metadata": {},
          "execution_count": 44
        }
      ]
    },
    {
      "cell_type": "code",
      "source": [
        "''''Create a function analyze_list(numbers) that takes a list of numbers as input.\n",
        "The function should calculate and return the following in a dictionary:\n",
        "Minimum value in the list\n",
        "Maximum value in the list\n",
        "Average value in the list (use sum and division)\n",
        "Use a dictionary to store and return the calculated statistics.\n",
        "Hint: Utilize built-in functions like min, max, and sum for calculation'''\n",
        "def analyze_list(numbers):\n",
        "    min_value = min(numbers)\n",
        "    max_value = max(numbers)\n",
        "    average = sum(numbers) / len(numbers)\n",
        "    calculated_statistics={\n",
        "        \"minimum\": min_value,\n",
        "        \"maximum\": max_value,\n",
        "        \"average\": average\n",
        "    }\n",
        "    return calculated_statistics\n",
        "\n",
        "analyze_list([1, 2, 3, 4, 5])\n"
      ],
      "metadata": {
        "colab": {
          "base_uri": "https://localhost:8080/"
        },
        "id": "gZhSpgxtkoiM",
        "outputId": "13d3bae1-0f18-421f-b77a-68b2daf3ea8a"
      },
      "execution_count": 45,
      "outputs": [
        {
          "output_type": "execute_result",
          "data": {
            "text/plain": [
              "{'minimum': 1, 'maximum': 5, 'average': 3.0}"
            ]
          },
          "metadata": {},
          "execution_count": 45
        }
      ]
    },
    {
      "cell_type": "code",
      "source": [
        "''''Create a list of product names (strings).\n",
        "Define a function filter_short_names(names, max_length)\n",
        "that takes the list of names and a maximum length as arguments.\n",
        "Use filter with a lambda function to return a new list containing only names\n",
        "shorter than the provided max_length.\n",
        "Hint: The lambda function should check the length of each\n",
        "name and return True if it's less than max_length.'''\n",
        "def filter_short_names(names):\n",
        "  max_length = len(max(names, key=len))\n",
        "  short_names = list(filter(lambda name: len(name) < max_length, names))\n",
        "  return short_names\n",
        "filter_short_names(['apple', 'banana', 'cherry', 'date'])\n"
      ],
      "metadata": {
        "colab": {
          "base_uri": "https://localhost:8080/"
        },
        "id": "a03DthAjllad",
        "outputId": "27a71c97-2424-4cb6-96ed-db571c16da37"
      },
      "execution_count": 46,
      "outputs": [
        {
          "output_type": "execute_result",
          "data": {
            "text/plain": [
              "['apple', 'date']"
            ]
          },
          "metadata": {},
          "execution_count": 46
        }
      ]
    }
  ]
}