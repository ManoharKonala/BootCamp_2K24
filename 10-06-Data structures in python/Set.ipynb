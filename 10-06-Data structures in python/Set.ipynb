{
  "nbformat": 4,
  "nbformat_minor": 0,
  "metadata": {
    "colab": {
      "provenance": [],
      "authorship_tag": "ABX9TyPN7B50tp4aMkwyBdywUQTl",
      "include_colab_link": true
    },
    "kernelspec": {
      "name": "python3",
      "display_name": "Python 3"
    },
    "language_info": {
      "name": "python"
    }
  },
  "cells": [
    {
      "cell_type": "markdown",
      "metadata": {
        "id": "view-in-github",
        "colab_type": "text"
      },
      "source": [
        "<a href=\"https://colab.research.google.com/github/ManoharKonala/Python--Practice/blob/main/10-06-Data%20structures%20in%20python/Set.ipynb\" target=\"_parent\"><img src=\"https://colab.research.google.com/assets/colab-badge.svg\" alt=\"Open In Colab\"/></a>"
      ]
    },
    {
      "cell_type": "markdown",
      "source": [
        "# SET\n",
        "\n",
        "\n",
        "*   a set is an unordered collection of unique elements.\n",
        "*  set cannot contain duplicate values.\n",
        "* order of elements in a set undefined.\n",
        "* sets are useful for performing mathematical set operations like union, intersection, difference, and symmetric difference.\n",
        "\n"
      ],
      "metadata": {
        "id": "-mENtJJ94lqx"
      }
    },
    {
      "cell_type": "code",
      "execution_count": 1,
      "metadata": {
        "id": "2HwxFuG7aTh7",
        "outputId": "1fc3da9b-2a59-4df7-8724-edac7ef17252",
        "colab": {
          "base_uri": "https://localhost:8080/"
        }
      },
      "outputs": [
        {
          "output_type": "stream",
          "name": "stdout",
          "text": [
            "{1, 2, 3, 4, 434}\n",
            "{1, 2, 3, 4, 5}\n"
          ]
        }
      ],
      "source": [
        "# We can create a set using either curly braces {} or the set() constructor.\n",
        "\n",
        "SET = {1,2,3,3,4,434}\n",
        "\n",
        "# Using set()\n",
        "SeT = set([1,2,3,4,5])\n",
        "\n",
        "print(SET)\n",
        "print(SeT)"
      ]
    },
    {
      "cell_type": "markdown",
      "source": [
        "# SET OPERATIONS"
      ],
      "metadata": {
        "id": "F5RInHqn7KT3"
      }
    },
    {
      "cell_type": "code",
      "source": [
        "# 1. UNION ==> Returns a new set with all elements from both sets.\n",
        "# 2. INTERSECTION ==> Returns a new set with elements thatarecommon to both sets\n",
        "# 3. DIFFERENCE ==> Returns a new set with elements that are in the first set\n",
        "# but not in the second set.\n",
        "# 4. SYMMETRIC DIFFERENCE ==> Returns a new set with elements that are in either\n",
        "# set but not both."
      ],
      "metadata": {
        "id": "Ev5pcWZT7J16"
      },
      "execution_count": null,
      "outputs": []
    },
    {
      "cell_type": "code",
      "source": [
        "# UNION\n",
        "'''' This operation returns a new set with all elements from both sets excluding\n",
        "duplicate elements. '''\n",
        "# It is denoted \"|\".\n",
        "\n",
        "A = {1,22,33,44,5}\n",
        "B = {1,55,6,7,8}\n",
        "C = A | B\n",
        "print(C)"
      ],
      "metadata": {
        "id": "rlwvYO_Z63lZ",
        "outputId": "cafcfd6d-955d-4f1e-b78e-58ce0128c935",
        "colab": {
          "base_uri": "https://localhost:8080/"
        }
      },
      "execution_count": 2,
      "outputs": [
        {
          "output_type": "stream",
          "name": "stdout",
          "text": [
            "{1, 33, 5, 6, 7, 8, 44, 22, 55}\n"
          ]
        }
      ]
    },
    {
      "cell_type": "code",
      "source": [
        "# INTERSECTION ==> Returns a set with all common elements from both sets.\n",
        "# It is denoted \"&\".\n",
        "\n",
        "A = {1,22,33,44,5}\n",
        "B = {1,55,6,7,8}\n",
        "C = A & B\n",
        "print(C)"
      ],
      "metadata": {
        "id": "WzI1FHSj8zWP",
        "outputId": "3bf44816-d68a-49b8-c59f-51f2d172a703",
        "colab": {
          "base_uri": "https://localhost:8080/"
        }
      },
      "execution_count": 3,
      "outputs": [
        {
          "output_type": "stream",
          "name": "stdout",
          "text": [
            "{1}\n"
          ]
        }
      ]
    },
    {
      "cell_type": "code",
      "source": [
        "''' DIFFERENCE ==> Returns a set with elements that are in the first set but not\n",
        " in the second set and removes all common elements. '''\n",
        "# It is denoted \"-\".\n",
        "\n",
        "A = {1,22,33,44,5}\n",
        "B = {1,55,6,7,8}\n",
        "C = A - B\n",
        "print(C)"
      ],
      "metadata": {
        "id": "ONLj0nfO89qd",
        "outputId": "aae32bc5-2367-44ee-eae3-31a193cc408c",
        "colab": {
          "base_uri": "https://localhost:8080/"
        }
      },
      "execution_count": 4,
      "outputs": [
        {
          "output_type": "stream",
          "name": "stdout",
          "text": [
            "{33, 44, 5, 22}\n"
          ]
        }
      ]
    },
    {
      "cell_type": "code",
      "source": [
        "''' SYMETRIC ==> Returns a set which  includes elements that are exclusive to\n",
        "either set.'''\n",
        "# It is denoted \"^\".\n",
        "A = {1,22,33,44,5}\n",
        "B = {1,55,6,7,8}\n",
        "C = A ^ B\n",
        "print(C)"
      ],
      "metadata": {
        "id": "W9DAkxCo9o7g",
        "outputId": "7bf0ab0d-4efc-424a-9f76-398bde758944",
        "colab": {
          "base_uri": "https://localhost:8080/"
        }
      },
      "execution_count": 5,
      "outputs": [
        {
          "output_type": "stream",
          "name": "stdout",
          "text": [
            "{33, 55, 6, 7, 8, 5, 22, 44}\n"
          ]
        }
      ]
    },
    {
      "cell_type": "code",
      "source": [
        "# WE can also use set operation using union(),intersection(),difference(),\n",
        "# symmetric difference().\n",
        "\n",
        "set1 = {\"Tej\", \"Adi\", \"Honey\"}\n",
        "set2 = {\"Honey\", \"Naa_bochu\", \"Swathimuthyam\"}\n",
        "\n",
        "# Union\n",
        "print(set1.union(set2))\n",
        "\n",
        "# Intersection\n",
        "print(set1.intersection(set2))\n",
        "\n",
        "# Difference\n",
        "print(set1.difference(set2))\n",
        "\n",
        "# Symmetric Difference\n",
        "print(set1.symmetric_difference(set2))"
      ],
      "metadata": {
        "id": "dcL21Grv-XXw",
        "outputId": "9f14c92c-f678-4c31-bd62-d1ad25f95ab7",
        "colab": {
          "base_uri": "https://localhost:8080/"
        }
      },
      "execution_count": 7,
      "outputs": [
        {
          "output_type": "stream",
          "name": "stdout",
          "text": [
            "{'Honey', 'Adi', 'Swathimuthyam', 'Tej', 'Naa_bochu'}\n",
            "{'Honey'}\n",
            "{'Adi', 'Tej'}\n",
            "{'Adi', 'Swathimuthyam', 'Tej', 'Naa_bochu'}\n"
          ]
        }
      ]
    },
    {
      "cell_type": "markdown",
      "source": [
        "*SET METHODS*"
      ],
      "metadata": {
        "id": "-Cr9KLjSFBG5"
      }
    },
    {
      "cell_type": "code",
      "source": [
        "# ADD\n",
        "# This method adds an element to the set.\n",
        "SET = {100,222,333}\n",
        "SET.add(4)\n",
        "print(\"After adding an element:\",SET)"
      ],
      "metadata": {
        "id": "d1wKDNSq_xe6",
        "outputId": "ac728be5-234c-4dec-85a1-e5a4c456fa9d",
        "colab": {
          "base_uri": "https://localhost:8080/"
        }
      },
      "execution_count": 8,
      "outputs": [
        {
          "output_type": "stream",
          "name": "stdout",
          "text": [
            "After adding an element: {4, 100, 333, 222}\n"
          ]
        }
      ]
    },
    {
      "cell_type": "code",
      "source": [
        "# REMOVE\n",
        "# This method removes an element from the set.\n",
        "SET = {100,222,333}\n",
        "SET.remove(222)\n",
        "print(\"After removing an element:\",SET)\n",
        "# Will raise error if element is not present in given set\n",
        "SET.remove(2324)"
      ],
      "metadata": {
        "id": "UaKURutwFXfA",
        "outputId": "34acabba-19c1-48eb-d1a0-9757f4818fa7",
        "colab": {
          "base_uri": "https://localhost:8080/",
          "height": 200
        }
      },
      "execution_count": 10,
      "outputs": [
        {
          "output_type": "stream",
          "name": "stdout",
          "text": [
            "After removing an element: {100, 333}\n"
          ]
        },
        {
          "output_type": "error",
          "ename": "KeyError",
          "evalue": "2324",
          "traceback": [
            "\u001b[0;31m---------------------------------------------------------------------------\u001b[0m",
            "\u001b[0;31mKeyError\u001b[0m                                  Traceback (most recent call last)",
            "\u001b[0;32m<ipython-input-10-00fd83f1ad31>\u001b[0m in \u001b[0;36m<cell line: 7>\u001b[0;34m()\u001b[0m\n\u001b[1;32m      5\u001b[0m \u001b[0mprint\u001b[0m\u001b[0;34m(\u001b[0m\u001b[0;34m\"After removing an element:\"\u001b[0m\u001b[0;34m,\u001b[0m\u001b[0mSET\u001b[0m\u001b[0;34m)\u001b[0m\u001b[0;34m\u001b[0m\u001b[0;34m\u001b[0m\u001b[0m\n\u001b[1;32m      6\u001b[0m \u001b[0;31m# Will raise error if element is not present in given set\u001b[0m\u001b[0;34m\u001b[0m\u001b[0;34m\u001b[0m\u001b[0m\n\u001b[0;32m----> 7\u001b[0;31m \u001b[0mSET\u001b[0m\u001b[0;34m.\u001b[0m\u001b[0mremove\u001b[0m\u001b[0;34m(\u001b[0m\u001b[0;36m2324\u001b[0m\u001b[0;34m)\u001b[0m\u001b[0;34m\u001b[0m\u001b[0;34m\u001b[0m\u001b[0m\n\u001b[0m",
            "\u001b[0;31mKeyError\u001b[0m: 2324"
          ]
        }
      ]
    },
    {
      "cell_type": "code",
      "source": [
        "# DISCARD\n",
        "# This method removes an element from the set.\n",
        "SET = {100,222,333}\n",
        "SET.discard(222)\n",
        "print(\"After discarding an element:\",SET)\n",
        "# Will not raise error if element is not present in given set\n",
        "SET.discard(2324)"
      ],
      "metadata": {
        "id": "ivzmkIxHFfLe",
        "outputId": "869dfdcd-eb9e-4479-93f4-2ef1e5fb2e4e",
        "colab": {
          "base_uri": "https://localhost:8080/"
        }
      },
      "execution_count": 15,
      "outputs": [
        {
          "output_type": "stream",
          "name": "stdout",
          "text": [
            "After discarding an element: {100, 333}\n"
          ]
        }
      ]
    },
    {
      "cell_type": "code",
      "source": [
        "# POP\n",
        "# This method removes an arbitrary element from the set.\n",
        "SET = {100,222,333}\n",
        "SET.pop()\n",
        "print(\"After popping :\",SET)\n",
        "# Will raise an error if set is empty\n",
        "sett=set()\n",
        "sett.pop()\n"
      ],
      "metadata": {
        "id": "CYN5emGyF_HG",
        "outputId": "9ef57f76-285a-41e0-e5d8-56224db512f8",
        "colab": {
          "base_uri": "https://localhost:8080/",
          "height": 200
        }
      },
      "execution_count": 16,
      "outputs": [
        {
          "output_type": "stream",
          "name": "stdout",
          "text": [
            "After popping : {333, 222}\n"
          ]
        },
        {
          "output_type": "error",
          "ename": "KeyError",
          "evalue": "'pop from an empty set'",
          "traceback": [
            "\u001b[0;31m---------------------------------------------------------------------------\u001b[0m",
            "\u001b[0;31mKeyError\u001b[0m                                  Traceback (most recent call last)",
            "\u001b[0;32m<ipython-input-16-d6dd35e8a481>\u001b[0m in \u001b[0;36m<cell line: 8>\u001b[0;34m()\u001b[0m\n\u001b[1;32m      6\u001b[0m \u001b[0;31m# Will raise an error if set is empty\u001b[0m\u001b[0;34m\u001b[0m\u001b[0;34m\u001b[0m\u001b[0m\n\u001b[1;32m      7\u001b[0m \u001b[0msett\u001b[0m\u001b[0;34m=\u001b[0m\u001b[0mset\u001b[0m\u001b[0;34m(\u001b[0m\u001b[0;34m)\u001b[0m\u001b[0;34m\u001b[0m\u001b[0;34m\u001b[0m\u001b[0m\n\u001b[0;32m----> 8\u001b[0;31m \u001b[0msett\u001b[0m\u001b[0;34m.\u001b[0m\u001b[0mpop\u001b[0m\u001b[0;34m(\u001b[0m\u001b[0;34m)\u001b[0m\u001b[0;34m\u001b[0m\u001b[0;34m\u001b[0m\u001b[0m\n\u001b[0m",
            "\u001b[0;31mKeyError\u001b[0m: 'pop from an empty set'"
          ]
        }
      ]
    },
    {
      "cell_type": "code",
      "source": [
        "# CLEAR\n",
        "# This method removes all elements from the set.\n",
        "SET = {100,222,333}\n",
        "SET.clear()\n",
        "print(\"After clearing all elements:\",SET)"
      ],
      "metadata": {
        "id": "uk3SITCQGLcC",
        "outputId": "07e5000f-0590-4b38-9e34-010fca20001e",
        "colab": {
          "base_uri": "https://localhost:8080/"
        }
      },
      "execution_count": 18,
      "outputs": [
        {
          "output_type": "stream",
          "name": "stdout",
          "text": [
            "After clearing all elements: set()\n"
          ]
        }
      ]
    },
    {
      "cell_type": "code",
      "source": [
        "# COPY\n",
        "# This method returns a copy of the set.\n",
        "SET = {100,222,333}\n",
        "SET_copied=SET.copy()\n",
        "print(\"After copying :\",SET_copied)"
      ],
      "metadata": {
        "id": "9rH6cNexGUvn",
        "outputId": "4aa8efb0-680e-47a3-a1d5-6831b9256986",
        "colab": {
          "base_uri": "https://localhost:8080/"
        }
      },
      "execution_count": 19,
      "outputs": [
        {
          "output_type": "stream",
          "name": "stdout",
          "text": [
            "After copying : {100, 333, 222}\n"
          ]
        }
      ]
    },
    {
      "cell_type": "code",
      "source": [
        "# UPDATE\n",
        "# This method adds elements from the specified iterable to the set\n",
        "SET = {100,222,333}\n",
        "SET.update([4,5,6])\n",
        "print(\"After updating :\",SET)"
      ],
      "metadata": {
        "id": "qhuy1BasGcEA",
        "outputId": "0a2a7d30-1fa7-4504-a002-170b276ff10b",
        "colab": {
          "base_uri": "https://localhost:8080/"
        }
      },
      "execution_count": 20,
      "outputs": [
        {
          "output_type": "stream",
          "name": "stdout",
          "text": [
            "After updating : {4, 5, 100, 6, 333, 222}\n"
          ]
        }
      ]
    },
    {
      "cell_type": "code",
      "source": [
        "# issubset\n",
        "#  Returns True if the set is a subset of another set\n",
        "''' A subset of a set A is any set B such that every element of B is also an\n",
        "element of A. . '''\n",
        "SET1 = {\"SISU\",222,100,\"THOE\"}\n",
        "SET2 = {\"SISU\",222}\n",
        "print(SET1.issubset(SET2))\n",
        "print(SET2.issubset(SET1))"
      ],
      "metadata": {
        "id": "8emGBZd1HZFE",
        "outputId": "9437ecee-f96d-44a4-c872-f3fb8d7de8a8",
        "colab": {
          "base_uri": "https://localhost:8080/"
        }
      },
      "execution_count": 22,
      "outputs": [
        {
          "output_type": "stream",
          "name": "stdout",
          "text": [
            "False\n",
            "True\n"
          ]
        }
      ]
    },
    {
      "cell_type": "code",
      "source": [
        "# issuperset\n",
        "# Returns True if the set is a superset of another set.\n",
        "''' a set is called the superset of another set  if all elements of another set\n",
        " are elements of this set .'''\n",
        "SET1 = {\"EDA\",\"MONE\",\"BOOK\",\"THORUKKU\"}\n",
        "SET2 = {\"BOOK\",\"THORUKKU\"}\n",
        "print(SET1.issuperset(SET2))\n",
        "print(SET2.issuperset(SET1))"
      ],
      "metadata": {
        "id": "XOkUqdaEIB8D",
        "outputId": "4c207b84-23f8-4b47-8e52-6fe7fbf4ec5b",
        "colab": {
          "base_uri": "https://localhost:8080/"
        }
      },
      "execution_count": 23,
      "outputs": [
        {
          "output_type": "stream",
          "name": "stdout",
          "text": [
            "True\n",
            "False\n"
          ]
        }
      ]
    },
    {
      "cell_type": "code",
      "source": [
        "# isdisjoint\n",
        "'''A set is called disjoint if it has no elements in common with another set.'''\n",
        "# Returns true if the set has no commom elements with the other set.\n",
        "SET1 = {111,222,100}\n",
        "SET2 = {\"bro\"}\n",
        "print(SET1.isdisjoint(SET2))\n"
      ],
      "metadata": {
        "id": "YYWmoNbRJHeT",
        "outputId": "852cd1c0-cd0f-44d9-cc12-5ec7f9cdd747",
        "colab": {
          "base_uri": "https://localhost:8080/"
        }
      },
      "execution_count": 27,
      "outputs": [
        {
          "output_type": "stream",
          "name": "stdout",
          "text": [
            "True\n"
          ]
        }
      ]
    },
    {
      "cell_type": "markdown",
      "source": [
        "\"IN\""
      ],
      "metadata": {
        "id": "1CdaVRAxKVtj"
      }
    },
    {
      "cell_type": "code",
      "source": [
        "set_IN = {100,222,333}\n",
        "print(100 in set_IN)\n",
        "print(10 in set_IN)"
      ],
      "metadata": {
        "id": "TiQE2BXDKH6C",
        "outputId": "b35f6288-0ba3-4e43-b1bd-f5039e3f6b4e",
        "colab": {
          "base_uri": "https://localhost:8080/"
        }
      },
      "execution_count": 28,
      "outputs": [
        {
          "output_type": "stream",
          "name": "stdout",
          "text": [
            "True\n",
            "False\n"
          ]
        }
      ]
    },
    {
      "cell_type": "markdown",
      "source": [
        "# ADVANCED SET OPERATIONS IN PYTHON\n"
      ],
      "metadata": {
        "id": "0JCTZ-OgKuZv"
      }
    },
    {
      "cell_type": "code",
      "source": [
        "# Cartesian Product\n",
        "\n",
        "'''Gives a set of all orderd pairs taking each element from both sets in the\n",
        "ordered pair.'''\n",
        "\n",
        "# USING ITERTOOLS.PRODUCT\n",
        "import itertools # IMPORT ITERTOOLS\n",
        "\n",
        "dan = {1969, 2324}\n",
        "ajr= {'y', 'no'}\n",
        "\n",
        "cartesian_product = itertools.product(dan, ajr)\n",
        "\n",
        "result = list(cartesian_product)\n",
        "print(result)\n",
        "\n",
        "# USING SET COMPREHENSION\n",
        "\n",
        "Dan = {1969, 2324}\n",
        "Ajr= {'y', 'no'}\n",
        "\n",
        "cartesian_producTT = {(X,Y) for X in Dan for Y in Ajr}\n",
        "print(cartesian_producTT)\n",
        "\n"
      ],
      "metadata": {
        "id": "fcn_iFIoKhH3",
        "outputId": "2b1a4bc6-944b-42cf-cd37-2e8f07906eb7",
        "colab": {
          "base_uri": "https://localhost:8080/"
        }
      },
      "execution_count": 33,
      "outputs": [
        {
          "output_type": "stream",
          "name": "stdout",
          "text": [
            "[(1969, 'no'), (1969, 'y'), (2324, 'no'), (2324, 'y')]\n",
            "{(2324, 'y'), (1969, 'no'), (1969, 'y'), (2324, 'no')}\n"
          ]
        }
      ]
    },
    {
      "cell_type": "code",
      "source": [
        "# POWER SET\n",
        "\n",
        "'''Gives a set of all subsets of the given set,including the set itself and null\n",
        " set.'''\n",
        "\n",
        " # USING ITERTOOLS.COMBINATIONS\n",
        "import itertools\n",
        "\n",
        "def power_set(input_set):\n",
        "    s = list(input_set)\n",
        "    power_set_list = []\n",
        "    for r in range(len(s) + 1):\n",
        "        combinations = itertools.combinations(s, r)\n",
        "        for subset in combinations:\n",
        "            power_set_list.append(set(subset))\n",
        "    return power_set_list\n",
        "\n",
        "# Example usage\n",
        "input_set = {1, 2, 3}\n",
        "result = power_set(input_set)\n",
        "print(result)\n",
        "\n",
        "# USING FROZEN SET\n",
        "def power_set(s):\n",
        "    if len(s) == 0:\n",
        "        return {frozenset()}\n",
        "    element = s.pop()\n",
        "    subsets = power_set(s)\n",
        "    return subsets.union({subset.union({element}) for subset in subsets})\n",
        "\n",
        "my_set = {1, 2, 3}\n",
        "print(power_set(my_set))\n"
      ],
      "metadata": {
        "id": "1CCLTA7-M-WA",
        "outputId": "1a3be27b-25d0-49bf-e091-6cb212d9c626",
        "colab": {
          "base_uri": "https://localhost:8080/"
        }
      },
      "execution_count": 34,
      "outputs": [
        {
          "output_type": "stream",
          "name": "stdout",
          "text": [
            "[set(), {1}, {2}, {3}, {1, 2}, {1, 3}, {2, 3}, {1, 2, 3}]\n",
            "{frozenset({2}), frozenset({2, 3}), frozenset({1, 2, 3}), frozenset({1, 2}), frozenset({3}), frozenset({1}), frozenset(), frozenset({1, 3})}\n"
          ]
        }
      ]
    },
    {
      "cell_type": "code",
      "source": [
        "# FROZEN SET\n",
        "'''These are immutable versions of sets. Once created, elements cannot be\n",
        "added or removed.'''\n",
        "\n",
        "frozen_set = frozenset([\"This\", \"Set_Is\", \"Frozen\"])\n",
        "print(frozen_set)\n"
      ],
      "metadata": {
        "id": "tTlMvJCbO0Gw",
        "outputId": "f03e5619-98ec-451a-88cf-57710d87372b",
        "colab": {
          "base_uri": "https://localhost:8080/"
        }
      },
      "execution_count": 35,
      "outputs": [
        {
          "output_type": "stream",
          "name": "stdout",
          "text": [
            "frozenset({'This', 'Set_Is', 'Frozen'})\n"
          ]
        }
      ]
    }
  ]
}