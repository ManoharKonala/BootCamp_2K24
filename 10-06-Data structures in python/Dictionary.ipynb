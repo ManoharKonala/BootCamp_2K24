{
  "nbformat": 4,
  "nbformat_minor": 0,
  "metadata": {
    "colab": {
      "provenance": [],
      "authorship_tag": "ABX9TyObJYPZwvrBTTzJLxJTAg3h",
      "include_colab_link": true
    },
    "kernelspec": {
      "name": "python3",
      "display_name": "Python 3"
    },
    "language_info": {
      "name": "python"
    }
  },
  "cells": [
    {
      "cell_type": "markdown",
      "metadata": {
        "id": "view-in-github",
        "colab_type": "text"
      },
      "source": [
        "<a href=\"https://colab.research.google.com/github/ManoharKonala/Python--Practice/blob/main/10-06-Data%20structures%20in%20python/Dictionary.ipynb\" target=\"_parent\"><img src=\"https://colab.research.google.com/assets/colab-badge.svg\" alt=\"Open In Colab\"/></a>"
      ]
    },
    {
      "cell_type": "code",
      "execution_count": null,
      "metadata": {
        "colab": {
          "base_uri": "https://localhost:8080/"
        },
        "id": "2h6-MlHZp4oh",
        "outputId": "aec68c36-ff16-4058-fa18-f4a7bd08b6af"
      },
      "outputs": [
        {
          "output_type": "stream",
          "name": "stdout",
          "text": [
            "Cloning into 'Python--Practice'...\n",
            "remote: Enumerating objects: 105, done.\u001b[K\n",
            "remote: Counting objects: 100% (105/105), done.\u001b[K\n",
            "remote: Compressing objects: 100% (91/91), done.\u001b[K\n",
            "remote: Total 105 (delta 48), reused 10 (delta 4), pack-reused 0\u001b[K\n",
            "Receiving objects: 100% (105/105), 48.84 KiB | 1.06 MiB/s, done.\n",
            "Resolving deltas: 100% (48/48), done.\n"
          ]
        }
      ],
      "source": [
        "!git clone https://github.com/ManoharKonala/Python--Practice"
      ]
    },
    {
      "cell_type": "markdown",
      "source": [
        "# DICTIONARY\n",
        "* A dictionary is an unordered collection of **KEY-VAUE** pairs.\n",
        "* It is a mutable data type, meaning its contents can be modified after creation.\n",
        "*  Dictionaries are a powerful and flexible data structure in Python.\n",
        "* *Keys*: Dictionaries have unique keys that are used to access their corresponding values.\n",
        "* *Values*: Values are the data associated with each key.\n",
        "* *Syntax*: Dictionaries are defined using curly braces {} and key-value pairs are separated by commas.\n",
        "* *Key-Value Pairs*: Each key-value pair is separated by a colon.\n",
        "\n"
      ],
      "metadata": {
        "id": "jbN0YSALr_HY"
      }
    },
    {
      "cell_type": "markdown",
      "source": [
        "# CREATING A DICTIONARY"
      ],
      "metadata": {
        "id": "ojyTsWyltXmQ"
      }
    },
    {
      "cell_type": "code",
      "source": [
        "# Using dict() constructor\n",
        "dictionary_constructor = dict(Paris='Europe', Athens='Europe', Madrid='Europe')\n",
        "print(dictionary_constructor )\n",
        "\n",
        "# Using curly braces\n",
        "dictionary_curly = {'Paris': 'Europe', 'Athens': 'Europe', 'Madrid': 'Europe'}\n",
        "print(dictionary_curly)"
      ],
      "metadata": {
        "id": "umDkXsT8td2s",
        "outputId": "a8e77f9c-86f3-46ab-ad7b-fa25b302a52b",
        "colab": {
          "base_uri": "https://localhost:8080/"
        }
      },
      "execution_count": null,
      "outputs": [
        {
          "output_type": "stream",
          "name": "stdout",
          "text": [
            "{'Paris': 'Europe', 'Athens': 'Europe', 'Madrid': 'Europe'}\n",
            "{'Paris': 'Europe', 'Athens': 'Europe', 'Madrid': 'Europe'}\n"
          ]
        }
      ]
    },
    {
      "cell_type": "markdown",
      "source": [
        "# Accessing and Modifying Values"
      ],
      "metadata": {
        "id": "CfKyblM4ug6Z"
      }
    },
    {
      "cell_type": "code",
      "source": [
        "# Accessing Values:\n",
        "\n",
        "'''You can access a value in a dictionary by using its corresponding key.\n",
        "If the key is not found, it will raise a KeyError.'''\n",
        "\n",
        "Accessing_dict = {'Name': 'Manohar', 'Age': 18}\n",
        "\n",
        "# Accessing a value\n",
        "print(Accessing_dict ['Name'])  # Output: John\n",
        "print(Accessing_dict ['Age'])   # Output: 30\n",
        "\n",
        "# If key is not there, key will raise a KeyError\n",
        "print(Accessing_dict ['country'])\n",
        "\n",
        "#Using the get() Method:\n",
        "\n",
        "'''The get() method allows you to access a value in a dictionary without\n",
        "raising a KeyError if the key is not found.\n",
        "\n",
        "It returns a default value if the key is not found.'''\n",
        "\n",
        "print(\"Using Get():\",Accessing_dict.get('Name'))\n",
        "# OUTPUT: 'Manohar'\n"
      ],
      "metadata": {
        "id": "FFnvnxqEunw8",
        "outputId": "26004b92-66cf-4c5a-9fbd-443cf66b2ba8",
        "colab": {
          "base_uri": "https://localhost:8080/",
          "height": 254
        }
      },
      "execution_count": null,
      "outputs": [
        {
          "output_type": "stream",
          "name": "stdout",
          "text": [
            "Manohar\n",
            "18\n"
          ]
        },
        {
          "output_type": "error",
          "ename": "KeyError",
          "evalue": "'country'",
          "traceback": [
            "\u001b[0;31m---------------------------------------------------------------------------\u001b[0m",
            "\u001b[0;31mKeyError\u001b[0m                                  Traceback (most recent call last)",
            "\u001b[0;32m<ipython-input-2-5caec543e4d7>\u001b[0m in \u001b[0;36m<cell line: 13>\u001b[0;34m()\u001b[0m\n\u001b[1;32m     11\u001b[0m \u001b[0;34m\u001b[0m\u001b[0m\n\u001b[1;32m     12\u001b[0m \u001b[0;31m# Trying to access a non-existent key will raise a KeyError\u001b[0m\u001b[0;34m\u001b[0m\u001b[0;34m\u001b[0m\u001b[0m\n\u001b[0;32m---> 13\u001b[0;31m \u001b[0mprint\u001b[0m\u001b[0;34m(\u001b[0m\u001b[0mAccessing_dict\u001b[0m \u001b[0;34m[\u001b[0m\u001b[0;34m'country'\u001b[0m\u001b[0;34m]\u001b[0m\u001b[0;34m)\u001b[0m\u001b[0;34m\u001b[0m\u001b[0;34m\u001b[0m\u001b[0m\n\u001b[0m\u001b[1;32m     14\u001b[0m \u001b[0;34m\u001b[0m\u001b[0m\n\u001b[1;32m     15\u001b[0m \u001b[0;31m#Using the get() Method:\u001b[0m\u001b[0;34m\u001b[0m\u001b[0;34m\u001b[0m\u001b[0m\n",
            "\u001b[0;31mKeyError\u001b[0m: 'country'"
          ]
        }
      ]
    },
    {
      "cell_type": "code",
      "source": [
        "# Modifying Values\n",
        "\n",
        "'''You can modify a value in a dictionary by assigning a new value to an\n",
        "existing key.\n",
        "If the key does not exist, it will be added to the dictionary.'''\n",
        "\n",
        "Modifying_dict = {'Name': 'Manohar', 'Age': 18}\n",
        "\n",
        "# Modifying a value\n",
        "Modifying_dict ['Age'] = 20\n",
        "print(Modifying_dict)\n",
        "\n",
        "# Adding a new key-value pair\n",
        "Modifying_dict['country'] = 'USA'\n",
        "print(Modifying_dict)"
      ],
      "metadata": {
        "id": "p_X5z8d6xDxW",
        "outputId": "f07152fa-64e9-4a4f-aeb9-b259ee781b62",
        "colab": {
          "base_uri": "https://localhost:8080/"
        }
      },
      "execution_count": null,
      "outputs": [
        {
          "output_type": "stream",
          "name": "stdout",
          "text": [
            "{'Name': 'Manohar', 'Age': 20}\n",
            "{'Name': 'Manohar', 'Age': 20, 'country': 'USA'}\n"
          ]
        }
      ]
    },
    {
      "cell_type": "markdown",
      "source": [
        "# Practical Examples and Use Cases"
      ],
      "metadata": {
        "id": "AM98PQYPxw7d"
      }
    },
    {
      "cell_type": "markdown",
      "source": [
        "Data Structures"
      ],
      "metadata": {
        "id": "94aDmjmtxy9D"
      }
    },
    {
      "cell_type": "code",
      "source": [
        "# Dictionaries can represent complex data structures like objects, databases,\n",
        "# or caches.\n",
        "\n",
        "students = {\n",
        "    \"A\": {\n",
        "        \"age\": 20,\n",
        "        \"course\": \"Computer Science\"\n",
        "    },\n",
        "    \"B\": {\n",
        "        \"age\": 22,\n",
        "        \"course\": \"MBA\"\n",
        "    },\n",
        "    \"C\": {\n",
        "        \"age\": 21,\n",
        "        \"course\": \"EEE\"\n",
        "    },\n",
        "    \"D\": {\n",
        "        \"age\": 23,\n",
        "        \"course\": \"ECE\"\n",
        "    }\n",
        "}\n",
        "print(students)\n",
        "print(students[\"A\"])\n",
        "print(students[\"A\"][\"age\"])"
      ],
      "metadata": {
        "id": "wssAxLTlx1Y_",
        "outputId": "f23d6612-786f-452f-f08d-3412ae98c88d",
        "colab": {
          "base_uri": "https://localhost:8080/"
        }
      },
      "execution_count": null,
      "outputs": [
        {
          "output_type": "stream",
          "name": "stdout",
          "text": [
            "{'A': {'age': 20, 'course': 'Computer Science'}, 'B': {'age': 22, 'course': 'MBA'}, 'C': {'age': 21, 'course': 'EEE'}, 'D': {'age': 23, 'course': 'ECE'}}\n",
            "{'age': 20, 'course': 'Computer Science'}\n",
            "20\n"
          ]
        }
      ]
    },
    {
      "cell_type": "markdown",
      "source": [
        "Configuration files"
      ],
      "metadata": {
        "id": "bcNWfZdSz4Z6"
      }
    },
    {
      "cell_type": "code",
      "source": [
        "# Dictionaries are often used to store configuration settings for applications\n",
        "# in Python.\n",
        "\n",
        "config = {\n",
        "    'debug': True,\n",
        "    'log_file': 'app.log',\n",
        "    'database': {\n",
        "        'host': 'localhost',\n",
        "        'user': 'root',\n",
        "        'password': 'secret'\n",
        "    }\n",
        "}\n",
        "\n",
        "# Accessing configuration values\n",
        "debug_mode = config['debug']\n",
        "log_file = config['log_file']\n",
        "db_host = config['database']['host']"
      ],
      "metadata": {
        "id": "by0CadFaz_Uz"
      },
      "execution_count": null,
      "outputs": []
    },
    {
      "cell_type": "markdown",
      "source": [
        "Counting occurences"
      ],
      "metadata": {
        "id": "RqousfYX1A6O"
      }
    },
    {
      "cell_type": "code",
      "source": [
        "\n",
        "words = ['apple', 'banana', 'cherry', 'apple', 'banana']\n",
        "\n",
        "# Create an empty dictionary to store the counts\n",
        "word_occurences= {}\n",
        "\n",
        "for word in words:\n",
        "    if word in word_occurences:\n",
        "        word_occurences[word] += 1\n",
        "    else:\n",
        "       word_occurences[word] = 1\n",
        "\n",
        "# Print the word counts\n",
        "print(word_occurences)"
      ],
      "metadata": {
        "id": "oR2NqxYD1DA1",
        "outputId": "e8ef492e-40eb-4598-94ab-7934c607a8bd",
        "colab": {
          "base_uri": "https://localhost:8080/"
        }
      },
      "execution_count": 8,
      "outputs": [
        {
          "output_type": "stream",
          "name": "stdout",
          "text": [
            "{'apple': 2, 'banana': 2, 'cherry': 1}\n"
          ]
        }
      ]
    },
    {
      "cell_type": "markdown",
      "source": [
        "Data Processing"
      ],
      "metadata": {
        "id": "5WNg7mJI1n8j"
      }
    },
    {
      "cell_type": "code",
      "source": [
        "'''Dictionaries are useful for data manipulation, filtering, and analysis tasks.\n",
        "They can be used to group data, calculate statistics, and perform\n",
        "data analysis.'''\n",
        "\n",
        "data = [\n",
        "    {'name': 'John', 'age': 25, 'score': 90},\n",
        "    {'name': 'Mary', 'age': 31, 'score': 85},\n",
        "    {'name': 'John', 'age': 25, 'score': 90},\n",
        "    {'name': 'Mary', 'age': 31, 'score': 85},\n",
        "    {'name': 'Jane', 'age': 22, 'score': 88}\n",
        "]\n",
        "\n",
        "filter_dict = {'age': 25, 'score': 90}\n",
        "\n",
        "filtered_data = [item for item in data if all(item[key] == value for key, value in filter_dict.items())]\n",
        "\n",
        "print(filtered_data)"
      ],
      "metadata": {
        "id": "yIXWBRin1rh8",
        "outputId": "65563110-16f8-4d33-cd53-544d0f8778dc",
        "colab": {
          "base_uri": "https://localhost:8080/"
        }
      },
      "execution_count": 10,
      "outputs": [
        {
          "output_type": "stream",
          "name": "stdout",
          "text": [
            "[{'name': 'John', 'age': 25, 'score': 90}, {'name': 'John', 'age': 25, 'score': 90}]\n"
          ]
        }
      ]
    },
    {
      "cell_type": "markdown",
      "source": [
        "# DICTIONARY METHODS"
      ],
      "metadata": {
        "id": "eV3StP_F-8ev"
      }
    },
    {
      "cell_type": "code",
      "source": [
        "# keys() --> Returns all the key values of the dictionary\n",
        "dict_key = {\n",
        "    \"Name\":\"M\",\n",
        "    \"Age\": 18\n",
        "}\n",
        "print(dict_key.keys())\n"
      ],
      "metadata": {
        "id": "YSiCuhBB_by9",
        "outputId": "12f87d47-3fec-4b2a-eafb-098db6ac2d0e",
        "colab": {
          "base_uri": "https://localhost:8080/"
        }
      },
      "execution_count": 21,
      "outputs": [
        {
          "output_type": "stream",
          "name": "stdout",
          "text": [
            "dict_keys(['Name', 'Age'])\n"
          ]
        }
      ]
    },
    {
      "cell_type": "code",
      "source": [
        "# values() --> Returns all the values of the dictionary\n",
        "dict_value = {\n",
        "    \"Name\":\"M\",\n",
        "    \"Age\":18\n",
        "}\n",
        "print(dict_value.values())\n"
      ],
      "metadata": {
        "id": "kGlgTNGzAJQz",
        "outputId": "125c9fc9-3ac6-49e8-9f35-29e79791eef0",
        "colab": {
          "base_uri": "https://localhost:8080/"
        }
      },
      "execution_count": 22,
      "outputs": [
        {
          "output_type": "stream",
          "name": "stdout",
          "text": [
            "dict_values(['M', 18])\n"
          ]
        }
      ]
    },
    {
      "cell_type": "code",
      "source": [
        "# items() --> Returnsa list of all the values in the dictionary.\n",
        "dict_items = {\n",
        "    \"Name\":\"M\",\n",
        "    \"Age\":18\n",
        "}\n",
        "print(dict_items.items())"
      ],
      "metadata": {
        "id": "xqAODg3yArqv",
        "outputId": "0c956854-9b15-4caf-ea3c-364593273c69",
        "colab": {
          "base_uri": "https://localhost:8080/"
        }
      },
      "execution_count": 23,
      "outputs": [
        {
          "output_type": "stream",
          "name": "stdout",
          "text": [
            "dict_items([('Name', 'M'), ('Age', 18)])\n"
          ]
        }
      ]
    },
    {
      "cell_type": "code",
      "source": [
        "# get() --> returns value for the specified key if the key is in the dictionary\n",
        "# Returns a default value if key is not found.\n",
        "\n",
        "dict_get = {\n",
        "    \"Name\":\"Manohar\",\n",
        "    \"Age\":18\n",
        "}\n",
        "print(dict_get.get(\"Name\"))\n",
        "print(dict_get.get(\"N\")) # returns none\n"
      ],
      "metadata": {
        "id": "a4lmO0neA-Yt",
        "outputId": "cd704b23-053a-426c-fc41-8ea0256c853d",
        "colab": {
          "base_uri": "https://localhost:8080/"
        }
      },
      "execution_count": 24,
      "outputs": [
        {
          "output_type": "stream",
          "name": "stdout",
          "text": [
            "Manohar\n",
            "None\n"
          ]
        }
      ]
    },
    {
      "cell_type": "code",
      "source": [
        "# pop() --> Removes the mentioned key's key-value pair and returs the value\n",
        "dict_pop = {\n",
        "    \"Name\":\"Manohar\",\n",
        "    \"Age\":18\n",
        "}\n",
        "print(dict_pop.pop(\"Name\"))\n",
        "\n",
        "# Raises error is key is not found\n",
        "print(dict_pop.pop(\"N\"))\n"
      ],
      "metadata": {
        "id": "l5YYDiF4BrQF",
        "outputId": "cd74eb7e-fa20-415b-bd76-5812120d4c6a",
        "colab": {
          "base_uri": "https://localhost:8080/",
          "height": 200
        }
      },
      "execution_count": 18,
      "outputs": [
        {
          "output_type": "stream",
          "name": "stdout",
          "text": [
            "Manohar\n"
          ]
        },
        {
          "output_type": "error",
          "ename": "KeyError",
          "evalue": "'N'",
          "traceback": [
            "\u001b[0;31m---------------------------------------------------------------------------\u001b[0m",
            "\u001b[0;31mKeyError\u001b[0m                                  Traceback (most recent call last)",
            "\u001b[0;32m<ipython-input-18-2379eaa580df>\u001b[0m in \u001b[0;36m<cell line: 9>\u001b[0;34m()\u001b[0m\n\u001b[1;32m      7\u001b[0m \u001b[0;34m\u001b[0m\u001b[0m\n\u001b[1;32m      8\u001b[0m \u001b[0;31m# Raises error is key is not found\u001b[0m\u001b[0;34m\u001b[0m\u001b[0;34m\u001b[0m\u001b[0m\n\u001b[0;32m----> 9\u001b[0;31m \u001b[0mprint\u001b[0m\u001b[0;34m(\u001b[0m\u001b[0mdict_pop\u001b[0m\u001b[0;34m.\u001b[0m\u001b[0mpop\u001b[0m\u001b[0;34m(\u001b[0m\u001b[0;34m\"N\"\u001b[0m\u001b[0;34m)\u001b[0m\u001b[0;34m)\u001b[0m\u001b[0;34m\u001b[0m\u001b[0;34m\u001b[0m\u001b[0m\n\u001b[0m",
            "\u001b[0;31mKeyError\u001b[0m: 'N'"
          ]
        }
      ]
    },
    {
      "cell_type": "code",
      "source": [
        "#clear() --> removes all key-value pairs from the dictionary\n",
        "dict_clear = {\"Name\":\"Tej\",\"Age\":1}\n",
        "dict_clear.clear()\n",
        "print(dict_clear)"
      ],
      "metadata": {
        "id": "l9NB1H78CNGB",
        "outputId": "ca0f811f-c5c1-463b-dd77-283e63a81f77",
        "colab": {
          "base_uri": "https://localhost:8080/"
        }
      },
      "execution_count": 19,
      "outputs": [
        {
          "output_type": "stream",
          "name": "stdout",
          "text": [
            "{}\n"
          ]
        }
      ]
    },
    {
      "cell_type": "code",
      "source": [
        "# copy() --> copies a dictionary\n",
        "dict_copy = {\n",
        "    \"Name\":\"Rao_garu\",\"Age\":69\n",
        "}\n",
        "dict_copy1 = dict_copy.copy()\n",
        "print(dict_copy1)"
      ],
      "metadata": {
        "id": "gD9NMeGDChHL",
        "outputId": "03485cca-f47e-4036-b5f5-0fa83f8ae4a6",
        "colab": {
          "base_uri": "https://localhost:8080/"
        }
      },
      "execution_count": 25,
      "outputs": [
        {
          "output_type": "stream",
          "name": "stdout",
          "text": [
            "{'Name': 'Rao_garu', 'Age': 69}\n"
          ]
        }
      ]
    },
    {
      "cell_type": "markdown",
      "source": [
        "# DICTIONARY COMPREHENSION"
      ],
      "metadata": {
        "id": "zpEJ4UmoDRAK"
      }
    },
    {
      "cell_type": "code",
      "source": [
        "# Creating a dictionary from a list\n",
        "lst = [1,2,3,4]\n",
        "dict_comp = {x:x**2 for x in lst}\n",
        "print(dict_comp)"
      ],
      "metadata": {
        "id": "aiLBlGmIDVqq",
        "outputId": "7d62a8c9-df38-4be1-fcf4-5fc72133f2ee",
        "colab": {
          "base_uri": "https://localhost:8080/"
        }
      },
      "execution_count": 26,
      "outputs": [
        {
          "output_type": "stream",
          "name": "stdout",
          "text": [
            "{1: 1, 2: 4, 3: 9, 4: 16}\n"
          ]
        }
      ]
    },
    {
      "cell_type": "code",
      "source": [
        "# Creating a dictionary from another dictionary\n",
        "\n",
        "DICT_1= {1:10,2:20}\n",
        "DICT_2 = {3:30,4:40}\n",
        "DICT_3={value: key for key, value in DICT_1.items() for value in DICT_2.values()}\n",
        "print(DICT_3)\n",
        "\n"
      ],
      "metadata": {
        "id": "gaiAKKwiDr8H",
        "outputId": "b55d2a47-70e3-4886-d2e7-45e0fd37c08f",
        "colab": {
          "base_uri": "https://localhost:8080/"
        }
      },
      "execution_count": 36,
      "outputs": [
        {
          "output_type": "stream",
          "name": "stdout",
          "text": [
            "{30: 2, 40: 2}\n"
          ]
        }
      ]
    },
    {
      "cell_type": "code",
      "source": [
        "#  Creating a dictionary with conditional logic\n",
        "dict_comp = {x:x**2 for x in range(10) if x%2==0}\n",
        "print(dict_comp)"
      ],
      "metadata": {
        "id": "rmcC97gDFJAA",
        "outputId": "728678b1-b079-49ce-90cb-71249fe63e1e",
        "colab": {
          "base_uri": "https://localhost:8080/"
        }
      },
      "execution_count": 37,
      "outputs": [
        {
          "output_type": "stream",
          "name": "stdout",
          "text": [
            "{0: 0, 2: 4, 4: 16, 6: 36, 8: 64}\n"
          ]
        }
      ]
    },
    {
      "cell_type": "code",
      "source": [
        "# Creating a dictionary from two lists\n",
        "list_1 = [1,2,3,4]\n",
        "list_2 = [10,20,30,40]\n",
        "dict_comp = {list_1[i]:list_2[i] for i in range(len(list_1))}\n",
        "print(dict_comp)"
      ],
      "metadata": {
        "id": "JfNMF52eFPOz",
        "outputId": "0d433875-8bb7-411a-be88-08f7fe8a5e4f",
        "colab": {
          "base_uri": "https://localhost:8080/"
        }
      },
      "execution_count": 39,
      "outputs": [
        {
          "output_type": "stream",
          "name": "stdout",
          "text": [
            "{1: 10, 2: 20, 3: 30, 4: 40}\n"
          ]
        }
      ]
    },
    {
      "cell_type": "markdown",
      "source": [
        "#  Nesting Dictionaries"
      ],
      "metadata": {
        "id": "_qK5XEdQF6os"
      }
    },
    {
      "cell_type": "code",
      "source": [
        "students = {\n",
        "    'Manohar': {\n",
        "        'grade': 8,\n",
        "        'subjects': {\n",
        "            'math': 85,\n",
        "            'dsa': 69,\n",
        "            'english': 75\n",
        "        }\n",
        "    },\n",
        "    'Tej': {\n",
        "        'grade': 10,\n",
        "        'subjects': {\n",
        "            'math': 100,\n",
        "            'dsa': 100,\n",
        "            'english': 100\n",
        "        }\n",
        "    },\n",
        "    'Nivya': {\n",
        "        'grade': 100,\n",
        "        'subjects': {\n",
        "            'math': 110,\n",
        "            'sql': 110,\n",
        "            'english': 110\n",
        "        }\n",
        "    }\n",
        "}\n",
        "print(students)\n",
        "print(students['Manohar']['subjects']['math'])\n",
        "print(students['Tej']['subjects']['dsa'])\n",
        "print(students['Nivya']['subjects']['english'])\n"
      ],
      "metadata": {
        "id": "dEukKUYiFbHW",
        "outputId": "854268b3-64b9-4b2c-e71c-f93e3f66fef6",
        "colab": {
          "base_uri": "https://localhost:8080/"
        }
      },
      "execution_count": 44,
      "outputs": [
        {
          "output_type": "stream",
          "name": "stdout",
          "text": [
            "{'Manohar': {'grade': 8, 'subjects': {'math': 85, 'dsa': 69, 'english': 75}}, 'Tej': {'grade': 10, 'subjects': {'math': 100, 'dsa': 100, 'english': 100}}, 'Nivya': {'grade': 100, 'subjects': {'math': 110, 'sql': 110, 'english': 110}}}\n",
            "85\n",
            "100\n",
            "110\n"
          ]
        }
      ]
    }
  ]
}