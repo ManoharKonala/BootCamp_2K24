{
  "nbformat": 4,
  "nbformat_minor": 0,
  "metadata": {
    "colab": {
      "provenance": [],
      "authorship_tag": "ABX9TyMWha5bMYJSK31M6RSvc/Nw",
      "include_colab_link": true
    },
    "kernelspec": {
      "name": "python3",
      "display_name": "Python 3"
    },
    "language_info": {
      "name": "python"
    }
  },
  "cells": [
    {
      "cell_type": "markdown",
      "metadata": {
        "id": "view-in-github",
        "colab_type": "text"
      },
      "source": [
        "<a href=\"https://colab.research.google.com/github/ManoharKonala/Python--Practice/blob/main/10-06-Data%20structures%20in%20python/Dictionary.ipynb\" target=\"_parent\"><img src=\"https://colab.research.google.com/assets/colab-badge.svg\" alt=\"Open In Colab\"/></a>"
      ]
    },
    {
      "cell_type": "code",
      "execution_count": null,
      "metadata": {
        "colab": {
          "base_uri": "https://localhost:8080/"
        },
        "id": "2h6-MlHZp4oh",
        "outputId": "aec68c36-ff16-4058-fa18-f4a7bd08b6af"
      },
      "outputs": [
        {
          "output_type": "stream",
          "name": "stdout",
          "text": [
            "Cloning into 'Python--Practice'...\n",
            "remote: Enumerating objects: 105, done.\u001b[K\n",
            "remote: Counting objects: 100% (105/105), done.\u001b[K\n",
            "remote: Compressing objects: 100% (91/91), done.\u001b[K\n",
            "remote: Total 105 (delta 48), reused 10 (delta 4), pack-reused 0\u001b[K\n",
            "Receiving objects: 100% (105/105), 48.84 KiB | 1.06 MiB/s, done.\n",
            "Resolving deltas: 100% (48/48), done.\n"
          ]
        }
      ],
      "source": [
        "!git clone https://github.com/ManoharKonala/Python--Practice"
      ]
    },
    {
      "cell_type": "markdown",
      "source": [
        "# DICTIONARY\n",
        "* A dictionary is an unordered collection of **KEY-VAUE** pairs.\n",
        "* It is a mutable data type, meaning its contents can be modified after creation.\n",
        "*  Dictionaries are a powerful and flexible data structure in Python.\n",
        "* *Keys*: Dictionaries have unique keys that are used to access their corresponding values.\n",
        "* Values *italicized text*: Values are the data associated with each key.\n",
        "* *Syntax*: Dictionaries are defined using curly braces {} and key-value pairs are separated by commas.\n",
        "* *Key-Value Pairs*: Each key-value pair is separated by a colon.\n",
        "\n"
      ],
      "metadata": {
        "id": "jbN0YSALr_HY"
      }
    },
    {
      "cell_type": "markdown",
      "source": [
        "# CREATING A DICTIONARY"
      ],
      "metadata": {
        "id": "ojyTsWyltXmQ"
      }
    },
    {
      "cell_type": "code",
      "source": [
        "# Using dict() constructor\n",
        "dictionary_constructor = dict(Paris='Europe', Athens='Europe', Madrid='Europe')\n",
        "print(dictionary_constructor )\n",
        "\n",
        "# Using curly braces\n",
        "dictionary_curly = {'Paris': 'Europe', 'Athens': 'Europe', 'Madrid': 'Europe'}\n",
        "print(dictionary_curly)"
      ],
      "metadata": {
        "id": "umDkXsT8td2s",
        "outputId": "a8e77f9c-86f3-46ab-ad7b-fa25b302a52b",
        "colab": {
          "base_uri": "https://localhost:8080/"
        }
      },
      "execution_count": 1,
      "outputs": [
        {
          "output_type": "stream",
          "name": "stdout",
          "text": [
            "{'Paris': 'Europe', 'Athens': 'Europe', 'Madrid': 'Europe'}\n",
            "{'Paris': 'Europe', 'Athens': 'Europe', 'Madrid': 'Europe'}\n"
          ]
        }
      ]
    },
    {
      "cell_type": "markdown",
      "source": [
        "# Accessing and Modifying Values"
      ],
      "metadata": {
        "id": "CfKyblM4ug6Z"
      }
    },
    {
      "cell_type": "code",
      "source": [
        "# Accessing Values:\n",
        "\n",
        "'''You can access a value in a dictionary by using its corresponding key.\n",
        "If the key is not found, it will raise a KeyError.'''\n",
        "\n",
        "Accessing_dict = {'Name': 'Manohar', 'Age': 18}\n",
        "\n",
        "# Accessing a value\n",
        "print(Accessing_dict ['Name'])  # Output: John\n",
        "print(Accessing_dict ['Age'])   # Output: 30\n",
        "\n",
        "# If key is not there, key will raise a KeyError\n",
        "print(Accessing_dict ['country'])\n",
        "\n",
        "#Using the get() Method:\n",
        "\n",
        "'''The get() method allows you to access a value in a dictionary without\n",
        "raising a KeyError if the key is not found.\n",
        "\n",
        "It returns a default value if the key is not found.'''\n",
        "\n",
        "print(\"Using Get():\",Accessing_dict.get('Name'))\n",
        "# OUTPUT: 'Manohar'\n"
      ],
      "metadata": {
        "id": "FFnvnxqEunw8",
        "outputId": "26004b92-66cf-4c5a-9fbd-443cf66b2ba8",
        "colab": {
          "base_uri": "https://localhost:8080/",
          "height": 254
        }
      },
      "execution_count": 2,
      "outputs": [
        {
          "output_type": "stream",
          "name": "stdout",
          "text": [
            "Manohar\n",
            "18\n"
          ]
        },
        {
          "output_type": "error",
          "ename": "KeyError",
          "evalue": "'country'",
          "traceback": [
            "\u001b[0;31m---------------------------------------------------------------------------\u001b[0m",
            "\u001b[0;31mKeyError\u001b[0m                                  Traceback (most recent call last)",
            "\u001b[0;32m<ipython-input-2-5caec543e4d7>\u001b[0m in \u001b[0;36m<cell line: 13>\u001b[0;34m()\u001b[0m\n\u001b[1;32m     11\u001b[0m \u001b[0;34m\u001b[0m\u001b[0m\n\u001b[1;32m     12\u001b[0m \u001b[0;31m# Trying to access a non-existent key will raise a KeyError\u001b[0m\u001b[0;34m\u001b[0m\u001b[0;34m\u001b[0m\u001b[0m\n\u001b[0;32m---> 13\u001b[0;31m \u001b[0mprint\u001b[0m\u001b[0;34m(\u001b[0m\u001b[0mAccessing_dict\u001b[0m \u001b[0;34m[\u001b[0m\u001b[0;34m'country'\u001b[0m\u001b[0;34m]\u001b[0m\u001b[0;34m)\u001b[0m\u001b[0;34m\u001b[0m\u001b[0;34m\u001b[0m\u001b[0m\n\u001b[0m\u001b[1;32m     14\u001b[0m \u001b[0;34m\u001b[0m\u001b[0m\n\u001b[1;32m     15\u001b[0m \u001b[0;31m#Using the get() Method:\u001b[0m\u001b[0;34m\u001b[0m\u001b[0;34m\u001b[0m\u001b[0m\n",
            "\u001b[0;31mKeyError\u001b[0m: 'country'"
          ]
        }
      ]
    },
    {
      "cell_type": "code",
      "source": [
        "# Modifying Values\n",
        "\n",
        "'''You can modify a value in a dictionary by assigning a new value to an\n",
        "existing key.\n",
        "If the key does not exist, it will be added to the dictionary.'''\n",
        "\n",
        "Modifying_dict = {'Name': 'Manohar', 'Age': 18}\n",
        "\n",
        "# Modifying a value\n",
        "Modifying_dict ['Age'] = 20\n",
        "print(Modifying_dict)\n",
        "\n",
        "# Adding a new key-value pair\n",
        "Modifying_dict['country'] = 'USA'\n",
        "print(Modifying_dict)"
      ],
      "metadata": {
        "id": "p_X5z8d6xDxW",
        "outputId": "f07152fa-64e9-4a4f-aeb9-b259ee781b62",
        "colab": {
          "base_uri": "https://localhost:8080/"
        }
      },
      "execution_count": 3,
      "outputs": [
        {
          "output_type": "stream",
          "name": "stdout",
          "text": [
            "{'Name': 'Manohar', 'Age': 20}\n",
            "{'Name': 'Manohar', 'Age': 20, 'country': 'USA'}\n"
          ]
        }
      ]
    },
    {
      "cell_type": "markdown",
      "source": [
        "# Practical Examples and Use Cases"
      ],
      "metadata": {
        "id": "AM98PQYPxw7d"
      }
    },
    {
      "cell_type": "markdown",
      "source": [
        "Data Structures"
      ],
      "metadata": {
        "id": "94aDmjmtxy9D"
      }
    },
    {
      "cell_type": "code",
      "source": [
        "# Dictionaries can represent complex data structures like objects, databases,\n",
        "# or caches.\n",
        "\n",
        "students = {\n",
        "    \"A\": {\n",
        "        \"age\": 20,\n",
        "        \"course\": \"Computer Science\"\n",
        "    },\n",
        "    \"B\": {\n",
        "        \"age\": 22,\n",
        "        \"course\": \"MBA\"\n",
        "    },\n",
        "    \"C\": {\n",
        "        \"age\": 21,\n",
        "        \"course\": \"EEE\"\n",
        "    },\n",
        "    \"D\": {\n",
        "        \"age\": 23,\n",
        "        \"course\": \"ECE\"\n",
        "    }\n",
        "}\n",
        "print(students)\n",
        "print(students[\"A\"])\n",
        "print(students[\"A\"][\"age\"])"
      ],
      "metadata": {
        "id": "wssAxLTlx1Y_",
        "outputId": "f23d6612-786f-452f-f08d-3412ae98c88d",
        "colab": {
          "base_uri": "https://localhost:8080/"
        }
      },
      "execution_count": 5,
      "outputs": [
        {
          "output_type": "stream",
          "name": "stdout",
          "text": [
            "{'A': {'age': 20, 'course': 'Computer Science'}, 'B': {'age': 22, 'course': 'MBA'}, 'C': {'age': 21, 'course': 'EEE'}, 'D': {'age': 23, 'course': 'ECE'}}\n",
            "{'age': 20, 'course': 'Computer Science'}\n",
            "20\n"
          ]
        }
      ]
    },
    {
      "cell_type": "markdown",
      "source": [
        "Configuration files"
      ],
      "metadata": {
        "id": "bcNWfZdSz4Z6"
      }
    },
    {
      "cell_type": "code",
      "source": [
        "# Dictionaries are often used to store configuration settings for applications\n",
        "# in Python.\n",
        "\n",
        "config = {\n",
        "    'debug': True,\n",
        "    'log_file': 'app.log',\n",
        "    'database': {\n",
        "        'host': 'localhost',\n",
        "        'user': 'root',\n",
        "        'password': 'secret'\n",
        "    }\n",
        "}\n",
        "\n",
        "# Accessing configuration values\n",
        "debug_mode = config['debug']\n",
        "log_file = config['log_file']\n",
        "db_host = config['database']['host']"
      ],
      "metadata": {
        "id": "by0CadFaz_Uz"
      },
      "execution_count": 6,
      "outputs": []
    }
  ]
}