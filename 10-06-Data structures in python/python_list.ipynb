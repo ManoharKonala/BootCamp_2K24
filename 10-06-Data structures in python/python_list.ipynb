{
  "nbformat": 4,
  "nbformat_minor": 0,
  "metadata": {
    "colab": {
      "provenance": [],
      "authorship_tag": "ABX9TyPdUqf4tjjXevbre4lMH/OW",
      "include_colab_link": true
    },
    "kernelspec": {
      "name": "python3",
      "display_name": "Python 3"
    },
    "language_info": {
      "name": "python"
    }
  },
  "cells": [
    {
      "cell_type": "markdown",
      "metadata": {
        "id": "view-in-github",
        "colab_type": "text"
      },
      "source": [
        "<a href=\"https://colab.research.google.com/github/ManoharKonala/Python--Practice/blob/main/10-06-Data%20structures%20in%20python/python_list.ipynb\" target=\"_parent\"><img src=\"https://colab.research.google.com/assets/colab-badge.svg\" alt=\"Open In Colab\"/></a>"
      ]
    },
    {
      "cell_type": "markdown",
      "source": [
        "# List"
      ],
      "metadata": {
        "id": "mOV4QpRbYSfV"
      }
    },
    {
      "cell_type": "markdown",
      "source": [
        "In Python, a list is a collection data type that is ordered and mutable (changeable)."
      ],
      "metadata": {
        "id": "tKn5lfOqb9Zh"
      }
    },
    {
      "cell_type": "markdown",
      "source": [],
      "metadata": {
        "id": "BWMMcuqOcxQh"
      }
    }
  ]
}