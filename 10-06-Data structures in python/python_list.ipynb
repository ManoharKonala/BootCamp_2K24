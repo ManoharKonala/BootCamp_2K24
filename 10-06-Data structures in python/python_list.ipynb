{
  "nbformat": 4,
  "nbformat_minor": 0,
  "metadata": {
    "colab": {
      "provenance": [],
      "authorship_tag": "ABX9TyNLISfywe8sjVsVPWpm6jzN",
      "include_colab_link": true
    },
    "kernelspec": {
      "name": "python3",
      "display_name": "Python 3"
    },
    "language_info": {
      "name": "python"
    }
  },
  "cells": [
    {
      "cell_type": "markdown",
      "metadata": {
        "id": "view-in-github",
        "colab_type": "text"
      },
      "source": [
        "<a href=\"https://colab.research.google.com/github/ManoharKonala/Python--Practice/blob/main/10-06-Data%20structures%20in%20python/python_list.ipynb\" target=\"_parent\"><img src=\"https://colab.research.google.com/assets/colab-badge.svg\" alt=\"Open In Colab\"/></a>"
      ]
    },
    {
      "cell_type": "markdown",
      "source": [
        "# List"
      ],
      "metadata": {
        "id": "mOV4QpRbYSfV"
      }
    },
    {
      "cell_type": "markdown",
      "source": [
        "In Python, a list is a collection data type that is ordered and mutable (changeable).\n",
        "* **Ordered** --> Elements are arranged in ordered manner, each assigned  with a  index number starting from 0.\n",
        "*   **Indexable** -->Each element can be accessed through their index number (Position)\n",
        "*  **Mutable** --> A list is changable.\n",
        "* **Heterogeneous** --> A list need not contain elements of single data type,it can contain elements of different data types.\n",
        "* **Dynamic** --> The size of a list can be changed during runtime.\n",
        "* **Iterable** -->  Lists can be looped through (iterated).\n",
        "\n",
        " *Methods of a List :*\n",
        "* append(): Adds an element to the end of the list.\n",
        "* clear(): Removes all elements from the list.\n",
        "* copy(): Creates and returns a copy of the list.\n",
        "* count(): Returns the count of elements that match a specified value.\n",
        "* extend(): Appends the elements of another iterable (e.g., list, tuple) to the end of the current list.\n",
        "* index(): Returns the index of the first occurrence of a specified value.\n",
        "* insert(): Inserts an element at a specified index in the list.\n",
        "* pop(): Removes and returns the element at a specified position. If index is not specified, it removes the last element.\n",
        "* remove(): Removes the first occurrence of a specified value from the list.\n",
        "* reverse(): Reverses the order of elements in the list.\n",
        "* sort(): Sorts the elements of the list(ascending order by default).\n",
        "\n",
        "\n",
        "\n"
      ],
      "metadata": {
        "id": "tKn5lfOqb9Zh"
      }
    },
    {
      "cell_type": "code",
      "source": [
        "#CREATING A LIST\n",
        "''''You can create a list by placing elements inside square brackets [],\n",
        "separated by commas.'''\n",
        "K = [22,23,2,44,55,66]\n",
        "print(K)\n",
        "print(type(K))\n",
        "print(\" \")\n",
        "\n",
        "#ACCESSING A LIST\n",
        "print(K[0])\n",
        "print(K[1])\n",
        "print(K[2])\n",
        "print(K[3])\n",
        "print(K[4])\n",
        "print(K[5])\n",
        "\n",
        "print(\" \")\n",
        "\n",
        "# MUTABLE\n",
        "K[0]=11\n",
        "print(K)"
      ],
      "metadata": {
        "colab": {
          "base_uri": "https://localhost:8080/"
        },
        "id": "TGrbuBXwh6qw",
        "outputId": "45353db2-9b18-44a5-b858-ad9daf18b45a"
      },
      "execution_count": 8,
      "outputs": [
        {
          "output_type": "stream",
          "name": "stdout",
          "text": [
            "[22, 23, 2, 44, 55, 66]\n",
            "<class 'list'>\n",
            " \n",
            "22\n",
            "23\n",
            "2\n",
            "44\n",
            "55\n",
            "66\n",
            " \n",
            "[11, 23, 2, 44, 55, 66]\n"
          ]
        }
      ]
    },
    {
      "cell_type": "code",
      "source": [
        "# APPEND\n",
        "a=[1,2,3,3,4,454] #Adds an element to the end of the list\n",
        "a.append(5)\n",
        "print(a)"
      ],
      "metadata": {
        "colab": {
          "base_uri": "https://localhost:8080/"
        },
        "id": "duLGdTeQhGQs",
        "outputId": "6e9e3a79-ea24-4b58-fa53-5814d682333a"
      },
      "execution_count": 24,
      "outputs": [
        {
          "output_type": "stream",
          "name": "stdout",
          "text": [
            "[1, 2, 3, 3, 4, 454, 5]\n"
          ]
        }
      ]
    },
    {
      "cell_type": "code",
      "source": [
        "# CLEAR\n",
        "a.clear() # Clears the list\n",
        "print(a)"
      ],
      "metadata": {
        "colab": {
          "base_uri": "https://localhost:8080/"
        },
        "id": "Vtuynq5-hzl3",
        "outputId": "f5168f4a-e165-4133-b619-c941ac7149b9"
      },
      "execution_count": 2,
      "outputs": [
        {
          "output_type": "stream",
          "name": "stdout",
          "text": [
            "[]\n"
          ]
        }
      ]
    },
    {
      "cell_type": "code",
      "source": [
        "# COPY\n",
        "B=[1,2,3,4,5,6] # Creates and returns a copy of the list.\n",
        "C=B.copy()\n",
        "print(C)"
      ],
      "metadata": {
        "colab": {
          "base_uri": "https://localhost:8080/"
        },
        "id": "engcucCci2bG",
        "outputId": "dd39f7f8-d3c7-40a2-b037-8173c129d894"
      },
      "execution_count": 9,
      "outputs": [
        {
          "output_type": "stream",
          "name": "stdout",
          "text": [
            "[1, 2, 3, 4, 5, 6]\n"
          ]
        }
      ]
    },
    {
      "cell_type": "code",
      "source": [
        "# COUNT\n",
        "B=[1,2,3,4,5,6]  # Counts how many times 3 is repeated\n",
        "print(B.count(3))"
      ],
      "metadata": {
        "colab": {
          "base_uri": "https://localhost:8080/"
        },
        "id": "DXwxz0tQjMI3",
        "outputId": "80a32e2b-d4d9-4e9b-c8e4-089ddc2990b1"
      },
      "execution_count": 10,
      "outputs": [
        {
          "output_type": "stream",
          "name": "stdout",
          "text": [
            "1\n"
          ]
        }
      ]
    },
    {
      "cell_type": "code",
      "source": [
        "# EXTEND\n",
        "B=[1,2,3,4,5,6]\n",
        "D=[7,8,9] # Appends the elements of D to the end of B.\n",
        "B.extend(D)\n",
        "print(B)"
      ],
      "metadata": {
        "colab": {
          "base_uri": "https://localhost:8080/"
        },
        "id": "Ok07RVpdjZ_w",
        "outputId": "9d46d6e5-aca1-4a0c-88f5-9cb7a3393121"
      },
      "execution_count": 11,
      "outputs": [
        {
          "output_type": "stream",
          "name": "stdout",
          "text": [
            "[1, 2, 3, 4, 5, 6, 7, 8, 9]\n"
          ]
        }
      ]
    },
    {
      "cell_type": "code",
      "source": [
        "# INDEX\n",
        "B=[1,2,3,4,5,6]\n",
        "print(B.index(6))\n"
      ],
      "metadata": {
        "colab": {
          "base_uri": "https://localhost:8080/"
        },
        "id": "Ckhmn71OjmtC",
        "outputId": "2b733799-9697-4753-de19-089a9eba430e"
      },
      "execution_count": 12,
      "outputs": [
        {
          "output_type": "stream",
          "name": "stdout",
          "text": [
            "5\n"
          ]
        }
      ]
    },
    {
      "cell_type": "code",
      "source": [
        "# INSERT\n",
        "B=[1,2,3,4,5,6]\n",
        "B.insert(2,8) # Inserts an element at a specified index in the list.\n",
        "print(B)"
      ],
      "metadata": {
        "colab": {
          "base_uri": "https://localhost:8080/"
        },
        "id": "pTR8NqQ1jup4",
        "outputId": "57c35ea6-7ac6-48a7-b082-e349a1d949c6"
      },
      "execution_count": 16,
      "outputs": [
        {
          "output_type": "stream",
          "name": "stdout",
          "text": [
            "[1, 2, 8, 3, 4, 5, 6]\n"
          ]
        }
      ]
    },
    {
      "cell_type": "code",
      "source": [
        "# POP\n",
        "B.pop(2) # Removes and returns the element at a specified position.\n",
        "print(B)"
      ],
      "metadata": {
        "colab": {
          "base_uri": "https://localhost:8080/"
        },
        "id": "xt5blkvekFfx",
        "outputId": "cd412163-29b4-4266-f272-31edb4d951f9"
      },
      "execution_count": 17,
      "outputs": [
        {
          "output_type": "stream",
          "name": "stdout",
          "text": [
            "[1, 2, 3, 4, 5, 6]\n"
          ]
        }
      ]
    },
    {
      "cell_type": "code",
      "source": [
        "# REMOVE\n",
        "B.remove(5) # Removes the first occurrence of a specified value from the list.\n",
        "print(B)"
      ],
      "metadata": {
        "colab": {
          "base_uri": "https://localhost:8080/"
        },
        "id": "R2P6Y0gwkNGs",
        "outputId": "4453c702-3492-445e-e412-94688a1844c0"
      },
      "execution_count": 18,
      "outputs": [
        {
          "output_type": "stream",
          "name": "stdout",
          "text": [
            "[1, 2, 3, 4, 6]\n"
          ]
        }
      ]
    },
    {
      "cell_type": "code",
      "source": [
        "# REVERSE\n",
        "D=[11,223,43,44,55,76]\n",
        "D.reverse() # Reverses the order of elements in the list.\n",
        "print(D)"
      ],
      "metadata": {
        "colab": {
          "base_uri": "https://localhost:8080/"
        },
        "id": "k3PYUwi6kRPa",
        "outputId": "782d58eb-32f3-4ac9-e418-d0ed75284bd5"
      },
      "execution_count": 19,
      "outputs": [
        {
          "output_type": "stream",
          "name": "stdout",
          "text": [
            "[76, 55, 44, 43, 223, 11]\n"
          ]
        }
      ]
    },
    {
      "cell_type": "code",
      "source": [
        "# SORT\n",
        "D=[11,223,43,44,55,76]\n",
        "D.sort() # ASCENDING ORDER\n",
        "print(D)\n",
        "\n",
        "#DESCENDING ORDER\n",
        "D.sort(reverse=True)\n",
        "print(D)"
      ],
      "metadata": {
        "colab": {
          "base_uri": "https://localhost:8080/"
        },
        "id": "ah3D6tEEkaRF",
        "outputId": "2b47042b-22ba-4de3-c249-1289f98912eb"
      },
      "execution_count": 22,
      "outputs": [
        {
          "output_type": "stream",
          "name": "stdout",
          "text": [
            "[11, 43, 44, 55, 76, 223]\n",
            "[223, 76, 55, 44, 43, 11]\n"
          ]
        }
      ]
    },
    {
      "cell_type": "markdown",
      "source": [
        "# List Comprehension"
      ],
      "metadata": {
        "id": "hWR2eP6gmX2u"
      }
    },
    {
      "cell_type": "markdown",
      "source": [
        "List comprehension is an easy to read and simple way of creating a list from any existing iterable object."
      ],
      "metadata": {
        "id": "e3G9Syr6mbku"
      }
    },
    {
      "cell_type": "markdown",
      "source": [
        "General Syntax of List Comprehension:\n",
        "\n",
        "list = [expression for item in iterable if condition]\n",
        "* expression: This is the member itself, a call to a method, or any other valid\n",
        "expression that returns a value.\n",
        "* item: The variable that takes the value of the item inside the iterable.\n",
        "* iterable: A collection of objects to iterate over(eg: list,tuple etc...).\n",
        "* condition: An option that filters items from the iterable."
      ],
      "metadata": {
        "id": "pPv1HzWlms4e"
      }
    },
    {
      "cell_type": "code",
      "source": [
        "# Basic List Comprehension\n",
        "a=[1,2,3,4,5,6]\n",
        "b=[i for i in a]\n",
        "print(b)\n",
        "\n",
        "# A list comprehension with condition\n",
        "\n",
        "CAP = [x for x in range(10) if x % 2 == 0]\n",
        "print(CAP)\n",
        "\n",
        "# Using Functions in List Comprehension\n",
        "\n",
        "word = [\"I\", \"Am\", \"IronMan\"]\n",
        "length = [len(word) for word in word]\n",
        "print(length)\n",
        "# Output: [5, 6, 6]\n",
        "\n",
        "to_get_pairs_using_list_comprehension = [(x, y) for x in range(4) if x % 2 == 0 for y in range(4) if y % 2 != 0]\n",
        "print(to_get_pairs_using_list_comprehension)\n"
      ],
      "metadata": {
        "colab": {
          "base_uri": "https://localhost:8080/"
        },
        "id": "fVY4O284mr_2",
        "outputId": "9fc08f57-fde0-4001-a636-08dbcad2a3ee"
      },
      "execution_count": 29,
      "outputs": [
        {
          "output_type": "stream",
          "name": "stdout",
          "text": [
            "[1, 2, 3, 4, 5, 6]\n",
            "[0, 2, 4, 6, 8]\n",
            "[1, 2, 7]\n",
            "[(0, 1), (0, 3), (2, 1), (2, 3)]\n"
          ]
        }
      ]
    },
    {
      "cell_type": "markdown",
      "source": [
        "*INDEXING IN LIST*"
      ],
      "metadata": {
        "id": "DPZzH5QhqZhx"
      }
    },
    {
      "cell_type": "code",
      "source": [
        "# POSITIVE INDEX --> Accessing elements from the start of sequence.\n",
        "POSITIVE_INDEX = [1,2,3,4,5,6]\n",
        "print(POSITIVE_INDEX[0])\n",
        "print(POSITIVE_INDEX[1])\n",
        "print(POSITIVE_INDEX[2])"
      ],
      "metadata": {
        "colab": {
          "base_uri": "https://localhost:8080/"
        },
        "id": "KC34T5_Elydy",
        "outputId": "839a3b29-b00e-42ae-f17f-aa787b231a54"
      },
      "execution_count": 30,
      "outputs": [
        {
          "output_type": "stream",
          "name": "stdout",
          "text": [
            "1\n",
            "2\n",
            "3\n"
          ]
        }
      ]
    },
    {
      "cell_type": "code",
      "source": [
        "#NEGATIVE INDEX --> Accessing elements from the end of list.\n",
        "NEGATIVE_INDEX = [1,2,3,4,5,6]\n",
        "print(NEGATIVE_INDEX[-1])\n",
        "print(NEGATIVE_INDEX[-2])\n",
        "print(NEGATIVE_INDEX[-3])\n",
        "# Indexing starts from -1 from the other end of the list."
      ],
      "metadata": {
        "colab": {
          "base_uri": "https://localhost:8080/"
        },
        "id": "KWHvn6AOrFbe",
        "outputId": "b1743bab-c69a-4528-cd84-3c34733d88a4"
      },
      "execution_count": 31,
      "outputs": [
        {
          "output_type": "stream",
          "name": "stdout",
          "text": [
            "6\n",
            "5\n",
            "4\n"
          ]
        }
      ]
    },
    {
      "cell_type": "code",
      "source": [
        "# Retreive -->  Getting the value of an element at a specific index.\n",
        "Retreive = [1,2,3,4,5,6]\n",
        "print(Retreive[2])"
      ],
      "metadata": {
        "colab": {
          "base_uri": "https://localhost:8080/"
        },
        "id": "bHl12qDkrQ9A",
        "outputId": "cbf394a6-2489-4666-b2da-368a2245f9e5"
      },
      "execution_count": 32,
      "outputs": [
        {
          "output_type": "stream",
          "name": "stdout",
          "text": [
            "3\n"
          ]
        }
      ]
    },
    {
      "cell_type": "code",
      "source": [
        "# UPDATE -->  Getting the value of an element.\n",
        "UPDATE = [1,2,3,4,5,6]\n",
        "UPDATE[2]=10\n",
        "print(UPDATE)"
      ],
      "metadata": {
        "colab": {
          "base_uri": "https://localhost:8080/"
        },
        "id": "7YRY9TFErnCk",
        "outputId": "3fc1415f-0c26-4f94-d5bf-4a795ade5ff5"
      },
      "execution_count": 33,
      "outputs": [
        {
          "output_type": "stream",
          "name": "stdout",
          "text": [
            "[1, 2, 10, 4, 5, 6]\n"
          ]
        }
      ]
    },
    {
      "cell_type": "markdown",
      "source": [
        "SLICING IN LIST -->\n",
        "allows you to extract a subset of elements by specifying a range of indices.\n",
        "***List[start:end]***\n",
        "\n",
        "*   start: inlcudes the index mentioned\n",
        "*   end: excludes the index mentioned\n",
        "\n",
        "\n",
        "\n",
        "\n",
        "\n"
      ],
      "metadata": {
        "id": "XqWxdJO6sKbb"
      }
    },
    {
      "cell_type": "code",
      "source": [
        "\n",
        "List = [1, 2, 3, 4, 5]\n",
        "\n",
        "# Get elements from index 1 to 3 (exclusive)\n",
        "K = List[1:4]  # Note that the last index is not included and incrementaion is 1 by default\n",
        "print(K)  # Output: [2, 3, 4]\n",
        "\n",
        "# Get elements from the beginning to index 3 (exclusive)\n",
        "L = List[:4]\n",
        "print(L)  # Output: [1, 2, 3, 4]\n",
        "\n",
        "# Get elements from index 2 to the end\n",
        "M = List[2:]\n",
        "print(M)  # Output: [3, 4, 5]\n"
      ],
      "metadata": {
        "colab": {
          "base_uri": "https://localhost:8080/"
        },
        "id": "PDDqUDH8s8Te",
        "outputId": "91247869-b8f7-4700-dc4d-285d36e9b664"
      },
      "execution_count": 37,
      "outputs": [
        {
          "output_type": "stream",
          "name": "stdout",
          "text": [
            "[2, 3, 4]\n",
            "[1, 2, 3, 4]\n",
            "[3, 4, 5]\n"
          ]
        }
      ]
    },
    {
      "cell_type": "code",
      "source": [
        "# POSITIVE SLICING --> using positive indices for slicing\n",
        "\n",
        "POSITIVE_SLICING = [1,2,3,4,5,6]\n",
        "print(POSITIVE_SLICING[1:4])\n"
      ],
      "metadata": {
        "colab": {
          "base_uri": "https://localhost:8080/"
        },
        "id": "lTwyIhMwt8X8",
        "outputId": "d734c4b1-5977-4f54-f80d-bf9a8ea0b6c6"
      },
      "execution_count": 39,
      "outputs": [
        {
          "output_type": "stream",
          "name": "stdout",
          "text": [
            "[2, 3, 4]\n"
          ]
        }
      ]
    },
    {
      "cell_type": "code",
      "source": [
        "# NEGATIVE SLICING --> Using negative indices for slicing\n",
        "\n",
        "NEGATIVE_SLICING = [1,2,3,4,5,6]\n",
        "print(NEGATIVE_SLICING[-4:-1])\n"
      ],
      "metadata": {
        "colab": {
          "base_uri": "https://localhost:8080/"
        },
        "id": "wK9HMaAbuxZj",
        "outputId": "d6e57181-4223-4620-9abc-cd328616ee32"
      },
      "execution_count": 40,
      "outputs": [
        {
          "output_type": "stream",
          "name": "stdout",
          "text": [
            "[3, 4, 5]\n"
          ]
        }
      ]
    },
    {
      "cell_type": "code",
      "source": [
        "# RETREIVE -->  Extracting a portion of the list.\n",
        "RETREIVE = [1,2,3,4,5,6]\n",
        "print(RETREIVE[2:5])"
      ],
      "metadata": {
        "colab": {
          "base_uri": "https://localhost:8080/"
        },
        "id": "Ibqjm1cBvYAz",
        "outputId": "b7176a34-776a-4c1f-9b4b-3decdb1e7492"
      },
      "execution_count": 41,
      "outputs": [
        {
          "output_type": "stream",
          "name": "stdout",
          "text": [
            "[3, 4, 5]\n"
          ]
        }
      ]
    },
    {
      "cell_type": "code",
      "source": [
        "# UPDATE\n",
        "\n",
        "UPDATE = [1,2,3,4,5,6]\n",
        "UPDATE[2:5]=[10,11,12]\n",
        "print(UPDATE)"
      ],
      "metadata": {
        "colab": {
          "base_uri": "https://localhost:8080/"
        },
        "id": "RGDAL3t2vew_",
        "outputId": "bc02b92c-bb82-42b7-d3f9-e59105999315"
      },
      "execution_count": 42,
      "outputs": [
        {
          "output_type": "stream",
          "name": "stdout",
          "text": [
            "[1, 2, 10, 11, 12, 6]\n"
          ]
        }
      ]
    },
    {
      "cell_type": "code",
      "source": [
        "# DELETE\n",
        "\n",
        "DELETE = [1,2,3,4,5,6]\n",
        "del DELETE[2:5]\n",
        "print(DELETE)\n",
        "\n",
        "delete = [1, 2, 3, 4, 5]\n",
        "delete[1:3] = []  # Delete elements at index 1 and 2\n",
        "print(delete)"
      ],
      "metadata": {
        "colab": {
          "base_uri": "https://localhost:8080/"
        },
        "id": "FNL-zmTuvpsP",
        "outputId": "d0850f86-911e-49f5-ed8d-edfa58f7b629"
      },
      "execution_count": 45,
      "outputs": [
        {
          "output_type": "stream",
          "name": "stdout",
          "text": [
            "[1, 2, 6]\n",
            "[1, 4, 5]\n"
          ]
        }
      ]
    },
    {
      "cell_type": "code",
      "source": [
        "# INSERT\n",
        "\n",
        "INSERT = [1,2,3,4,5,6]\n",
        "INSERT[2:5]=[10,11,12]\n",
        "print(INSERT)"
      ],
      "metadata": {
        "colab": {
          "base_uri": "https://localhost:8080/"
        },
        "id": "ZYyXqMxhvwK4",
        "outputId": "c5f58aef-1829-408f-deef-1f23f6709a23"
      },
      "execution_count": 44,
      "outputs": [
        {
          "output_type": "stream",
          "name": "stdout",
          "text": [
            "[1, 2, 10, 11, 12, 6]\n"
          ]
        }
      ]
    },
    {
      "cell_type": "markdown",
      "source": [
        "SEARCHING AND SORTING IN LIST"
      ],
      "metadata": {
        "id": "YI-oxNgUwidl"
      }
    },
    {
      "cell_type": "code",
      "source": [
        "# SEARCHING\n",
        "\n",
        "SEARCHING = [1,2,3,4,5,6]\n",
        "if 3 in SEARCHING:\n",
        "  print(\"Yes\")\n",
        "print(1 in SEARCHING) # Gives out a boolean value whether given value is there\n",
        "# or not\n",
        "print(7 in SEARCHING)\n",
        "\n",
        "#SORTING\n",
        "''' Both sort and sorted are used for sorting a list but sorted is used to\n",
        "create a new list where as sort sorts the given list in place.'''\n",
        "\n",
        "SORTING = [1,2,3,4,5,6]\n",
        "new_list = sorted(SORTING)  # Using sorted\n",
        "print(new_list)\n",
        "\n",
        "SORTING.sort() # Using sort\n",
        "print(SORTING)\n"
      ],
      "metadata": {
        "colab": {
          "base_uri": "https://localhost:8080/"
        },
        "id": "36vjH8NbwpNm",
        "outputId": "69d5b000-4e41-44b6-92c3-5eec70bd9f04"
      },
      "execution_count": 49,
      "outputs": [
        {
          "output_type": "stream",
          "name": "stdout",
          "text": [
            "Yes\n",
            "True\n",
            "False\n",
            "[1, 2, 3, 4, 5, 6]\n",
            "[1, 2, 3, 4, 5, 6]\n"
          ]
        }
      ]
    },
    {
      "cell_type": "markdown",
      "source": [
        "# SPECIAL METHODS\n",
        "\n",
        "\n",
        "*   **Reduce** ==> Reduce an iterable to a single value by applying a function cumulatively to the items of the iterable\n",
        "*   **Filter** ==>constructs an iterator from elements of an iterable for which a function returns true.\n",
        "*   **Map** ==>applies a given function to all items in an iterable.\n",
        "* **Zip** ==> makes an iterator that aggregates elements from each of the iterables.\n",
        "\n"
      ],
      "metadata": {
        "id": "vwsSZUrGy9rY"
      }
    },
    {
      "cell_type": "code",
      "source": [
        "# REDUCE\n",
        "#syntax\n",
        "'''from functools import reduce\n",
        "reduce(function, iterable[, initializer])'''\n",
        "\n",
        "\n",
        "from functools import reduce\n",
        "\n",
        "REDUCE = [1, 2, 3, 4, 5]\n",
        "result = reduce(lambda x, y: x + y, REDUCE)\n",
        "print(result)  # Output: 15\n"
      ],
      "metadata": {
        "colab": {
          "base_uri": "https://localhost:8080/"
        },
        "id": "nzgP8KXVzJkx",
        "outputId": "bf215cc6-abfd-42f6-d221-4fc814b06509"
      },
      "execution_count": 50,
      "outputs": [
        {
          "output_type": "stream",
          "name": "stdout",
          "text": [
            "15\n"
          ]
        }
      ]
    },
    {
      "cell_type": "code",
      "source": [
        "# FILTER\n",
        "#syntax\n",
        "'''filter(function, iterable)'''\n",
        "\n",
        "FILTER = [1, 2, 3, 4, 5]\n",
        "even_numbers = list(filter(lambda x: x % 2 == 0, FILTER))\n",
        "print(even_numbers)"
      ],
      "metadata": {
        "colab": {
          "base_uri": "https://localhost:8080/"
        },
        "id": "uND360Nv030u",
        "outputId": "460610c5-c004-4e63-823f-4f58cee2f9bc"
      },
      "execution_count": 51,
      "outputs": [
        {
          "output_type": "stream",
          "name": "stdout",
          "text": [
            "[2, 4]\n"
          ]
        }
      ]
    },
    {
      "cell_type": "code",
      "source": [
        "# MAP\n",
        "#syntax\n",
        "'''map(function, iterable)'''\n",
        "\n",
        "MAP = [1, 2, 3, 4, 5]\n",
        "squared_numbers = list(map(lambda x: x**2, MAP))\n",
        "print(squared_numbers)"
      ],
      "metadata": {
        "colab": {
          "base_uri": "https://localhost:8080/"
        },
        "id": "ADuB8Dl008s5",
        "outputId": "cca63358-3fc4-4bba-9645-b8fcf7689442"
      },
      "execution_count": 52,
      "outputs": [
        {
          "output_type": "stream",
          "name": "stdout",
          "text": [
            "[1, 4, 9, 16, 25]\n"
          ]
        }
      ]
    },
    {
      "cell_type": "code",
      "source": [
        "# ZIP\n",
        "#syntax\n",
        "'''zip(*iterables)'''''\n",
        "\n",
        "ZIP = [1, 2, 3]\n",
        "ZIP_2 = [4, 5, 6]\n",
        "zipped = list(zip(ZIP, ZIP_2))\n",
        "print(zipped)"
      ],
      "metadata": {
        "colab": {
          "base_uri": "https://localhost:8080/"
        },
        "id": "bvYTRxgG1B7q",
        "outputId": "9307fec6-9439-402d-cbf2-01cd81d69dae"
      },
      "execution_count": 53,
      "outputs": [
        {
          "output_type": "stream",
          "name": "stdout",
          "text": [
            "[(1, 4), (2, 5), (3, 6)]\n"
          ]
        }
      ]
    },
    {
      "cell_type": "markdown",
      "source": [],
      "metadata": {
        "id": "GAApk657sNuh"
      }
    }
  ]
}