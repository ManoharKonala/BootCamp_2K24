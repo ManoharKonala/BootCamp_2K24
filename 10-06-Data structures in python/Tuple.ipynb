{
  "nbformat": 4,
  "nbformat_minor": 0,
  "metadata": {
    "colab": {
      "provenance": [],
      "authorship_tag": "ABX9TyOURvb6zepdw5IRqd1Dncxq",
      "include_colab_link": true
    },
    "kernelspec": {
      "name": "python3",
      "display_name": "Python 3"
    },
    "language_info": {
      "name": "python"
    }
  },
  "cells": [
    {
      "cell_type": "markdown",
      "metadata": {
        "id": "view-in-github",
        "colab_type": "text"
      },
      "source": [
        "<a href=\"https://colab.research.google.com/github/ManoharKonala/Python--Practice/blob/main/10-06-Data%20structures%20in%20python/Tuple.ipynb\" target=\"_parent\"><img src=\"https://colab.research.google.com/assets/colab-badge.svg\" alt=\"Open In Colab\"/></a>"
      ]
    },
    {
      "cell_type": "markdown",
      "source": [
        "# TUPLE\n",
        "* a tuple is an ordered collection of immutable elements.\n",
        "*  tuple allows duplicate values.\n",
        "*  tuple is immutable means we cannot add or delete a tuple after its creation.\n",
        "*  tuple can also store different datatypes\n",
        "* tuple is written with round brackets\n",
        "\n",
        "\n",
        "\n"
      ],
      "metadata": {
        "id": "5ZnlzEU9QJAZ"
      }
    },
    {
      "cell_type": "code",
      "source": [
        "TUPLE = (1,2,2,23)\n",
        "print(TUPLE)"
      ],
      "metadata": {
        "id": "R3mcLig8YDky",
        "outputId": "afe25f7b-4f3c-44eb-c338-a0f43356fee7",
        "colab": {
          "base_uri": "https://localhost:8080/"
        }
      },
      "execution_count": null,
      "outputs": [
        {
          "output_type": "stream",
          "name": "stdout",
          "text": [
            "(1, 2, 2, 23)\n"
          ]
        }
      ]
    },
    {
      "cell_type": "code",
      "source": [
        "# HETEROGENOUS -- Can store different data types\n",
        "TUPLE = (\"A\", 2, 2.22,True)\n",
        "print(TUPLE)"
      ],
      "metadata": {
        "id": "tTeP9M4aeLfk",
        "outputId": "32517048-bbc9-4c8e-b953-615dde624f2a",
        "colab": {
          "base_uri": "https://localhost:8080/"
        }
      },
      "execution_count": null,
      "outputs": [
        {
          "output_type": "stream",
          "name": "stdout",
          "text": [
            "('A', 2, 2.22, True)\n"
          ]
        }
      ]
    },
    {
      "cell_type": "code",
      "source": [
        "# Accessing elements through index\n",
        "\n",
        "TUPLE = (\"A\", 2, 2.22,True)\n",
        "print(TUPLE[0])"
      ],
      "metadata": {
        "id": "kW1aNLAZeXGR",
        "outputId": "beb5a4e8-2ef3-4853-8398-0bceea585766",
        "colab": {
          "base_uri": "https://localhost:8080/"
        }
      },
      "execution_count": null,
      "outputs": [
        {
          "output_type": "stream",
          "name": "stdout",
          "text": [
            "A\n"
          ]
        }
      ]
    },
    {
      "cell_type": "code",
      "source": [
        "# SLICING\n",
        "# print odd indices\n",
        "TUPLE = (\"A\",2,2.22,True)\n",
        "print(TUPLE[1::2])"
      ],
      "metadata": {
        "id": "FaAZdKUaencN",
        "outputId": "55fb59ea-1677-4bc8-e012-9982b3f1eee7",
        "colab": {
          "base_uri": "https://localhost:8080/"
        }
      },
      "execution_count": null,
      "outputs": [
        {
          "output_type": "stream",
          "name": "stdout",
          "text": [
            "(2, True)\n"
          ]
        }
      ]
    },
    {
      "cell_type": "code",
      "source": [
        "# A tuple can be changed into a list or a set.\n",
        "TUPLE = (\"A\",2,2.22,True)\n",
        "print(list(TUPLE))\n",
        "print(set(TUPLE))"
      ],
      "metadata": {
        "id": "xP9oJZ98fAdp",
        "outputId": "c220988f-7df3-436b-f0ad-0384ea5e09b5",
        "colab": {
          "base_uri": "https://localhost:8080/"
        }
      },
      "execution_count": null,
      "outputs": [
        {
          "output_type": "stream",
          "name": "stdout",
          "text": [
            "['A', 2, 2.22, True]\n",
            "{True, 2, 2.22, 'A'}\n"
          ]
        }
      ]
    },
    {
      "cell_type": "code",
      "source": [
        "#   An error will be raised if an element is added or removed.\n",
        "TUPLE = (\"A\",2,2.22,True)\n",
        "print(TUPLE.add(3))\n",
        "print(TUPLE.remove(2))"
      ],
      "metadata": {
        "id": "HW_x5PWofVQA",
        "outputId": "5b703c86-5855-4360-de5d-105d81825035",
        "colab": {
          "base_uri": "https://localhost:8080/",
          "height": 200
        }
      },
      "execution_count": null,
      "outputs": [
        {
          "output_type": "error",
          "ename": "AttributeError",
          "evalue": "'tuple' object has no attribute 'add'",
          "traceback": [
            "\u001b[0;31m---------------------------------------------------------------------------\u001b[0m",
            "\u001b[0;31mAttributeError\u001b[0m                            Traceback (most recent call last)",
            "\u001b[0;32m<ipython-input-26-1720720abcc6>\u001b[0m in \u001b[0;36m<cell line: 3>\u001b[0;34m()\u001b[0m\n\u001b[1;32m      1\u001b[0m \u001b[0;31m#   An error will be raised if an element is added or removed.\u001b[0m\u001b[0;34m\u001b[0m\u001b[0;34m\u001b[0m\u001b[0m\n\u001b[1;32m      2\u001b[0m \u001b[0mTUPLE\u001b[0m \u001b[0;34m=\u001b[0m \u001b[0;34m(\u001b[0m\u001b[0;34m\"A\"\u001b[0m\u001b[0;34m,\u001b[0m\u001b[0;36m2\u001b[0m\u001b[0;34m,\u001b[0m\u001b[0;36m2.22\u001b[0m\u001b[0;34m,\u001b[0m\u001b[0;32mTrue\u001b[0m\u001b[0;34m)\u001b[0m\u001b[0;34m\u001b[0m\u001b[0;34m\u001b[0m\u001b[0m\n\u001b[0;32m----> 3\u001b[0;31m \u001b[0mprint\u001b[0m\u001b[0;34m(\u001b[0m\u001b[0mTUPLE\u001b[0m\u001b[0;34m.\u001b[0m\u001b[0madd\u001b[0m\u001b[0;34m(\u001b[0m\u001b[0;36m3\u001b[0m\u001b[0;34m)\u001b[0m\u001b[0;34m)\u001b[0m\u001b[0;34m\u001b[0m\u001b[0;34m\u001b[0m\u001b[0m\n\u001b[0m\u001b[1;32m      4\u001b[0m \u001b[0mprint\u001b[0m\u001b[0;34m(\u001b[0m\u001b[0mTUPLE\u001b[0m\u001b[0;34m.\u001b[0m\u001b[0mremove\u001b[0m\u001b[0;34m(\u001b[0m\u001b[0;36m2\u001b[0m\u001b[0;34m)\u001b[0m\u001b[0;34m)\u001b[0m\u001b[0;34m\u001b[0m\u001b[0;34m\u001b[0m\u001b[0m\n",
            "\u001b[0;31mAttributeError\u001b[0m: 'tuple' object has no attribute 'add'"
          ]
        }
      ]
    },
    {
      "cell_type": "code",
      "source": [
        "T = tuple((\"A\", \"b\", \"C\"))\n",
        "print(T)"
      ],
      "metadata": {
        "id": "bSmOlI-OYo56",
        "outputId": "fd6cdc4d-a547-4f43-ca49-8d47768be870",
        "colab": {
          "base_uri": "https://localhost:8080/"
        }
      },
      "execution_count": null,
      "outputs": [
        {
          "output_type": "stream",
          "name": "stdout",
          "text": [
            "('A', 'b', 'C')\n"
          ]
        }
      ]
    },
    {
      "cell_type": "code",
      "source": [
        "# Unpacking with Asterick\n",
        "'''asterisk can be used to unpack elements from a tuple into separate variables.'''\n",
        "# Syntax: *variable = tuple\n",
        "fruits = (\"A\", \"B\", \"C\", \"D\", \"E\")\n",
        "\n",
        "(T, *F, K) = fruits\n",
        "\n",
        "print(T)\n",
        "print(F)\n",
        "print(K)\n",
        " # T gets the first element, K gets the last element, and F collects all\n",
        " # elements in between."
      ],
      "metadata": {
        "id": "dxeaww5Tfyx7",
        "outputId": "dc4eba7e-92b6-4d7c-8bb1-7b9ad7ca150f",
        "colab": {
          "base_uri": "https://localhost:8080/"
        }
      },
      "execution_count": null,
      "outputs": [
        {
          "output_type": "stream",
          "name": "stdout",
          "text": [
            "A\n",
            "['B', 'C', 'D']\n",
            "E\n"
          ]
        }
      ]
    },
    {
      "cell_type": "markdown",
      "source": [
        "BUILT-IN METHODS"
      ],
      "metadata": {
        "id": "B3CrEtXEZ-j3"
      }
    },
    {
      "cell_type": "code",
      "source": [
        "'''COUNT ==>This method returns the number of times a specified value appears in\n",
        "the tuple.'''\n",
        "# Syntax: tuple.count(element)\n",
        "\n",
        "COUNT = (1,2,3,4,5,5,5,666,5,23,24353)\n",
        "print(COUNT.count(5))\n"
      ],
      "metadata": {
        "id": "Rcm3hs_hZ-Gf",
        "outputId": "627c39ea-f03b-4a0c-ddbc-3d292761b74f",
        "colab": {
          "base_uri": "https://localhost:8080/"
        }
      },
      "execution_count": null,
      "outputs": [
        {
          "output_type": "stream",
          "name": "stdout",
          "text": [
            "4\n"
          ]
        }
      ]
    },
    {
      "cell_type": "code",
      "source": [
        "'''INDEX ==>This method returns the index of the first occurrence of the\n",
        "specified value in the tuple.'''\n",
        "# Syntax: tuple.index(element)\n",
        "\n",
        "INDEX = (1,2,3,4,5,5,5,666,5,23,24353)\n",
        "print(INDEX.index(5))\n"
      ],
      "metadata": {
        "id": "IVSnlnQrbIA3",
        "outputId": "e05f642c-25c0-41a2-b117-c7730e727928",
        "colab": {
          "base_uri": "https://localhost:8080/"
        }
      },
      "execution_count": null,
      "outputs": [
        {
          "output_type": "stream",
          "name": "stdout",
          "text": [
            "4\n"
          ]
        }
      ]
    },
    {
      "cell_type": "markdown",
      "source": [
        "BUILT-IN FUNCTIONS"
      ],
      "metadata": {
        "id": "ugZoS7dAbi6A"
      }
    },
    {
      "cell_type": "code",
      "source": [
        "# len()\n",
        "# max()\n",
        "# min()\n",
        "# sum()\n",
        "# sorted()\n"
      ],
      "metadata": {
        "id": "2XPTTc4ZblHq"
      },
      "execution_count": null,
      "outputs": []
    },
    {
      "cell_type": "code",
      "source": [
        "# len\n",
        "'''returns the length of the tuple'''\n",
        "# Syntax: len(tuple)\n",
        "\n",
        "LEN = (1,2,3,4,5,5,5,666,5,23,24353)\n",
        "print(len(LEN))\n"
      ],
      "metadata": {
        "id": "MEI4khSCceEZ",
        "outputId": "56524e95-5732-4bb9-d4bd-1223ff1572ec",
        "colab": {
          "base_uri": "https://localhost:8080/"
        }
      },
      "execution_count": null,
      "outputs": [
        {
          "output_type": "stream",
          "name": "stdout",
          "text": [
            "11\n"
          ]
        }
      ]
    },
    {
      "cell_type": "code",
      "source": [
        "# max\n",
        "'''returns the maximum value in the tuple'''\n",
        "# Syntax: max(tuple)\n",
        "\n",
        "MAX = (1,2,3,4,5,5,5,666,5,23,24353)\n",
        "print(max(MAX))"
      ],
      "metadata": {
        "id": "v6zj5Cq5clkz",
        "outputId": "929f9444-0164-47ff-b049-080431407a01",
        "colab": {
          "base_uri": "https://localhost:8080/"
        }
      },
      "execution_count": null,
      "outputs": [
        {
          "output_type": "stream",
          "name": "stdout",
          "text": [
            "24353\n"
          ]
        }
      ]
    },
    {
      "cell_type": "code",
      "source": [
        "# min\n",
        "'''returns the minimum value in the tuple'''\n",
        "# Syntax: min(tuple)\n",
        "\n",
        "MIN = (1,0.2,3,4,5,5,5,666,5,23,24353)\n",
        "print(min(MIN))"
      ],
      "metadata": {
        "id": "emDYIbw6co1E",
        "outputId": "99cef3f8-cdd0-4b1a-bf57-6ede97e2e125",
        "colab": {
          "base_uri": "https://localhost:8080/"
        }
      },
      "execution_count": null,
      "outputs": [
        {
          "output_type": "stream",
          "name": "stdout",
          "text": [
            "0.2\n"
          ]
        }
      ]
    },
    {
      "cell_type": "code",
      "source": [
        "# sum\n",
        "'''returns the sum of all the elements in the tuple'''\n",
        "# Syntax: sum(tuple)\n",
        "\n",
        "SUM = (1,0.2,3,4,5,5,5,666,5,23,24353)\n",
        "print(sum(SUM))"
      ],
      "metadata": {
        "id": "rjhP3VMPcwGi",
        "outputId": "c64e3b47-a9ec-4baf-f73b-91a11d9e8f1d",
        "colab": {
          "base_uri": "https://localhost:8080/"
        }
      },
      "execution_count": null,
      "outputs": [
        {
          "output_type": "stream",
          "name": "stdout",
          "text": [
            "25070.2\n"
          ]
        }
      ]
    },
    {
      "cell_type": "code",
      "source": [
        "# sorted\n",
        "'''returns a sorted list of elements in the tuple'''\n",
        "# Syntax: sorted(tuple)\n",
        "\n",
        "SORT = (1,0.2,3,4,5,5,5,666,5,23,24353)\n",
        "K = sorted(SORT)\n",
        "print(K)"
      ],
      "metadata": {
        "id": "CJJ3m9TCc1ge",
        "outputId": "a282f636-7294-4173-bf4a-10fde2d9f003",
        "colab": {
          "base_uri": "https://localhost:8080/"
        }
      },
      "execution_count": null,
      "outputs": [
        {
          "output_type": "stream",
          "name": "stdout",
          "text": [
            "[0.2, 1, 3, 4, 5, 5, 5, 5, 23, 666, 24353]\n"
          ]
        }
      ]
    },
    {
      "cell_type": "markdown",
      "source": [
        "# Tuple Vs List\n",
        "\n",
        "\n",
        "*   **Tuple**\n",
        "\n",
        " * A tuple is an immutable collection of values, meaning its contents cannot be changed after creation.\n",
        " * Tuples are defined using parentheses () and elements are separated by commas.\n",
        " * Tuples are useful when you need to store a collection of values that shouldn't be modified.\n",
        "\n",
        "* **List**\n",
        "\n",
        " * A list is a mutable collection of values, meaning its contents can be changed after creation.\n",
        " * Lists are defined using square brackets [] and elements are separated by commas.\n",
        " * Lists are useful when you need to store a collection of values that may need to be modified.\n",
        "\n",
        "\n"
      ],
      "metadata": {
        "id": "WDHgoSOJhso3"
      }
    },
    {
      "cell_type": "code",
      "source": [
        "my_list = [1, 2, 3, 4, 5]\n",
        "print(my_list)  # Output: [1, 2, 3, 4, 5]\n",
        "\n",
        "# Modifying a list is allowed\n",
        "my_list[0] = 10\n",
        "print(my_list)  # Output: [10, 2, 3, 4, 5]\n",
        "\n",
        "my_tuple = (1, 2, 3, 4, 5)\n",
        "print(my_tuple)  # Output: (1, 2, 3, 4, 5)\n",
        "\n",
        "# Trying to modify a tuple will raise an error\n",
        "my_tuple[0] = 10  # TypeError: 'tuple' object does not support item assignment\n",
        "\n"
      ],
      "metadata": {
        "id": "rxcsZA12jUhP",
        "outputId": "5b00cd07-1453-4ec7-ca34-77333f004207",
        "colab": {
          "base_uri": "https://localhost:8080/",
          "height": 254
        }
      },
      "execution_count": 31,
      "outputs": [
        {
          "output_type": "stream",
          "name": "stdout",
          "text": [
            "[1, 2, 3, 4, 5]\n",
            "[10, 2, 3, 4, 5]\n",
            "(1, 2, 3, 4, 5)\n"
          ]
        },
        {
          "output_type": "error",
          "ename": "TypeError",
          "evalue": "'tuple' object does not support item assignment",
          "traceback": [
            "\u001b[0;31m---------------------------------------------------------------------------\u001b[0m",
            "\u001b[0;31mTypeError\u001b[0m                                 Traceback (most recent call last)",
            "\u001b[0;32m<ipython-input-31-e2c2ddbbc934>\u001b[0m in \u001b[0;36m<cell line: 12>\u001b[0;34m()\u001b[0m\n\u001b[1;32m     10\u001b[0m \u001b[0;34m\u001b[0m\u001b[0m\n\u001b[1;32m     11\u001b[0m \u001b[0;31m# Trying to modify a tuple will raise an error\u001b[0m\u001b[0;34m\u001b[0m\u001b[0;34m\u001b[0m\u001b[0m\n\u001b[0;32m---> 12\u001b[0;31m \u001b[0mmy_tuple\u001b[0m\u001b[0;34m[\u001b[0m\u001b[0;36m0\u001b[0m\u001b[0;34m]\u001b[0m \u001b[0;34m=\u001b[0m \u001b[0;36m10\u001b[0m  \u001b[0;31m# TypeError: 'tuple' object does not support item assignment\u001b[0m\u001b[0;34m\u001b[0m\u001b[0;34m\u001b[0m\u001b[0m\n\u001b[0m\u001b[1;32m     13\u001b[0m \u001b[0;34m\u001b[0m\u001b[0m\n",
            "\u001b[0;31mTypeError\u001b[0m: 'tuple' object does not support item assignment"
          ]
        }
      ]
    }
  ]
}