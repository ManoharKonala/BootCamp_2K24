{
  "nbformat": 4,
  "nbformat_minor": 0,
  "metadata": {
    "colab": {
      "provenance": [],
      "authorship_tag": "ABX9TyPLB8o2ulRqLOA8++4wpUcU",
      "include_colab_link": true
    },
    "kernelspec": {
      "name": "python3",
      "display_name": "Python 3"
    },
    "language_info": {
      "name": "python"
    }
  },
  "cells": [
    {
      "cell_type": "markdown",
      "metadata": {
        "id": "view-in-github",
        "colab_type": "text"
      },
      "source": [
        "<a href=\"https://colab.research.google.com/github/ManoharKonala/BootCamp_2K24/blob/main/NumPy.ipynb\" target=\"_parent\"><img src=\"https://colab.research.google.com/assets/colab-badge.svg\" alt=\"Open In Colab\"/></a>"
      ]
    },
    {
      "cell_type": "code",
      "execution_count": null,
      "metadata": {
        "colab": {
          "base_uri": "https://localhost:8080/"
        },
        "id": "zhi8Ro7YbhdV",
        "outputId": "df0989ad-9ea9-4d28-c25b-a5a3d6f548e0"
      },
      "outputs": [
        {
          "output_type": "stream",
          "name": "stdout",
          "text": [
            "Cloning into 'BootCamp_2K24'...\n",
            "remote: Enumerating objects: 242, done.\u001b[K\n",
            "remote: Counting objects: 100% (133/133), done.\u001b[K\n",
            "remote: Compressing objects: 100% (107/107), done.\u001b[K\n",
            "remote: Total 242 (delta 79), reused 58 (delta 26), pack-reused 109\u001b[K\n",
            "Receiving objects: 100% (242/242), 318.07 KiB | 6.12 MiB/s, done.\n",
            "Resolving deltas: 100% (115/115), done.\n"
          ]
        }
      ],
      "source": [
        "!git clone https://github.com/ManoharKonala/BootCamp_2K24.git"
      ]
    },
    {
      "cell_type": "markdown",
      "source": [
        "#NUMPY\n",
        "* NumPy stands for Numerical Python and is a core library for scientific computing in Python. It provides a high-performance multidimensional array object and tools for working with these arrays.\n",
        "\n",
        "* Mathematical algorithms implemented in interpreted languages, for example, Python, often work much slower than the same algorithms implemented in compiled languages (for example, Fortran, C, and Java). The NumPy library provides implementations of computational algorithms in the form of functions and operators, optimized for working with multidimensional arrays. As a result, any algorithm that can be expressed as a sequence of operations on arrays (matrices) and implemented using NumPy works as fast as the equivalent code executed in MATLAB. If we compare numpy vs math, we quickly find thatnumpy has more advantages for computation methods compared to math."
      ],
      "metadata": {
        "id": "Vk42hYXRb8Tj"
      }
    },
    {
      "cell_type": "markdown",
      "source": [
        "#NumPy Vs List\n",
        "\n",
        "**When to use NumPy:**\n",
        "\n",
        "* When you need high performance and efficiency for large datasets.\n",
        "* When performing complex mathematical operations and numerical computations.\n",
        "* When working with multidimensional data and matrices.\n",
        "\n",
        "**When to use Python lists:**\n",
        "\n",
        "* When you need a general-purpose, flexible data structure.\n",
        "* When your dataset is relatively small and performance is not a critical issue.\n",
        "* When you need to store mixed data types or perform operations that NumPy doesn't directly support."
      ],
      "metadata": {
        "id": "kzrfk3TOsS8V"
      }
    },
    {
      "cell_type": "markdown",
      "source": [
        "# INSTALLING NUMPY\n",
        "* You can install NumPy using the Python package installer pip:"
      ],
      "metadata": {
        "id": "PK_gETeXtB1t"
      }
    },
    {
      "cell_type": "code",
      "source": [
        "pip install numpy"
      ],
      "metadata": {
        "colab": {
          "base_uri": "https://localhost:8080/"
        },
        "id": "J33lW0ddb_1R",
        "outputId": "89496689-4ce5-49b6-feca-7065a8535980"
      },
      "execution_count": null,
      "outputs": [
        {
          "output_type": "stream",
          "name": "stdout",
          "text": [
            "Requirement already satisfied: numpy in /usr/local/lib/python3.10/dist-packages (1.25.2)\n"
          ]
        }
      ]
    },
    {
      "cell_type": "markdown",
      "source": [
        "* To verify your numpy version\n"
      ],
      "metadata": {
        "id": "Ly9XJH_ytgBQ"
      }
    },
    {
      "cell_type": "code",
      "source": [
        "import numpy as np\n",
        "print(np.__version__)"
      ],
      "metadata": {
        "colab": {
          "base_uri": "https://localhost:8080/"
        },
        "id": "BZVoXF4VtlUA",
        "outputId": "a86250e6-b0be-4f39-efc9-65ea92586445"
      },
      "execution_count": null,
      "outputs": [
        {
          "output_type": "stream",
          "name": "stdout",
          "text": [
            "1.25.2\n"
          ]
        }
      ]
    },
    {
      "cell_type": "markdown",
      "source": [
        "# NumPy Arrays\n",
        "* The central feature of NumPy is its array object, **ndarray**. These arrays are more efficient and flexible than Python lists. Here's how you can create and manipulate them.\n",
        "* Unlike sequences in Python, arrays in NumPy have a fixed size, the elements of the array must be of the same type."
      ],
      "metadata": {
        "id": "YlxXcPTuvgvh"
      }
    },
    {
      "cell_type": "markdown",
      "source": [
        "**Array**\n",
        "* An array in NumPy is a grid of values, all of the same type, and is indexed by a tuple of nonnegative integers. The number of dimensions is the rank of the array; the shape of an array is a tuple of integers giving the size of the array along each dimension.\n",
        "\n",
        "**2D Array**\n",
        "* A 2D array (matrix) in NumPy is an array of arrays. It can be thought of as a table of values, with rows and columns.\n",
        "\n",
        "**3D Array**\n",
        "* A 3D array in NumPy is an array of 2D arrays (a collection of matrices). It can be visualized as a cube of values.\n",
        "\n",
        "\n",
        "* **1D Array:** A simple list of elements.\n",
        "* **2D Array:** A table of elements, with rows and columns.\n",
        "* **3D Array:** A cube of elements, with depth, rows, and columns."
      ],
      "metadata": {
        "id": "ByU9yySUzm05"
      }
    },
    {
      "cell_type": "code",
      "source": [
        "import numpy as np\n",
        "\n",
        "# Creating a 1D array\n",
        "array_1d = np.array([1, 2, 3, 4, 5])\n",
        "print(array_1d)\n"
      ],
      "metadata": {
        "colab": {
          "base_uri": "https://localhost:8080/"
        },
        "id": "ZBJCR0mAz-S1",
        "outputId": "85b02f0a-2d47-4bfc-9da5-39577995e825"
      },
      "execution_count": null,
      "outputs": [
        {
          "output_type": "stream",
          "name": "stdout",
          "text": [
            "[1 2 3 4 5]\n"
          ]
        }
      ]
    },
    {
      "cell_type": "code",
      "source": [
        "# Creating a 2D array\n",
        "array_2d = np.array([[1, 2, 3], [4, 5, 6], [7, 8, 9]])\n",
        "print(array_2d)\n"
      ],
      "metadata": {
        "colab": {
          "base_uri": "https://localhost:8080/"
        },
        "id": "gIMQV6P31QKT",
        "outputId": "a4d2acee-9f5e-4130-ebf1-4bfef636f185"
      },
      "execution_count": null,
      "outputs": [
        {
          "output_type": "stream",
          "name": "stdout",
          "text": [
            "[[1 2 3]\n",
            " [4 5 6]\n",
            " [7 8 9]]\n"
          ]
        }
      ]
    },
    {
      "cell_type": "code",
      "source": [
        "# Creating a 3D array\n",
        "array_3d = np.array([[[1, 2, 3], [4, 5, 6]],\n",
        "                     [[7, 8, 9], [10, 11, 12]],\n",
        "                     [[13, 14, 15], [16, 17, 18]]])\n",
        "print(array_3d)"
      ],
      "metadata": {
        "colab": {
          "base_uri": "https://localhost:8080/"
        },
        "id": "j_8dET2p1SOy",
        "outputId": "de3734cd-6f5d-462c-d5e6-72bae6dc1dca"
      },
      "execution_count": null,
      "outputs": [
        {
          "output_type": "stream",
          "name": "stdout",
          "text": [
            "[[[ 1  2  3]\n",
            "  [ 4  5  6]]\n",
            "\n",
            " [[ 7  8  9]\n",
            "  [10 11 12]]\n",
            "\n",
            " [[13 14 15]\n",
            "  [16 17 18]]]\n"
          ]
        }
      ]
    },
    {
      "cell_type": "markdown",
      "source": [
        "# Numpy Attributes\n",
        "a.ndim  ==> Number of dimensions\n",
        "\n",
        "b.shape ==> Shape of the array\n",
        "\n",
        "a.size  ==> Total number of elements\n",
        "\n",
        "a.dtype ==> Data type of the elements"
      ],
      "metadata": {
        "id": "yyezxR3Vxx-m"
      }
    },
    {
      "cell_type": "code",
      "source": [
        "# Creating an array from a list\n",
        "a = np.array([1, 2, 3, 4])\n",
        "\n",
        "# Creating a 2D array (matrix)\n",
        "b = np.array([[1, 2], [3, 4]])\n",
        "\n",
        "\n",
        "print(a.ndim)\n",
        "print(b.shape)\n",
        "print(a.size)\n",
        "print(a.dtype)"
      ],
      "metadata": {
        "colab": {
          "base_uri": "https://localhost:8080/"
        },
        "id": "B9IIdwpRwX-D",
        "outputId": "6ecd5e86-effd-4441-8b5b-02fae98b055f"
      },
      "execution_count": null,
      "outputs": [
        {
          "output_type": "stream",
          "name": "stdout",
          "text": [
            "1\n",
            "(2, 2)\n",
            "4\n",
            "int64\n"
          ]
        }
      ]
    },
    {
      "cell_type": "code",
      "source": [
        "import numpy as np\n",
        "# Integer array\n",
        "a = np.array([1, 2, 3, 4, 5])\n",
        "print(a.dtype)\n",
        "\n",
        "# Float array\n",
        "b = np.array([1.0, 2.0, 3.0])\n",
        "print(b.dtype)\n",
        "\n",
        "# Complex array\n",
        "c = np.array([1+2j, 3+4j])\n",
        "print(c.dtype)\n",
        "\n",
        "# Boolean array\n",
        "d = np.array([True, False, True])\n",
        "print(d.dtype)"
      ],
      "metadata": {
        "colab": {
          "base_uri": "https://localhost:8080/"
        },
        "id": "x-UJ4KVALZzG",
        "outputId": "e6fefad9-abed-4c59-abb5-3d908368770e"
      },
      "execution_count": null,
      "outputs": [
        {
          "output_type": "stream",
          "name": "stdout",
          "text": [
            "int64\n",
            "float64\n",
            "complex128\n",
            "bool\n"
          ]
        }
      ]
    },
    {
      "cell_type": "code",
      "source": [
        "# Create an array with float32 data type\n",
        "a = np.array([1, 2, 3], dtype=np.float32)\n",
        "print(a)\n",
        "print(a.dtype)\n"
      ],
      "metadata": {
        "colab": {
          "base_uri": "https://localhost:8080/"
        },
        "id": "JOeXxGKfMSGW",
        "outputId": "e2b14c9b-dd3a-4394-c0df-73db77a58d46"
      },
      "execution_count": null,
      "outputs": [
        {
          "output_type": "stream",
          "name": "stdout",
          "text": [
            "[1. 2. 3.]\n",
            "float32\n"
          ]
        }
      ]
    },
    {
      "cell_type": "code",
      "source": [
        "# Create an array with int16 data type\n",
        "b = np.array([1, 2, 3], dtype=np.int16)\n",
        "print(b)\n",
        "print(b.dtype)"
      ],
      "metadata": {
        "colab": {
          "base_uri": "https://localhost:8080/"
        },
        "id": "ZO2HyVOUMfu7",
        "outputId": "ffc26284-9d2e-4746-bd70-c7dfe62c20c2"
      },
      "execution_count": null,
      "outputs": [
        {
          "output_type": "stream",
          "name": "stdout",
          "text": [
            "[1 2 3]\n",
            "int16\n"
          ]
        }
      ]
    },
    {
      "cell_type": "code",
      "source": [
        "c = np.array([1+2j, 3+4j], dtype=np.int16)\n",
        "print(c)\n",
        "print(c.dtype)   # This will raise a TypeError"
      ],
      "metadata": {
        "colab": {
          "base_uri": "https://localhost:8080/",
          "height": 218
        },
        "id": "zToiZ4vpMjod",
        "outputId": "773f6bf9-c1ef-426f-a312-713d5d98a070"
      },
      "execution_count": null,
      "outputs": [
        {
          "output_type": "error",
          "ename": "TypeError",
          "evalue": "int() argument must be a string, a bytes-like object or a real number, not 'complex'",
          "traceback": [
            "\u001b[0;31m---------------------------------------------------------------------------\u001b[0m",
            "\u001b[0;31mTypeError\u001b[0m                                 Traceback (most recent call last)",
            "\u001b[0;32m<ipython-input-8-9849fc29e992>\u001b[0m in \u001b[0;36m<cell line: 3>\u001b[0;34m()\u001b[0m\n\u001b[1;32m      1\u001b[0m \u001b[0;32mimport\u001b[0m \u001b[0mnumpy\u001b[0m \u001b[0;32mas\u001b[0m \u001b[0mnp\u001b[0m\u001b[0;34m\u001b[0m\u001b[0;34m\u001b[0m\u001b[0m\n\u001b[1;32m      2\u001b[0m \u001b[0;34m\u001b[0m\u001b[0m\n\u001b[0;32m----> 3\u001b[0;31m \u001b[0mc\u001b[0m \u001b[0;34m=\u001b[0m \u001b[0mnp\u001b[0m\u001b[0;34m.\u001b[0m\u001b[0marray\u001b[0m\u001b[0;34m(\u001b[0m\u001b[0;34m[\u001b[0m\u001b[0;36m1\u001b[0m\u001b[0;34m+\u001b[0m\u001b[0;36m2j\u001b[0m\u001b[0;34m,\u001b[0m \u001b[0;36m3\u001b[0m\u001b[0;34m+\u001b[0m\u001b[0;36m4j\u001b[0m\u001b[0;34m]\u001b[0m\u001b[0;34m,\u001b[0m \u001b[0mdtype\u001b[0m\u001b[0;34m=\u001b[0m\u001b[0mnp\u001b[0m\u001b[0;34m.\u001b[0m\u001b[0mint16\u001b[0m\u001b[0;34m)\u001b[0m\u001b[0;34m\u001b[0m\u001b[0;34m\u001b[0m\u001b[0m\n\u001b[0m\u001b[1;32m      4\u001b[0m \u001b[0mprint\u001b[0m\u001b[0;34m(\u001b[0m\u001b[0mc\u001b[0m\u001b[0;34m)\u001b[0m\u001b[0;34m\u001b[0m\u001b[0;34m\u001b[0m\u001b[0m\n\u001b[1;32m      5\u001b[0m \u001b[0mprint\u001b[0m\u001b[0;34m(\u001b[0m\u001b[0mc\u001b[0m\u001b[0;34m.\u001b[0m\u001b[0mdtype\u001b[0m\u001b[0;34m)\u001b[0m\u001b[0;34m\u001b[0m\u001b[0;34m\u001b[0m\u001b[0m\n",
            "\u001b[0;31mTypeError\u001b[0m: int() argument must be a string, a bytes-like object or a real number, not 'complex'"
          ]
        }
      ]
    },
    {
      "cell_type": "markdown",
      "source": [
        "# Built-In Functions"
      ],
      "metadata": {
        "id": "Gi3rmSV62l2F"
      }
    },
    {
      "cell_type": "markdown",
      "source": [
        "* np.array(): Create an array from a Python list or sequence.\n"
      ],
      "metadata": {
        "id": "v3i1TX-dOV_d"
      }
    },
    {
      "cell_type": "code",
      "source": [
        "# From a list\n",
        "A = np.array([11, 22, 33, 44, 55])\n",
        "print(A)"
      ],
      "metadata": {
        "colab": {
          "base_uri": "https://localhost:8080/"
        },
        "id": "mUsWCAN8OU-W",
        "outputId": "1d08b3c1-8651-492d-8349-170f6f1b33d9"
      },
      "execution_count": null,
      "outputs": [
        {
          "output_type": "stream",
          "name": "stdout",
          "text": [
            "[11 22 33 44 55]\n"
          ]
        }
      ]
    },
    {
      "cell_type": "code",
      "source": [
        "# From a sequence\n",
        "B = np.array((100, 200, 300))\n",
        "print(B)"
      ],
      "metadata": {
        "colab": {
          "base_uri": "https://localhost:8080/"
        },
        "id": "BMW79sa8OhvS",
        "outputId": "9766a8bc-b582-4912-e761-607add8c8eec"
      },
      "execution_count": null,
      "outputs": [
        {
          "output_type": "stream",
          "name": "stdout",
          "text": [
            "[100 200 300]\n"
          ]
        }
      ]
    },
    {
      "cell_type": "markdown",
      "source": [
        "* np.asarray(): Convert the input to an array.\n"
      ],
      "metadata": {
        "id": "HKMoCuR6OrkJ"
      }
    },
    {
      "cell_type": "code",
      "source": [
        "import numpy as np\n",
        "t = [1,2,3,4,5,6]\n",
        "a = np.asarray(t)\n",
        "print(a)"
      ],
      "metadata": {
        "id": "DHSSVGulP8Sw",
        "colab": {
          "base_uri": "https://localhost:8080/"
        },
        "outputId": "1b563bfe-e981-40ea-e88d-f90a4553f1b7"
      },
      "execution_count": null,
      "outputs": [
        {
          "output_type": "stream",
          "name": "stdout",
          "text": [
            "[1 2 3 4 5 6]\n"
          ]
        }
      ]
    },
    {
      "cell_type": "code",
      "source": [
        "# from a tuple\n",
        "f = (1,2,3)\n",
        "a = np.asarray(f)\n",
        "print(a)"
      ],
      "metadata": {
        "colab": {
          "base_uri": "https://localhost:8080/"
        },
        "id": "UHAWTVZsQsy-",
        "outputId": "f78a89f0-d06f-4930-d0b7-619ca4621877"
      },
      "execution_count": null,
      "outputs": [
        {
          "output_type": "stream",
          "name": "stdout",
          "text": [
            "[1 2 3]\n"
          ]
        }
      ]
    },
    {
      "cell_type": "markdown",
      "source": [
        "* np.ones(shape): Creates an array filled with ones."
      ],
      "metadata": {
        "id": "sKxO-VM0tnuF"
      }
    },
    {
      "cell_type": "code",
      "source": [
        "# Create an 2D array of ones\n",
        "ones = np.ones((2, 4))\n",
        "print(\"Array of ones:\\n\", ones)"
      ],
      "metadata": {
        "colab": {
          "base_uri": "https://localhost:8080/"
        },
        "id": "Qmx6CB37RHWW",
        "outputId": "cf8c3074-e269-4c44-aa8c-b60f33de0888"
      },
      "execution_count": null,
      "outputs": [
        {
          "output_type": "stream",
          "name": "stdout",
          "text": [
            "Array of ones:\n",
            " [[1. 1. 1. 1.]\n",
            " [1. 1. 1. 1.]]\n"
          ]
        }
      ]
    },
    {
      "cell_type": "markdown",
      "source": [
        "* np.zeros(shape): Creates an array filled with zeros."
      ],
      "metadata": {
        "id": "DKNiDquIRajs"
      }
    },
    {
      "cell_type": "code",
      "source": [
        "# Create an 2D array of zeros\n",
        "zeros = np.zeros((3, 3))\n",
        "print(\"Array of zeros:\\n\", zeros)"
      ],
      "metadata": {
        "colab": {
          "base_uri": "https://localhost:8080/"
        },
        "id": "nR8X0eCARcGC",
        "outputId": "6c601234-4e9b-4897-e0f1-08d7eb0e8df1"
      },
      "execution_count": null,
      "outputs": [
        {
          "output_type": "stream",
          "name": "stdout",
          "text": [
            "Array of zeros:\n",
            " [[0. 0. 0.]\n",
            " [0. 0. 0.]\n",
            " [0. 0. 0.]]\n"
          ]
        }
      ]
    },
    {
      "cell_type": "markdown",
      "source": [
        "* np.empty(): Create an uninitialized array."
      ],
      "metadata": {
        "id": "s_PDRuHeRfnn"
      }
    },
    {
      "cell_type": "code",
      "source": [
        "# Create an uninitialized 1D array\n",
        "a = np.empty(5)\n",
        "print(a)"
      ],
      "metadata": {
        "colab": {
          "base_uri": "https://localhost:8080/"
        },
        "id": "BAYamDqaRmzi",
        "outputId": "9c44a16f-caf8-4918-c8fd-f3ce1394620a"
      },
      "execution_count": null,
      "outputs": [
        {
          "output_type": "stream",
          "name": "stdout",
          "text": [
            "[1. 1. 1. 1. 1.]\n"
          ]
        }
      ]
    },
    {
      "cell_type": "markdown",
      "source": [
        "* np.arange(start, stop, step): Creates an array with a range of values."
      ],
      "metadata": {
        "id": "Oij2KtgLSFDg"
      }
    },
    {
      "cell_type": "code",
      "source": [
        "# Create an array with a range of values\n",
        "range_arr = np.arange(0, 10, 2)\n",
        "print(\"Range array:\", range_arr)"
      ],
      "metadata": {
        "colab": {
          "base_uri": "https://localhost:8080/"
        },
        "id": "cr-9ptv1SN4W",
        "outputId": "e8d8f6f3-0862-4cff-9632-3283b9870040"
      },
      "execution_count": null,
      "outputs": [
        {
          "output_type": "stream",
          "name": "stdout",
          "text": [
            "Range array: [0 2 4 6 8]\n"
          ]
        }
      ]
    },
    {
      "cell_type": "markdown",
      "source": [
        "* np.linspace(start, stop, num): Creates an array with num equally spaced values between start and stop."
      ],
      "metadata": {
        "id": "Fi_UWrxlSTjt"
      }
    },
    {
      "cell_type": "code",
      "source": [
        "# Create an array with linearly spaced values\n",
        "linspace_arr = np.linspace(0, 1, 5)\n",
        "print(\"Linspace array:\", linspace_arr)"
      ],
      "metadata": {
        "colab": {
          "base_uri": "https://localhost:8080/"
        },
        "id": "fsQMlGXTSbc1",
        "outputId": "45d68a3e-13df-483b-c0c6-ef8ff3d30576"
      },
      "execution_count": null,
      "outputs": [
        {
          "output_type": "stream",
          "name": "stdout",
          "text": [
            "Linspace array: [0.   0.25 0.5  0.75 1.  ]\n"
          ]
        }
      ]
    },
    {
      "cell_type": "markdown",
      "source": [
        "* np.eye(n): Creates an identity matrix of size n x n."
      ],
      "metadata": {
        "id": "lE1vNcmvSf4G"
      }
    },
    {
      "cell_type": "code",
      "source": [
        "# Create an identity matrix\n",
        "identity = np.eye(4)\n",
        "print(\"Identity matrix:\\n\", identity)"
      ],
      "metadata": {
        "colab": {
          "base_uri": "https://localhost:8080/"
        },
        "id": "_CKoNIuQSm6D",
        "outputId": "0d3828f0-4a6f-404d-e007-489a1906b451"
      },
      "execution_count": null,
      "outputs": [
        {
          "output_type": "stream",
          "name": "stdout",
          "text": [
            "Identity matrix:\n",
            " [[1. 0. 0. 0.]\n",
            " [0. 1. 0. 0.]\n",
            " [0. 0. 1. 0.]\n",
            " [0. 0. 0. 1.]]\n"
          ]
        }
      ]
    },
    {
      "cell_type": "markdown",
      "source": [
        "* np.full(shape, value): Creates an array filled with the given value."
      ],
      "metadata": {
        "id": "DtFNcuH3SvXE"
      }
    },
    {
      "cell_type": "code",
      "source": [
        "# Create a full array\n",
        "full = np.full((2, 2), 7)\n",
        "print(\"Full array:\\n\", full)"
      ],
      "metadata": {
        "colab": {
          "base_uri": "https://localhost:8080/"
        },
        "id": "dHGvgzqiS3k-",
        "outputId": "3abf7431-1311-4226-b554-ec94dc6977f4"
      },
      "execution_count": null,
      "outputs": [
        {
          "output_type": "stream",
          "name": "stdout",
          "text": [
            "Full array:\n",
            " [[7 7]\n",
            " [7 7]]\n"
          ]
        }
      ]
    },
    {
      "cell_type": "markdown",
      "source": [
        "# Numpy Array Operations and Broadcasting"
      ],
      "metadata": {
        "id": "A1kCyRhRS9-D"
      }
    },
    {
      "cell_type": "markdown",
      "source": [
        "**Basic Array Operations**\n",
        "* NumPy allows for element-wise and matrix operations."
      ],
      "metadata": {
        "id": "lkg7RDjbmkYl"
      }
    },
    {
      "cell_type": "code",
      "source": [
        "x = np.array([1, 2, 3])\n",
        "y = np.array([4, 5, 6])\n",
        "\n",
        "print(x + y)    # Addition\n",
        "print(x - y)    # Subtraction\n",
        "print(x * y)    # Multiplication\n",
        "print(x / y)    # Division"
      ],
      "metadata": {
        "colab": {
          "base_uri": "https://localhost:8080/"
        },
        "id": "tjh1uJgimqjB",
        "outputId": "aa5e93be-b30e-4615-ead5-05f5ad7fd511"
      },
      "execution_count": null,
      "outputs": [
        {
          "output_type": "stream",
          "name": "stdout",
          "text": [
            "[5 7 9]\n",
            "[-3 -3 -3]\n",
            "[ 4 10 18]\n",
            "[0.25 0.4  0.5 ]\n"
          ]
        }
      ]
    },
    {
      "cell_type": "code",
      "source": [
        "# Scalar Operations: Multiplies/Divides each element of the array by the scalar value;\n",
        "a = np.array([1, 2, 3])\n",
        "\n",
        "b = a * 2\n",
        "print(b)\n",
        "\n",
        "c = a / 2\n",
        "print(c)"
      ],
      "metadata": {
        "colab": {
          "base_uri": "https://localhost:8080/"
        },
        "id": "gGZvSmb4nthc",
        "outputId": "c406d3c6-1baf-4188-8de2-e75685310e04"
      },
      "execution_count": null,
      "outputs": [
        {
          "output_type": "stream",
          "name": "stdout",
          "text": [
            "[2 4 6]\n",
            "[0.5 1.  1.5]\n"
          ]
        }
      ]
    },
    {
      "cell_type": "code",
      "source": [
        "# np.sqrt  --> Computes the square root of each element in the array\n",
        "np.sqrt([1,4,9])"
      ],
      "metadata": {
        "colab": {
          "base_uri": "https://localhost:8080/"
        },
        "id": "dIJ7iqKJnz9i",
        "outputId": "8d45d365-d55f-4dc0-acab-0db26540dddf"
      },
      "execution_count": null,
      "outputs": [
        {
          "output_type": "execute_result",
          "data": {
            "text/plain": [
              "array([1., 2., 3.])"
            ]
          },
          "metadata": {},
          "execution_count": 27
        }
      ]
    },
    {
      "cell_type": "code",
      "source": [
        "# np.exp --> Calculate the exponential of all elements in the input array.\n",
        "np.exp([1,23,44,545,564])"
      ],
      "metadata": {
        "colab": {
          "base_uri": "https://localhost:8080/"
        },
        "id": "yNZOw_GIoLTO",
        "outputId": "17f55a4e-b25d-4983-cbb3-e2346a0b2e03"
      },
      "execution_count": null,
      "outputs": [
        {
          "output_type": "execute_result",
          "data": {
            "text/plain": [
              "array([2.71828183e+000, 9.74480345e+009, 1.28516001e+019, 4.90334710e+236,\n",
              "       8.75160673e+244])"
            ]
          },
          "metadata": {},
          "execution_count": 29
        }
      ]
    },
    {
      "cell_type": "markdown",
      "source": [
        "**Aggregate Functions**\n",
        "* NumPy provides many functions for performing aggregate operations on arrays, such as sum, mean, max, min, etc."
      ],
      "metadata": {
        "id": "w8aAycJZpY_7"
      }
    },
    {
      "cell_type": "code",
      "source": [
        "arr = np.array([[1, 2, 3], [4, 5, 6]])\n",
        "\n",
        "print(\"Sum:\", np.sum(arr))\n",
        "print(\"Mean:\", np.mean(arr))\n",
        "print(\"Max:\", np.max(arr))\n",
        "print(\"Min:\", np.min(arr))\n",
        "print(\"Sum along columns:\", np.sum(arr, axis=0))\n",
        "print(\"Sum along rows:\", np.sum(arr, axis=1))\n",
        "print(\"Standard deviation:\", np.std(arr))\n",
        "print(\"Mean of all elements:\", np.mean(arr))"
      ],
      "metadata": {
        "colab": {
          "base_uri": "https://localhost:8080/"
        },
        "id": "MTqb6JUFpk7y",
        "outputId": "ab5d387c-3de5-49d4-a355-a6f1ee362072"
      },
      "execution_count": null,
      "outputs": [
        {
          "output_type": "stream",
          "name": "stdout",
          "text": [
            "Sum: 21\n",
            "Mean: 3.5\n",
            "Max: 6\n",
            "Min: 1\n",
            "Sum along columns: [5 7 9]\n",
            "Sum along rows: [ 6 15]\n",
            "Standard deviation: 1.707825127659933\n",
            "Mean of all elements: 3.5\n"
          ]
        }
      ]
    },
    {
      "cell_type": "markdown",
      "source": [
        "# Broadcasting\n",
        "* Broadcasting allows NumPy to perform operations on arrays of different shapes.\n",
        "* If the arrays have the same shape, no broadcasting is necessary, and the operation is performed element-wise.\n",
        "* If the arrays have different shapes, NumPy attempts to broadcast the smaller array's shape to match the larger array's shape.\n",
        "* If the dimensions of the arrays are different, NumPy starts from the trailing dimensions and works backward, prepending 1s to the smaller shape until the shapes match.\n",
        "* If the shapes still don't match after prepending 1s, NumPy raises a ValueError."
      ],
      "metadata": {
        "id": "A8A0jhJdqp0l"
      }
    },
    {
      "cell_type": "code",
      "source": [
        "a = np.array([1, 2, 3])\n",
        "b = np.array([[4], [5], [6]])\n",
        "\n",
        "# Broadcasting addition\n",
        "print(a + b)\n"
      ],
      "metadata": {
        "colab": {
          "base_uri": "https://localhost:8080/"
        },
        "id": "ocogCxxFqt_d",
        "outputId": "3b10b01b-b3d1-45ae-98cf-286234d7f98c"
      },
      "execution_count": null,
      "outputs": [
        {
          "output_type": "stream",
          "name": "stdout",
          "text": [
            "[[5 6 7]\n",
            " [6 7 8]\n",
            " [7 8 9]]\n"
          ]
        }
      ]
    },
    {
      "cell_type": "code",
      "source": [
        "# Example Of Where Broadcasting is not possible\n",
        "# Different shapes: (2, 3) and (3, 2)\n",
        "a = np.array([[1, 2, 3], [4, 5, 6]])\n",
        "b = np.array([[1, 2], [3, 4], [5, 6]])\n",
        "c = a + b"
      ],
      "metadata": {
        "colab": {
          "base_uri": "https://localhost:8080/",
          "height": 182
        },
        "id": "8TjZaiUrr3PS",
        "outputId": "afe78408-c124-4d58-b048-31b308022cf0"
      },
      "execution_count": null,
      "outputs": [
        {
          "output_type": "error",
          "ename": "ValueError",
          "evalue": "operands could not be broadcast together with shapes (2,3) (3,2) ",
          "traceback": [
            "\u001b[0;31m---------------------------------------------------------------------------\u001b[0m",
            "\u001b[0;31mValueError\u001b[0m                                Traceback (most recent call last)",
            "\u001b[0;32m<ipython-input-34-55908223f077>\u001b[0m in \u001b[0;36m<cell line: 5>\u001b[0;34m()\u001b[0m\n\u001b[1;32m      3\u001b[0m \u001b[0ma\u001b[0m \u001b[0;34m=\u001b[0m \u001b[0mnp\u001b[0m\u001b[0;34m.\u001b[0m\u001b[0marray\u001b[0m\u001b[0;34m(\u001b[0m\u001b[0;34m[\u001b[0m\u001b[0;34m[\u001b[0m\u001b[0;36m1\u001b[0m\u001b[0;34m,\u001b[0m \u001b[0;36m2\u001b[0m\u001b[0;34m,\u001b[0m \u001b[0;36m3\u001b[0m\u001b[0;34m]\u001b[0m\u001b[0;34m,\u001b[0m \u001b[0;34m[\u001b[0m\u001b[0;36m4\u001b[0m\u001b[0;34m,\u001b[0m \u001b[0;36m5\u001b[0m\u001b[0;34m,\u001b[0m \u001b[0;36m6\u001b[0m\u001b[0;34m]\u001b[0m\u001b[0;34m]\u001b[0m\u001b[0;34m)\u001b[0m\u001b[0;34m\u001b[0m\u001b[0;34m\u001b[0m\u001b[0m\n\u001b[1;32m      4\u001b[0m \u001b[0mb\u001b[0m \u001b[0;34m=\u001b[0m \u001b[0mnp\u001b[0m\u001b[0;34m.\u001b[0m\u001b[0marray\u001b[0m\u001b[0;34m(\u001b[0m\u001b[0;34m[\u001b[0m\u001b[0;34m[\u001b[0m\u001b[0;36m1\u001b[0m\u001b[0;34m,\u001b[0m \u001b[0;36m2\u001b[0m\u001b[0;34m]\u001b[0m\u001b[0;34m,\u001b[0m \u001b[0;34m[\u001b[0m\u001b[0;36m3\u001b[0m\u001b[0;34m,\u001b[0m \u001b[0;36m4\u001b[0m\u001b[0;34m]\u001b[0m\u001b[0;34m,\u001b[0m \u001b[0;34m[\u001b[0m\u001b[0;36m5\u001b[0m\u001b[0;34m,\u001b[0m \u001b[0;36m6\u001b[0m\u001b[0;34m]\u001b[0m\u001b[0;34m]\u001b[0m\u001b[0;34m)\u001b[0m\u001b[0;34m\u001b[0m\u001b[0;34m\u001b[0m\u001b[0m\n\u001b[0;32m----> 5\u001b[0;31m \u001b[0mc\u001b[0m \u001b[0;34m=\u001b[0m \u001b[0ma\u001b[0m \u001b[0;34m+\u001b[0m \u001b[0mb\u001b[0m\u001b[0;34m\u001b[0m\u001b[0;34m\u001b[0m\u001b[0m\n\u001b[0m",
            "\u001b[0;31mValueError\u001b[0m: operands could not be broadcast together with shapes (2,3) (3,2) "
          ]
        }
      ]
    },
    {
      "cell_type": "markdown",
      "source": [
        "# INDEXING AND SLICING"
      ],
      "metadata": {
        "id": "FXtQXeB-vam7"
      }
    },
    {
      "cell_type": "markdown",
      "source": [
        "**INDEXING**\n",
        "* You can access elements of a NumPy array using indexing, similar to lists."
      ],
      "metadata": {
        "id": "KnjVbxRavdwr"
      }
    },
    {
      "cell_type": "markdown",
      "source": [
        "**Basic Indexing**"
      ],
      "metadata": {
        "id": "CgldGjrUyDNH"
      }
    },
    {
      "cell_type": "code",
      "source": [
        "arr = np.array([1, 2, 3, 4, 5])\n",
        "print(\"First element:\", arr[0])\n",
        "print(\"Last element:\", arr[-1])"
      ],
      "metadata": {
        "colab": {
          "base_uri": "https://localhost:8080/"
        },
        "id": "kfB1q3b3vjJY",
        "outputId": "5dbeb59f-f785-49fb-9352-2a509e9a0bc4"
      },
      "execution_count": null,
      "outputs": [
        {
          "output_type": "stream",
          "name": "stdout",
          "text": [
            "First element: 1\n",
            "Last element: 5\n"
          ]
        }
      ]
    },
    {
      "cell_type": "markdown",
      "source": [
        "For multi-dimensional arrays, you need to specify a tuple of indices."
      ],
      "metadata": {
        "id": "hYULlIlzvzaq"
      }
    },
    {
      "cell_type": "code",
      "source": [
        "Arr = np.array([[1, 2, 3], [4, 5, 6], [7, 8, 9]])\n",
        "print(Arr[1, 2])\n",
        "print(Arr[0][0])"
      ],
      "metadata": {
        "colab": {
          "base_uri": "https://localhost:8080/"
        },
        "id": "Ag-jtbxcv22N",
        "outputId": "f58cb2c8-1cfe-438a-b946-c281d070b7f0"
      },
      "execution_count": null,
      "outputs": [
        {
          "output_type": "stream",
          "name": "stdout",
          "text": [
            "6\n",
            "1\n"
          ]
        }
      ]
    },
    {
      "cell_type": "markdown",
      "source": [
        "**Fancy Indexing**\n",
        "* Fancy indexing refers to the use of arrays of integers or boolean values to index another array. It allows for more complex and flexible selection and manipulation of array elements."
      ],
      "metadata": {
        "id": "G9tNmpu7yM6Z"
      }
    },
    {
      "cell_type": "code",
      "source": [
        "arr = np.array([10, 20, 30, 40, 50])\n",
        "\n",
        "# Use fancy indexing with integer arrays\n",
        "indices = np.array([1, 3, 4])\n",
        "selected_elements = arr[indices]\n",
        "\n",
        "print(selected_elements)"
      ],
      "metadata": {
        "colab": {
          "base_uri": "https://localhost:8080/"
        },
        "id": "DX-zY4JwzMRT",
        "outputId": "19ec9c0b-4c08-49a4-ab80-6485b8fe6311"
      },
      "execution_count": null,
      "outputs": [
        {
          "output_type": "stream",
          "name": "stdout",
          "text": [
            "[20 40 50]\n"
          ]
        }
      ]
    },
    {
      "cell_type": "code",
      "source": [
        "arr_2d = np.array([[1, 2], [3, 4], [5, 6]])\n",
        "\n",
        "# Use fancy indexing to select specific rows and columns\n",
        "rows = np.array([0, 1, 2])\n",
        "cols = np.array([1, 0, 1])\n",
        "selected_elements = arr_2d[rows, cols]\n",
        "\n",
        "print(selected_elements)"
      ],
      "metadata": {
        "colab": {
          "base_uri": "https://localhost:8080/"
        },
        "id": "fE7qv5nizWkj",
        "outputId": "d8e7e46a-fda9-4846-8be9-5da89d81b03c"
      },
      "execution_count": null,
      "outputs": [
        {
          "output_type": "stream",
          "name": "stdout",
          "text": [
            "[2 3 6]\n"
          ]
        }
      ]
    },
    {
      "cell_type": "markdown",
      "source": [
        "**Boolean Indexing**\n",
        "* Boolean indexing involves creating a boolean array that matches the shape of the original array. This boolean array is used to select elements from the original array where the boolean array is True.\n"
      ],
      "metadata": {
        "id": "L7C8uNxyzo5J"
      }
    },
    {
      "cell_type": "code",
      "source": [
        "arr = np.array([10, 20, 30, 40, 50])\n",
        "\n",
        "# Create a boolean array\n",
        "bool_arr = arr > 25\n",
        "\n",
        "# Use boolean indexing\n",
        "selected_elements = arr[bool_arr]\n",
        "\n",
        "print(selected_elements)"
      ],
      "metadata": {
        "colab": {
          "base_uri": "https://localhost:8080/"
        },
        "id": "vnc-aEVNzs8d",
        "outputId": "51627c74-6bcc-4f47-f002-1ab2b2b7b3dc"
      },
      "execution_count": null,
      "outputs": [
        {
          "output_type": "stream",
          "name": "stdout",
          "text": [
            "[30 40 50]\n"
          ]
        }
      ]
    },
    {
      "cell_type": "code",
      "source": [
        "arr_2d = np.array([[1, 2, 3], [4, 5, 6], [7, 8, 9]])\n",
        "\n",
        "# Create a boolean array\n",
        "bool_arr_2d = arr_2d > 5\n",
        "\n",
        "# Use boolean indexing\n",
        "selected_elements = arr_2d[bool_arr_2d]\n",
        "\n",
        "print(selected_elements)"
      ],
      "metadata": {
        "colab": {
          "base_uri": "https://localhost:8080/"
        },
        "id": "w0wJCE6Sz1jZ",
        "outputId": "67bea20e-0e30-4772-f73f-653739c3aae7"
      },
      "execution_count": null,
      "outputs": [
        {
          "output_type": "stream",
          "name": "stdout",
          "text": [
            "[6 7 8 9]\n"
          ]
        }
      ]
    },
    {
      "cell_type": "markdown",
      "source": [
        "**SLICING**\n",
        "* Slicing allows you to access a range of elements in an array."
      ],
      "metadata": {
        "id": "N9BtpM9E0kK6"
      }
    },
    {
      "cell_type": "code",
      "source": [
        "arr = np.array([1, 2, 3, 4, 5])\n",
        "\n",
        "print(\"Elements from index 1 to 3:\", arr[1:4])\n",
        "print(\"Elements from the start to index 3:\", arr[:4])\n",
        "print(\"Elements from index 2 to the end:\", arr[2:])\n",
        "print(\"Every second element:\", arr[::2])\n"
      ],
      "metadata": {
        "id": "9ilZ198e0rMC",
        "colab": {
          "base_uri": "https://localhost:8080/"
        },
        "outputId": "92ed5add-9f2d-4352-ed96-3c13637f154e"
      },
      "execution_count": 42,
      "outputs": [
        {
          "output_type": "stream",
          "name": "stdout",
          "text": [
            "Elements from index 1 to 3: [2 3 4]\n",
            "Elements from the start to index 3: [1 2 3 4]\n",
            "Elements from index 2 to the end: [3 4 5]\n",
            "Every second element: [1 3 5]\n"
          ]
        }
      ]
    },
    {
      "cell_type": "markdown",
      "source": [
        "**Multidimensional Array Slicing**\n",
        "* For multidimensional arrays, you can specify a slice for each dimension, separated by commas.\n",
        "* If you omit a dimension in the slicing, it selects all elements along that dimension."
      ],
      "metadata": {
        "id": "cV_uo8aJ1UqO"
      }
    },
    {
      "cell_type": "code",
      "source": [
        "arr = np.array([[1, 2, 3], [4, 5, 6], [7, 8, 9]])\n",
        "\n",
        "print(\"Slice of first two rows and columns:\\n\", arr[:2, :2])\n",
        "print(\"Slice of last row:\\n\", arr[-1, :])\n",
        "print(\"Slice of first two rows and columns:\\n\",arr[0:2, 0:2])"
      ],
      "metadata": {
        "colab": {
          "base_uri": "https://localhost:8080/"
        },
        "id": "f56NYBJ51buo",
        "outputId": "5a05ad46-35b1-4231-cbdd-aea7f6f6c06d"
      },
      "execution_count": 46,
      "outputs": [
        {
          "output_type": "stream",
          "name": "stdout",
          "text": [
            "Slice of first two rows and columns:\n",
            " [[1 2]\n",
            " [4 5]]\n",
            "Slice of last row:\n",
            " [7 8 9]\n",
            "Slice of first two rows and columns:\n",
            " [[1 2]\n",
            " [4 5]]\n"
          ]
        }
      ]
    },
    {
      "cell_type": "code",
      "source": [
        "a = np.array([1,2,3,4,5,6,7,8,9])\n",
        "a[1:10] = 10\n",
        "print(a)"
      ],
      "metadata": {
        "colab": {
          "base_uri": "https://localhost:8080/"
        },
        "id": "vhNnv3TR2XyH",
        "outputId": "61550f94-caa2-48f0-834a-3465da5696f1"
      },
      "execution_count": 47,
      "outputs": [
        {
          "output_type": "stream",
          "name": "stdout",
          "text": [
            "[ 1 10 10 10 10 10 10 10 10]\n"
          ]
        }
      ]
    }
  ]
}