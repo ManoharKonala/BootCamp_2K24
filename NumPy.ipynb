{
  "nbformat": 4,
  "nbformat_minor": 0,
  "metadata": {
    "colab": {
      "provenance": [],
      "authorship_tag": "ABX9TyOOEdGHRlTUQ7E0nV+iwAj7",
      "include_colab_link": true
    },
    "kernelspec": {
      "name": "python3",
      "display_name": "Python 3"
    },
    "language_info": {
      "name": "python"
    }
  },
  "cells": [
    {
      "cell_type": "markdown",
      "metadata": {
        "id": "view-in-github",
        "colab_type": "text"
      },
      "source": [
        "<a href=\"https://colab.research.google.com/github/ManoharKonala/BootCamp_2K24/blob/main/NumPy.ipynb\" target=\"_parent\"><img src=\"https://colab.research.google.com/assets/colab-badge.svg\" alt=\"Open In Colab\"/></a>"
      ]
    },
    {
      "cell_type": "code",
      "execution_count": null,
      "metadata": {
        "colab": {
          "base_uri": "https://localhost:8080/"
        },
        "id": "zhi8Ro7YbhdV",
        "outputId": "df0989ad-9ea9-4d28-c25b-a5a3d6f548e0"
      },
      "outputs": [
        {
          "output_type": "stream",
          "name": "stdout",
          "text": [
            "Cloning into 'BootCamp_2K24'...\n",
            "remote: Enumerating objects: 242, done.\u001b[K\n",
            "remote: Counting objects: 100% (133/133), done.\u001b[K\n",
            "remote: Compressing objects: 100% (107/107), done.\u001b[K\n",
            "remote: Total 242 (delta 79), reused 58 (delta 26), pack-reused 109\u001b[K\n",
            "Receiving objects: 100% (242/242), 318.07 KiB | 6.12 MiB/s, done.\n",
            "Resolving deltas: 100% (115/115), done.\n"
          ]
        }
      ],
      "source": [
        "!git clone https://github.com/ManoharKonala/BootCamp_2K24.git"
      ]
    },
    {
      "cell_type": "markdown",
      "source": [
        "#NUMPY\n",
        "* NumPy stands for Numerical Python and is a core library for scientific computing in Python. It provides a high-performance multidimensional array object and tools for working with these arrays.\n",
        "\n",
        "* Mathematical algorithms implemented in interpreted languages, for example, Python, often work much slower than the same algorithms implemented in compiled languages (for example, Fortran, C, and Java). The NumPy library provides implementations of computational algorithms in the form of functions and operators, optimized for working with multidimensional arrays. As a result, any algorithm that can be expressed as a sequence of operations on arrays (matrices) and implemented using NumPy works as fast as the equivalent code executed in MATLAB. If we compare numpy vs math, we quickly find thatnumpy has more advantages for computation methods compared to math."
      ],
      "metadata": {
        "id": "Vk42hYXRb8Tj"
      }
    },
    {
      "cell_type": "markdown",
      "source": [
        "#NumPy Vs List\n",
        "\n",
        "**When to use NumPy:**\n",
        "\n",
        "* When you need high performance and efficiency for large datasets.\n",
        "* When performing complex mathematical operations and numerical computations.\n",
        "* When working with multidimensional data and matrices.\n",
        "\n",
        "**When to use Python lists:**\n",
        "\n",
        "* When you need a general-purpose, flexible data structure.\n",
        "* When your dataset is relatively small and performance is not a critical issue.\n",
        "* When you need to store mixed data types or perform operations that NumPy doesn't directly support."
      ],
      "metadata": {
        "id": "kzrfk3TOsS8V"
      }
    },
    {
      "cell_type": "markdown",
      "source": [
        "# INSTALLING NUMPY\n",
        "* You can install NumPy using the Python package installer pip:"
      ],
      "metadata": {
        "id": "PK_gETeXtB1t"
      }
    },
    {
      "cell_type": "code",
      "source": [
        "pip install numpy"
      ],
      "metadata": {
        "colab": {
          "base_uri": "https://localhost:8080/"
        },
        "id": "J33lW0ddb_1R",
        "outputId": "89496689-4ce5-49b6-feca-7065a8535980"
      },
      "execution_count": null,
      "outputs": [
        {
          "output_type": "stream",
          "name": "stdout",
          "text": [
            "Requirement already satisfied: numpy in /usr/local/lib/python3.10/dist-packages (1.25.2)\n"
          ]
        }
      ]
    },
    {
      "cell_type": "markdown",
      "source": [
        "* To verify your numpy version\n"
      ],
      "metadata": {
        "id": "Ly9XJH_ytgBQ"
      }
    },
    {
      "cell_type": "code",
      "source": [
        "import numpy as np\n",
        "print(np.__version__)"
      ],
      "metadata": {
        "colab": {
          "base_uri": "https://localhost:8080/"
        },
        "id": "BZVoXF4VtlUA",
        "outputId": "a86250e6-b0be-4f39-efc9-65ea92586445"
      },
      "execution_count": null,
      "outputs": [
        {
          "output_type": "stream",
          "name": "stdout",
          "text": [
            "1.25.2\n"
          ]
        }
      ]
    },
    {
      "cell_type": "markdown",
      "source": [
        "# NumPy Arrays\n",
        "* The central feature of NumPy is its array object, **ndarray**. These arrays are more efficient and flexible than Python lists. Here's how you can create and manipulate them.\n",
        "* Unlike sequences in Python, arrays in NumPy have a fixed size, the elements of the array must be of the same type."
      ],
      "metadata": {
        "id": "YlxXcPTuvgvh"
      }
    },
    {
      "cell_type": "markdown",
      "source": [
        "**Array**\n",
        "* An array in NumPy is a grid of values, all of the same type, and is indexed by a tuple of nonnegative integers. The number of dimensions is the rank of the array; the shape of an array is a tuple of integers giving the size of the array along each dimension.\n",
        "\n",
        "**2D Array**\n",
        "* A 2D array (matrix) in NumPy is an array of arrays. It can be thought of as a table of values, with rows and columns.\n",
        "\n",
        "**3D Array**\n",
        "* A 3D array in NumPy is an array of 2D arrays (a collection of matrices). It can be visualized as a cube of values.\n",
        "\n",
        "\n",
        "* **1D Array:** A simple list of elements.\n",
        "* **2D Array:** A table of elements, with rows and columns.\n",
        "* **3D Array:** A cube of elements, with depth, rows, and columns."
      ],
      "metadata": {
        "id": "ByU9yySUzm05"
      }
    },
    {
      "cell_type": "code",
      "source": [
        "import numpy as np\n",
        "\n",
        "# Creating a 1D array\n",
        "array_1d = np.array([1, 2, 3, 4, 5])\n",
        "print(array_1d)\n"
      ],
      "metadata": {
        "colab": {
          "base_uri": "https://localhost:8080/"
        },
        "id": "ZBJCR0mAz-S1",
        "outputId": "85b02f0a-2d47-4bfc-9da5-39577995e825"
      },
      "execution_count": null,
      "outputs": [
        {
          "output_type": "stream",
          "name": "stdout",
          "text": [
            "[1 2 3 4 5]\n"
          ]
        }
      ]
    },
    {
      "cell_type": "code",
      "source": [
        "# Creating a 2D array\n",
        "array_2d = np.array([[1, 2, 3], [4, 5, 6], [7, 8, 9]])\n",
        "print(array_2d)\n"
      ],
      "metadata": {
        "colab": {
          "base_uri": "https://localhost:8080/"
        },
        "id": "gIMQV6P31QKT",
        "outputId": "a4d2acee-9f5e-4130-ebf1-4bfef636f185"
      },
      "execution_count": null,
      "outputs": [
        {
          "output_type": "stream",
          "name": "stdout",
          "text": [
            "[[1 2 3]\n",
            " [4 5 6]\n",
            " [7 8 9]]\n"
          ]
        }
      ]
    },
    {
      "cell_type": "code",
      "source": [
        "# Creating a 3D array\n",
        "array_3d = np.array([[[1, 2, 3], [4, 5, 6]],\n",
        "                     [[7, 8, 9], [10, 11, 12]],\n",
        "                     [[13, 14, 15], [16, 17, 18]]])\n",
        "print(array_3d)"
      ],
      "metadata": {
        "colab": {
          "base_uri": "https://localhost:8080/"
        },
        "id": "j_8dET2p1SOy",
        "outputId": "de3734cd-6f5d-462c-d5e6-72bae6dc1dca"
      },
      "execution_count": null,
      "outputs": [
        {
          "output_type": "stream",
          "name": "stdout",
          "text": [
            "[[[ 1  2  3]\n",
            "  [ 4  5  6]]\n",
            "\n",
            " [[ 7  8  9]\n",
            "  [10 11 12]]\n",
            "\n",
            " [[13 14 15]\n",
            "  [16 17 18]]]\n"
          ]
        }
      ]
    },
    {
      "cell_type": "markdown",
      "source": [
        "# Numpy Attributes\n",
        "a.ndim  ==> Number of dimensions\n",
        "\n",
        "b.shape ==> Shape of the array\n",
        "\n",
        "a.size  ==> Total number of elements\n",
        "\n",
        "a.dtype ==> Data type of the elements"
      ],
      "metadata": {
        "id": "yyezxR3Vxx-m"
      }
    },
    {
      "cell_type": "code",
      "source": [
        "# Creating an array from a list\n",
        "a = np.array([1, 2, 3, 4])\n",
        "\n",
        "# Creating a 2D array (matrix)\n",
        "b = np.array([[1, 2], [3, 4]])\n",
        "\n",
        "\n",
        "print(a.ndim)\n",
        "print(b.shape)\n",
        "print(a.size)\n",
        "print(a.dtype)"
      ],
      "metadata": {
        "colab": {
          "base_uri": "https://localhost:8080/"
        },
        "id": "B9IIdwpRwX-D",
        "outputId": "6ecd5e86-effd-4441-8b5b-02fae98b055f"
      },
      "execution_count": null,
      "outputs": [
        {
          "output_type": "stream",
          "name": "stdout",
          "text": [
            "1\n",
            "(2, 2)\n",
            "4\n",
            "int64\n"
          ]
        }
      ]
    },
    {
      "cell_type": "code",
      "source": [
        "import numpy as np\n",
        "# Integer array\n",
        "a = np.array([1, 2, 3, 4, 5])\n",
        "print(a.dtype)\n",
        "\n",
        "# Float array\n",
        "b = np.array([1.0, 2.0, 3.0])\n",
        "print(b.dtype)\n",
        "\n",
        "# Complex array\n",
        "c = np.array([1+2j, 3+4j])\n",
        "print(c.dtype)\n",
        "\n",
        "# Boolean array\n",
        "d = np.array([True, False, True])\n",
        "print(d.dtype)"
      ],
      "metadata": {
        "colab": {
          "base_uri": "https://localhost:8080/"
        },
        "id": "x-UJ4KVALZzG",
        "outputId": "e6fefad9-abed-4c59-abb5-3d908368770e"
      },
      "execution_count": 2,
      "outputs": [
        {
          "output_type": "stream",
          "name": "stdout",
          "text": [
            "int64\n",
            "float64\n",
            "complex128\n",
            "bool\n"
          ]
        }
      ]
    },
    {
      "cell_type": "code",
      "source": [
        "# Create an array with float32 data type\n",
        "a = np.array([1, 2, 3], dtype=np.float32)\n",
        "print(a)\n",
        "print(a.dtype)\n"
      ],
      "metadata": {
        "colab": {
          "base_uri": "https://localhost:8080/"
        },
        "id": "JOeXxGKfMSGW",
        "outputId": "e2b14c9b-dd3a-4394-c0df-73db77a58d46"
      },
      "execution_count": 6,
      "outputs": [
        {
          "output_type": "stream",
          "name": "stdout",
          "text": [
            "[1. 2. 3.]\n",
            "float32\n"
          ]
        }
      ]
    },
    {
      "cell_type": "code",
      "source": [
        "# Create an array with int16 data type\n",
        "b = np.array([1, 2, 3], dtype=np.int16)\n",
        "print(b)\n",
        "print(b.dtype)"
      ],
      "metadata": {
        "colab": {
          "base_uri": "https://localhost:8080/"
        },
        "id": "ZO2HyVOUMfu7",
        "outputId": "ffc26284-9d2e-4746-bd70-c7dfe62c20c2"
      },
      "execution_count": 5,
      "outputs": [
        {
          "output_type": "stream",
          "name": "stdout",
          "text": [
            "[1 2 3]\n",
            "int16\n"
          ]
        }
      ]
    },
    {
      "cell_type": "code",
      "source": [
        "c = np.array([1+2j, 3+4j], dtype=np.int16)\n",
        "print(c)\n",
        "print(c.dtype)   # This will raise a TypeError"
      ],
      "metadata": {
        "colab": {
          "base_uri": "https://localhost:8080/",
          "height": 218
        },
        "id": "zToiZ4vpMjod",
        "outputId": "773f6bf9-c1ef-426f-a312-713d5d98a070"
      },
      "execution_count": 8,
      "outputs": [
        {
          "output_type": "error",
          "ename": "TypeError",
          "evalue": "int() argument must be a string, a bytes-like object or a real number, not 'complex'",
          "traceback": [
            "\u001b[0;31m---------------------------------------------------------------------------\u001b[0m",
            "\u001b[0;31mTypeError\u001b[0m                                 Traceback (most recent call last)",
            "\u001b[0;32m<ipython-input-8-9849fc29e992>\u001b[0m in \u001b[0;36m<cell line: 3>\u001b[0;34m()\u001b[0m\n\u001b[1;32m      1\u001b[0m \u001b[0;32mimport\u001b[0m \u001b[0mnumpy\u001b[0m \u001b[0;32mas\u001b[0m \u001b[0mnp\u001b[0m\u001b[0;34m\u001b[0m\u001b[0;34m\u001b[0m\u001b[0m\n\u001b[1;32m      2\u001b[0m \u001b[0;34m\u001b[0m\u001b[0m\n\u001b[0;32m----> 3\u001b[0;31m \u001b[0mc\u001b[0m \u001b[0;34m=\u001b[0m \u001b[0mnp\u001b[0m\u001b[0;34m.\u001b[0m\u001b[0marray\u001b[0m\u001b[0;34m(\u001b[0m\u001b[0;34m[\u001b[0m\u001b[0;36m1\u001b[0m\u001b[0;34m+\u001b[0m\u001b[0;36m2j\u001b[0m\u001b[0;34m,\u001b[0m \u001b[0;36m3\u001b[0m\u001b[0;34m+\u001b[0m\u001b[0;36m4j\u001b[0m\u001b[0;34m]\u001b[0m\u001b[0;34m,\u001b[0m \u001b[0mdtype\u001b[0m\u001b[0;34m=\u001b[0m\u001b[0mnp\u001b[0m\u001b[0;34m.\u001b[0m\u001b[0mint16\u001b[0m\u001b[0;34m)\u001b[0m\u001b[0;34m\u001b[0m\u001b[0;34m\u001b[0m\u001b[0m\n\u001b[0m\u001b[1;32m      4\u001b[0m \u001b[0mprint\u001b[0m\u001b[0;34m(\u001b[0m\u001b[0mc\u001b[0m\u001b[0;34m)\u001b[0m\u001b[0;34m\u001b[0m\u001b[0;34m\u001b[0m\u001b[0m\n\u001b[1;32m      5\u001b[0m \u001b[0mprint\u001b[0m\u001b[0;34m(\u001b[0m\u001b[0mc\u001b[0m\u001b[0;34m.\u001b[0m\u001b[0mdtype\u001b[0m\u001b[0;34m)\u001b[0m\u001b[0;34m\u001b[0m\u001b[0;34m\u001b[0m\u001b[0m\n",
            "\u001b[0;31mTypeError\u001b[0m: int() argument must be a string, a bytes-like object or a real number, not 'complex'"
          ]
        }
      ]
    },
    {
      "cell_type": "markdown",
      "source": [
        "# Built-In Functions"
      ],
      "metadata": {
        "id": "Gi3rmSV62l2F"
      }
    },
    {
      "cell_type": "markdown",
      "source": [
        "* np.array(): Create an array from a Python list or sequence.\n"
      ],
      "metadata": {
        "id": "v3i1TX-dOV_d"
      }
    },
    {
      "cell_type": "code",
      "source": [
        "# From a list\n",
        "A = np.array([11, 22, 33, 44, 55])\n",
        "print(A)"
      ],
      "metadata": {
        "colab": {
          "base_uri": "https://localhost:8080/"
        },
        "id": "mUsWCAN8OU-W",
        "outputId": "1d08b3c1-8651-492d-8349-170f6f1b33d9"
      },
      "execution_count": 9,
      "outputs": [
        {
          "output_type": "stream",
          "name": "stdout",
          "text": [
            "[11 22 33 44 55]\n"
          ]
        }
      ]
    },
    {
      "cell_type": "code",
      "source": [
        "# From a sequence\n",
        "B = np.array((100, 200, 300))\n",
        "print(B)"
      ],
      "metadata": {
        "colab": {
          "base_uri": "https://localhost:8080/"
        },
        "id": "BMW79sa8OhvS",
        "outputId": "9766a8bc-b582-4912-e761-607add8c8eec"
      },
      "execution_count": 10,
      "outputs": [
        {
          "output_type": "stream",
          "name": "stdout",
          "text": [
            "[100 200 300]\n"
          ]
        }
      ]
    },
    {
      "cell_type": "markdown",
      "source": [
        "* np.asarray(): Convert the input to an array.\n"
      ],
      "metadata": {
        "id": "HKMoCuR6OrkJ"
      }
    },
    {
      "cell_type": "markdown",
      "source": [],
      "metadata": {
        "id": "sKxO-VM0tnuF"
      }
    }
  ]
}