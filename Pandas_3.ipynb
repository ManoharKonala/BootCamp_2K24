{
 "cells": [
  {
   "cell_type": "markdown",
   "metadata": {},
   "source": [
    "# INDEXING AND SLICING"
   ]
  },
  {
   "cell_type": "markdown",
   "metadata": {},
   "source": [
    "# Indexing in DataFrames\n"
   ]
  },
  {
   "cell_type": "markdown",
   "metadata": {},
   "source": [
    "**1. Label-based Indexing with loc**\n",
    "* Label-based indexing is used to select data by the labels of rows and columns."
   ]
  },
  {
   "cell_type": "code",
   "execution_count": 9,
   "metadata": {},
   "outputs": [
    {
     "name": "stdout",
     "output_type": "stream",
     "text": [
      "PassengerId                                                    2\n",
      "Survived                                                       1\n",
      "Pclass                                                         1\n",
      "Name           Cumings, Mrs. John Bradley (Florence Briggs Th...\n",
      "Sex                                                       female\n",
      "Age                                                         38.0\n",
      "SibSp                                                          1\n",
      "Parch                                                          0\n",
      "Ticket                                                  PC 17599\n",
      "Fare                                                     71.2833\n",
      "Cabin                                                        C85\n",
      "Embarked                                                       C\n",
      "Name: 1, dtype: object \n",
      "\n",
      "   PassengerId  Survived  Pclass  \\\n",
      "1            2         1       1   \n",
      "2            3         1       3   \n",
      "\n",
      "                                                Name     Sex   Age  SibSp  \\\n",
      "1  Cumings, Mrs. John Bradley (Florence Briggs Th...  female  38.0      1   \n",
      "2                             Heikkinen, Miss. Laina  female  26.0      0   \n",
      "\n",
      "   Parch            Ticket     Fare Cabin Embarked  \n",
      "1      0          PC 17599  71.2833   C85        C  \n",
      "2      0  STON/O2. 3101282   7.9250   NaN        S  \n"
     ]
    },
    {
     "data": {
      "text/plain": [
       "'Braund, Mr. Owen Harris'"
      ]
     },
     "execution_count": 9,
     "metadata": {},
     "output_type": "execute_result"
    }
   ],
   "source": [
    "import pandas as pd\n",
    "\n",
    "data = pd.read_csv(r\"c:\\Users\\Public\\titanic_train.csv\")\n",
    "df = pd.DataFrame(data)\n",
    "\n",
    "# Select a single row by label\n",
    "print(df.loc[1],\"\\n\")\n",
    "\n",
    "# Select multiple rows by label\n",
    "print(df.loc[1:2])\n",
    "\n",
    "df.loc[0,\"Name\"]#returns value at index 0 of column name Name\n",
    "#here slicing is being done for 0 index name\n",
    "\n"
   ]
  },
  {
   "cell_type": "markdown",
   "metadata": {},
   "source": [
    "**2.Positional Indexing with iloc**\n",
    "* Positional indexing is used to select data by the integer location of rows and columns."
   ]
  },
  {
   "cell_type": "code",
   "execution_count": 12,
   "metadata": {},
   "outputs": [
    {
     "name": "stdout",
     "output_type": "stream",
     "text": [
      "PassengerId                                                    2\n",
      "Survived                                                       1\n",
      "Pclass                                                         1\n",
      "Name           Cumings, Mrs. John Bradley (Florence Briggs Th...\n",
      "Sex                                                       female\n",
      "Age                                                         38.0\n",
      "SibSp                                                          1\n",
      "Parch                                                          0\n",
      "Ticket                                                  PC 17599\n",
      "Fare                                                     71.2833\n",
      "Cabin                                                        C85\n",
      "Embarked                                                       C\n",
      "Name: 1, dtype: object \n",
      "\n",
      "   PassengerId  Survived  Pclass  \\\n",
      "1            2         1       1   \n",
      "2            3         1       3   \n",
      "\n",
      "                                                Name     Sex   Age  SibSp  \\\n",
      "1  Cumings, Mrs. John Bradley (Florence Briggs Th...  female  38.0      1   \n",
      "2                             Heikkinen, Miss. Laina  female  26.0      0   \n",
      "\n",
      "   Parch            Ticket     Fare Cabin Embarked  \n",
      "1      0          PC 17599  71.2833   C85        C  \n",
      "2      0  STON/O2. 3101282   7.9250   NaN        S   \n",
      "\n",
      "   PassengerId  Survived\n",
      "1            2         1\n",
      "2            3         1\n"
     ]
    }
   ],
   "source": [
    "# Select a single row by position\n",
    "print(df.iloc[1],\"\\n\") # ==>  Selects the second row (index position 1).\n",
    "\n",
    "# Select multiple rows by position\n",
    "print(df.iloc[1:3],\"\\n\")  # ==> Selects the second and third rows (index positions 1 and 2).\n",
    "\n",
    "# Select specific rows and columns by position\n",
    "print(df.iloc[1:3, 0:2]) # ==> Selects the second and third rows, and the first and second columns.\n",
    "\n"
   ]
  },
  {
   "cell_type": "markdown",
   "metadata": {},
   "source": [
    "**BOOLEAN INDEXING**\n",
    "* Boolean indexing allows selection of rows based on a condition."
   ]
  },
  {
   "cell_type": "code",
   "execution_count": 24,
   "metadata": {},
   "outputs": [
    {
     "name": "stdout",
     "output_type": "stream",
     "text": [
      "     PassengerId  Survived  Pclass  \\\n",
      "0              1         0       3   \n",
      "1              2         1       1   \n",
      "2              3         1       3   \n",
      "3              4         1       1   \n",
      "4              5         0       3   \n",
      "..           ...       ...     ...   \n",
      "885          886         0       3   \n",
      "886          887         0       2   \n",
      "887          888         1       1   \n",
      "889          890         1       1   \n",
      "890          891         0       3   \n",
      "\n",
      "                                                  Name     Sex   Age  SibSp  \\\n",
      "0                              Braund, Mr. Owen Harris    male  22.0      1   \n",
      "1    Cumings, Mrs. John Bradley (Florence Briggs Th...  female  38.0      1   \n",
      "2                               Heikkinen, Miss. Laina  female  26.0      0   \n",
      "3         Futrelle, Mrs. Jacques Heath (Lily May Peel)  female  35.0      1   \n",
      "4                             Allen, Mr. William Henry    male  35.0      0   \n",
      "..                                                 ...     ...   ...    ...   \n",
      "885               Rice, Mrs. William (Margaret Norton)  female  39.0      0   \n",
      "886                              Montvila, Rev. Juozas    male  27.0      0   \n",
      "887                       Graham, Miss. Margaret Edith  female  19.0      0   \n",
      "889                              Behr, Mr. Karl Howell    male  26.0      0   \n",
      "890                                Dooley, Mr. Patrick    male  32.0      0   \n",
      "\n",
      "     Parch            Ticket     Fare Cabin Embarked  \n",
      "0        0         A/5 21171   7.2500   NaN        S  \n",
      "1        0          PC 17599  71.2833   C85        C  \n",
      "2        0  STON/O2. 3101282   7.9250   NaN        S  \n",
      "3        0            113803  53.1000  C123        S  \n",
      "4        0            373450   8.0500   NaN        S  \n",
      "..     ...               ...      ...   ...      ...  \n",
      "885      5            382652  29.1250   NaN        Q  \n",
      "886      0            211536  13.0000   NaN        S  \n",
      "887      0            112053  30.0000   B42        S  \n",
      "889      0            111369  30.0000  C148        C  \n",
      "890      0            370376   7.7500   NaN        Q  \n",
      "\n",
      "[575 rows x 12 columns]\n"
     ]
    }
   ],
   "source": [
    "print(df[df['Age'] > 18])"
   ]
  },
  {
   "cell_type": "code",
   "execution_count": 25,
   "metadata": {},
   "outputs": [
    {
     "name": "stdout",
     "output_type": "stream",
     "text": [
      "                               Name     Sex\n",
      "12   Saundercock, Mr. William Henry    male\n",
      "91       Andreasson, Mr. Paul Edvin    male\n",
      "113         Jussila, Miss. Katriina  female\n",
      "131  Coelho, Mr. Domingos Fernandeo    male\n",
      "378             Betros, Mr. Tannous    male\n",
      "404         Oreskovic, Miss. Marija  female\n",
      "441                 Hampe, Mr. Leon    male\n",
      "622                Nakid, Mr. Sahid    male\n",
      "640          Jensen, Mr. Hans Peder    male\n",
      "664     Lindqvist, Mr. Eino William    male\n",
      "682     Olsvigen, Mr. Thor Anderson    male\n",
      "725             Oreskovic, Mr. Luka    male\n",
      "762           Barah, Mr. Hanna Assi    male\n",
      "840     Alhomaki, Mr. Ilmari Rudolf    male\n",
      "876   Gustafsson, Mr. Alfred Ossian    male\n"
     ]
    }
   ],
   "source": [
    "# Selecting rows where column Age equals 20 and only columns'Name', 'Fare'\n",
    "print(df.loc[df['Age'] == 20, ['Name', 'Fare']])\n"
   ]
  },
  {
   "cell_type": "markdown",
   "metadata": {},
   "source": [
    "**A Big Difference Between Loc and Iloc Is That If a Range Is Given Like 0:3 It Includes the 3, Whereas Iloc Doesn't**"
   ]
  },
  {
   "cell_type": "code",
   "execution_count": 28,
   "metadata": {},
   "outputs": [
    {
     "data": {
      "text/plain": [
       "array([False, False, False, False, False, False, False, False, False,\n",
       "       False, False, False])"
      ]
     },
     "execution_count": 28,
     "metadata": {},
     "output_type": "execute_result"
    }
   ],
   "source": [
    "mask = df.columns.str.contains('Type')\n",
    "mask\n"
   ]
  },
  {
   "cell_type": "markdown",
   "metadata": {},
   "source": [
    "# Slicing in DataFrames"
   ]
  },
  {
   "cell_type": "markdown",
   "metadata": {},
   "source": [
    "**1. Slicing Rows**\n",
    "* You can slice rows using label-based or positional indexing."
   ]
  },
  {
   "cell_type": "code",
   "execution_count": 14,
   "metadata": {},
   "outputs": [
    {
     "name": "stdout",
     "output_type": "stream",
     "text": [
      "   PassengerId  Survived  Pclass  \\\n",
      "1            2         1       1   \n",
      "2            3         1       3   \n",
      "\n",
      "                                                Name     Sex   Age  SibSp  \\\n",
      "1  Cumings, Mrs. John Bradley (Florence Briggs Th...  female  38.0      1   \n",
      "2                             Heikkinen, Miss. Laina  female  26.0      0   \n",
      "\n",
      "   Parch            Ticket     Fare Cabin Embarked  \n",
      "1      0          PC 17599  71.2833   C85        C  \n",
      "2      0  STON/O2. 3101282   7.9250   NaN        S   \n",
      "\n",
      "   PassengerId  Survived  Pclass  \\\n",
      "0            1         0       3   \n",
      "1            2         1       1   \n",
      "\n",
      "                                                Name     Sex   Age  SibSp  \\\n",
      "0                            Braund, Mr. Owen Harris    male  22.0      1   \n",
      "1  Cumings, Mrs. John Bradley (Florence Briggs Th...  female  38.0      1   \n",
      "\n",
      "   Parch     Ticket     Fare Cabin Embarked  \n",
      "0      0  A/5 21171   7.2500   NaN        S  \n",
      "1      0   PC 17599  71.2833   C85        C  \n"
     ]
    }
   ],
   "source": [
    "# Label-based slicing\n",
    "print(df.loc[1:2],'\\n')  # Slicing rows with labels 1 to 2\n",
    "\n",
    "# Positional slicing\n",
    "print(df.iloc[0:2])  # Slicing the first two rows\n"
   ]
  },
  {
   "cell_type": "markdown",
   "metadata": {},
   "source": [
    "**2. Slicing Columns**\n",
    "* You can also slice columns using label-based or positional indexing."
   ]
  },
  {
   "cell_type": "code",
   "execution_count": 18,
   "metadata": {},
   "outputs": [
    {
     "name": "stdout",
     "output_type": "stream",
     "text": [
      "     Parch            Ticket\n",
      "0        0         A/5 21171\n",
      "1        0          PC 17599\n",
      "2        0  STON/O2. 3101282\n",
      "3        0            113803\n",
      "4        0            373450\n",
      "..     ...               ...\n",
      "886      0            211536\n",
      "887      0            112053\n",
      "888      2        W./C. 6607\n",
      "889      0            111369\n",
      "890      0            370376\n",
      "\n",
      "[891 rows x 2 columns] \n",
      "\n",
      "     PassengerId  Survived\n",
      "0              1         0\n",
      "1              2         1\n",
      "2              3         1\n",
      "3              4         1\n",
      "4              5         0\n",
      "..           ...       ...\n",
      "886          887         0\n",
      "887          888         1\n",
      "888          889         0\n",
      "889          890         1\n",
      "890          891         0\n",
      "\n",
      "[891 rows x 2 columns]\n"
     ]
    }
   ],
   "source": [
    "# Label-based slicing\n",
    "print(df.loc[:, 'Parch':'Ticket'],\"\\n\")  # Slicing columns Parch  to ticket\n",
    "\n",
    "# Positional slicing\n",
    "print(df.iloc[:, 0:2])  # Slicing the first two columns"
   ]
  },
  {
   "cell_type": "markdown",
   "metadata": {},
   "source": [
    "**3. Slicing Rows and Columns Together**\n",
    "* You can combine row and column slicing.\n"
   ]
  },
  {
   "cell_type": "code",
   "execution_count": 23,
   "metadata": {},
   "outputs": [
    {
     "name": "stdout",
     "output_type": "stream",
     "text": [
      "   PassengerId  Survived\n",
      "1            2         1\n",
      "2            3         1\n"
     ]
    }
   ],
   "source": [
    "print(df.iloc[1:3, 0:2])  # Slicing rows 1 to 2 and columns 0 to 1\n"
   ]
  },
  {
   "cell_type": "markdown",
   "metadata": {},
   "source": [
    "# RESHAPING AND TRANSFORMING"
   ]
  },
  {
   "cell_type": "markdown",
   "metadata": {},
   "source": [
    "# Reshaping"
   ]
  },
  {
   "cell_type": "markdown",
   "metadata": {},
   "source": [
    "**1.Pivot**\n",
    "* Pivoting is used to transform or reshape data, converting columns into rows and vice versa."
   ]
  },
  {
   "cell_type": "code",
   "execution_count": 35,
   "metadata": {},
   "outputs": [
    {
     "name": "stdout",
     "output_type": "stream",
     "text": [
      "Ticket                                110152 110413 110465 110564 110813  \\\n",
      "Name                                                                       \n",
      "Abbing, Mr. Anthony                      NaN    NaN    NaN    NaN    NaN   \n",
      "Abbott, Mr. Rossmore Edward              NaN    NaN    NaN    NaN    NaN   \n",
      "Abbott, Mrs. Stanton (Rosa Hunt)         NaN    NaN    NaN    NaN    NaN   \n",
      "Abelson, Mr. Samuel                      NaN    NaN    NaN    NaN    NaN   \n",
      "Abelson, Mrs. Samuel (Hannah Wizosky)    NaN    NaN    NaN    NaN    NaN   \n",
      "...                                      ...    ...    ...    ...    ...   \n",
      "de Mulder, Mr. Theodore                  NaN    NaN    NaN    NaN    NaN   \n",
      "de Pelsmaeker, Mr. Alfons                NaN    NaN    NaN    NaN    NaN   \n",
      "del Carlo, Mr. Sebastiano                NaN    NaN    NaN    NaN    NaN   \n",
      "van Billiard, Mr. Austin Blyler          NaN    NaN    NaN    NaN    NaN   \n",
      "van Melkebeke, Mr. Philemon              NaN    NaN    NaN    NaN    NaN   \n",
      "\n",
      "Ticket                                111240 111320 111361 111369 111426  ...  \\\n",
      "Name                                                                      ...   \n",
      "Abbing, Mr. Anthony                      NaN    NaN    NaN    NaN    NaN  ...   \n",
      "Abbott, Mr. Rossmore Edward              NaN    NaN    NaN    NaN    NaN  ...   \n",
      "Abbott, Mrs. Stanton (Rosa Hunt)         NaN    NaN    NaN    NaN    NaN  ...   \n",
      "Abelson, Mr. Samuel                      NaN    NaN    NaN    NaN    NaN  ...   \n",
      "Abelson, Mrs. Samuel (Hannah Wizosky)    NaN    NaN    NaN    NaN    NaN  ...   \n",
      "...                                      ...    ...    ...    ...    ...  ...   \n",
      "de Mulder, Mr. Theodore                  NaN    NaN    NaN    NaN    NaN  ...   \n",
      "de Pelsmaeker, Mr. Alfons                NaN    NaN    NaN    NaN    NaN  ...   \n",
      "del Carlo, Mr. Sebastiano                NaN    NaN    NaN    NaN    NaN  ...   \n",
      "van Billiard, Mr. Austin Blyler          NaN    NaN    NaN    NaN    NaN  ...   \n",
      "van Melkebeke, Mr. Philemon              NaN    NaN    NaN    NaN    NaN  ...   \n",
      "\n",
      "Ticket                                STON/O2. 3101290 SW/PP 751 W./C. 14258  \\\n",
      "Name                                                                           \n",
      "Abbing, Mr. Anthony                                NaN       NaN         NaN   \n",
      "Abbott, Mr. Rossmore Edward                        NaN       NaN         NaN   \n",
      "Abbott, Mrs. Stanton (Rosa Hunt)                   NaN       NaN         NaN   \n",
      "Abelson, Mr. Samuel                                NaN       NaN         NaN   \n",
      "Abelson, Mrs. Samuel (Hannah Wizosky)              NaN       NaN         NaN   \n",
      "...                                                ...       ...         ...   \n",
      "de Mulder, Mr. Theodore                            NaN       NaN         NaN   \n",
      "de Pelsmaeker, Mr. Alfons                          NaN       NaN         NaN   \n",
      "del Carlo, Mr. Sebastiano                          NaN       NaN         NaN   \n",
      "van Billiard, Mr. Austin Blyler                    NaN       NaN         NaN   \n",
      "van Melkebeke, Mr. Philemon                        NaN       NaN         NaN   \n",
      "\n",
      "Ticket                                W./C. 14263 W./C. 6607 W./C. 6608  \\\n",
      "Name                                                                      \n",
      "Abbing, Mr. Anthony                           NaN        NaN        NaN   \n",
      "Abbott, Mr. Rossmore Edward                   NaN        NaN        NaN   \n",
      "Abbott, Mrs. Stanton (Rosa Hunt)              NaN        NaN        NaN   \n",
      "Abelson, Mr. Samuel                           NaN        NaN        NaN   \n",
      "Abelson, Mrs. Samuel (Hannah Wizosky)         NaN        NaN        NaN   \n",
      "...                                           ...        ...        ...   \n",
      "de Mulder, Mr. Theodore                       NaN        NaN        NaN   \n",
      "de Pelsmaeker, Mr. Alfons                     NaN        NaN        NaN   \n",
      "del Carlo, Mr. Sebastiano                     NaN        NaN        NaN   \n",
      "van Billiard, Mr. Austin Blyler               NaN        NaN        NaN   \n",
      "van Melkebeke, Mr. Philemon                   NaN        NaN        NaN   \n",
      "\n",
      "Ticket                                W./C. 6609 W.E.P. 5734 W/C 14208  \\\n",
      "Name                                                                     \n",
      "Abbing, Mr. Anthony                          NaN         NaN       NaN   \n",
      "Abbott, Mr. Rossmore Edward                  NaN         NaN       NaN   \n",
      "Abbott, Mrs. Stanton (Rosa Hunt)             NaN         NaN       NaN   \n",
      "Abelson, Mr. Samuel                          NaN         NaN       NaN   \n",
      "Abelson, Mrs. Samuel (Hannah Wizosky)        NaN         NaN       NaN   \n",
      "...                                          ...         ...       ...   \n",
      "de Mulder, Mr. Theodore                      NaN         NaN       NaN   \n",
      "de Pelsmaeker, Mr. Alfons                    NaN         NaN       NaN   \n",
      "del Carlo, Mr. Sebastiano                    NaN         NaN       NaN   \n",
      "van Billiard, Mr. Austin Blyler              NaN         NaN       NaN   \n",
      "van Melkebeke, Mr. Philemon                  NaN         NaN       NaN   \n",
      "\n",
      "Ticket                                WE/P 5735  \n",
      "Name                                             \n",
      "Abbing, Mr. Anthony                         NaN  \n",
      "Abbott, Mr. Rossmore Edward                 NaN  \n",
      "Abbott, Mrs. Stanton (Rosa Hunt)            NaN  \n",
      "Abelson, Mr. Samuel                         NaN  \n",
      "Abelson, Mrs. Samuel (Hannah Wizosky)       NaN  \n",
      "...                                         ...  \n",
      "de Mulder, Mr. Theodore                     NaN  \n",
      "de Pelsmaeker, Mr. Alfons                   NaN  \n",
      "del Carlo, Mr. Sebastiano                   NaN  \n",
      "van Billiard, Mr. Austin Blyler             NaN  \n",
      "van Melkebeke, Mr. Philemon                 NaN  \n",
      "\n",
      "[891 rows x 681 columns]\n"
     ]
    }
   ],
   "source": [
    "# Pivot the DataFrame\n",
    "pivot_df = df.pivot(index='Name', columns='Ticket', values='Cabin')\n",
    "print(pivot_df)"
   ]
  },
  {
   "cell_type": "markdown",
   "metadata": {},
   "source": [
    "**2.Melting**\n",
    "* Melting is used to transform data from a wide format to a long format."
   ]
  },
  {
   "cell_type": "code",
   "execution_count": 38,
   "metadata": {},
   "outputs": [
    {
     "data": {
      "text/html": [
       "<div>\n",
       "<style scoped>\n",
       "    .dataframe tbody tr th:only-of-type {\n",
       "        vertical-align: middle;\n",
       "    }\n",
       "\n",
       "    .dataframe tbody tr th {\n",
       "        vertical-align: top;\n",
       "    }\n",
       "\n",
       "    .dataframe thead th {\n",
       "        text-align: right;\n",
       "    }\n",
       "</style>\n",
       "<table border=\"1\" class=\"dataframe\">\n",
       "  <thead>\n",
       "    <tr style=\"text-align: right;\">\n",
       "      <th></th>\n",
       "      <th>PassengerId</th>\n",
       "      <th>Name</th>\n",
       "      <th>Variable</th>\n",
       "      <th>Value</th>\n",
       "    </tr>\n",
       "  </thead>\n",
       "  <tbody>\n",
       "    <tr>\n",
       "      <th>0</th>\n",
       "      <td>1</td>\n",
       "      <td>Braund, Mr. Owen Harris</td>\n",
       "      <td>Survived</td>\n",
       "      <td>0</td>\n",
       "    </tr>\n",
       "    <tr>\n",
       "      <th>1</th>\n",
       "      <td>2</td>\n",
       "      <td>Cumings, Mrs. John Bradley (Florence Briggs Th...</td>\n",
       "      <td>Survived</td>\n",
       "      <td>1</td>\n",
       "    </tr>\n",
       "    <tr>\n",
       "      <th>2</th>\n",
       "      <td>3</td>\n",
       "      <td>Heikkinen, Miss. Laina</td>\n",
       "      <td>Survived</td>\n",
       "      <td>1</td>\n",
       "    </tr>\n",
       "    <tr>\n",
       "      <th>3</th>\n",
       "      <td>4</td>\n",
       "      <td>Futrelle, Mrs. Jacques Heath (Lily May Peel)</td>\n",
       "      <td>Survived</td>\n",
       "      <td>1</td>\n",
       "    </tr>\n",
       "    <tr>\n",
       "      <th>4</th>\n",
       "      <td>5</td>\n",
       "      <td>Allen, Mr. William Henry</td>\n",
       "      <td>Survived</td>\n",
       "      <td>0</td>\n",
       "    </tr>\n",
       "    <tr>\n",
       "      <th>...</th>\n",
       "      <td>...</td>\n",
       "      <td>...</td>\n",
       "      <td>...</td>\n",
       "      <td>...</td>\n",
       "    </tr>\n",
       "    <tr>\n",
       "      <th>8905</th>\n",
       "      <td>887</td>\n",
       "      <td>Montvila, Rev. Juozas</td>\n",
       "      <td>Embarked</td>\n",
       "      <td>S</td>\n",
       "    </tr>\n",
       "    <tr>\n",
       "      <th>8906</th>\n",
       "      <td>888</td>\n",
       "      <td>Graham, Miss. Margaret Edith</td>\n",
       "      <td>Embarked</td>\n",
       "      <td>S</td>\n",
       "    </tr>\n",
       "    <tr>\n",
       "      <th>8907</th>\n",
       "      <td>889</td>\n",
       "      <td>Johnston, Miss. Catherine Helen \"Carrie\"</td>\n",
       "      <td>Embarked</td>\n",
       "      <td>S</td>\n",
       "    </tr>\n",
       "    <tr>\n",
       "      <th>8908</th>\n",
       "      <td>890</td>\n",
       "      <td>Behr, Mr. Karl Howell</td>\n",
       "      <td>Embarked</td>\n",
       "      <td>C</td>\n",
       "    </tr>\n",
       "    <tr>\n",
       "      <th>8909</th>\n",
       "      <td>891</td>\n",
       "      <td>Dooley, Mr. Patrick</td>\n",
       "      <td>Embarked</td>\n",
       "      <td>Q</td>\n",
       "    </tr>\n",
       "  </tbody>\n",
       "</table>\n",
       "<p>8910 rows × 4 columns</p>\n",
       "</div>"
      ],
      "text/plain": [
       "      PassengerId                                               Name  \\\n",
       "0               1                            Braund, Mr. Owen Harris   \n",
       "1               2  Cumings, Mrs. John Bradley (Florence Briggs Th...   \n",
       "2               3                             Heikkinen, Miss. Laina   \n",
       "3               4       Futrelle, Mrs. Jacques Heath (Lily May Peel)   \n",
       "4               5                           Allen, Mr. William Henry   \n",
       "...           ...                                                ...   \n",
       "8905          887                              Montvila, Rev. Juozas   \n",
       "8906          888                       Graham, Miss. Margaret Edith   \n",
       "8907          889           Johnston, Miss. Catherine Helen \"Carrie\"   \n",
       "8908          890                              Behr, Mr. Karl Howell   \n",
       "8909          891                                Dooley, Mr. Patrick   \n",
       "\n",
       "      Variable Value  \n",
       "0     Survived     0  \n",
       "1     Survived     1  \n",
       "2     Survived     1  \n",
       "3     Survived     1  \n",
       "4     Survived     0  \n",
       "...        ...   ...  \n",
       "8905  Embarked     S  \n",
       "8906  Embarked     S  \n",
       "8907  Embarked     S  \n",
       "8908  Embarked     C  \n",
       "8909  Embarked     Q  \n",
       "\n",
       "[8910 rows x 4 columns]"
      ]
     },
     "execution_count": 38,
     "metadata": {},
     "output_type": "execute_result"
    }
   ],
   "source": [
    "pd.melt(df, id_vars=['PassengerId', 'Name'], var_name='Variable', value_name='Value')"
   ]
  },
  {
   "cell_type": "markdown",
   "metadata": {},
   "source": [
    "**3. Stacking and Unstacking**\n",
    "* Stacking is used to pivot the columns of a DataFrame into the index, while unstacking pivots the index into the columns."
   ]
  },
  {
   "cell_type": "code",
   "execution_count": 40,
   "metadata": {},
   "outputs": [
    {
     "name": "stdout",
     "output_type": "stream",
     "text": [
      "Name                                             Ticket  \n",
      "Allen, Miss. Elisabeth Walton                    24160            B5\n",
      "Allison, Master. Hudson Trevor                   113781      C22 C26\n",
      "Allison, Miss. Helen Loraine                     113781      C22 C26\n",
      "Allison, Mrs. Hudson J C (Bessie Waldo Daniels)  113781      C22 C26\n",
      "Anderson, Mr. Harry                              19952           E12\n",
      "                                                              ...   \n",
      "Wick, Miss. Mary Natalie                         36928            C7\n",
      "Widener, Mr. Harry Elkins                        113503          C82\n",
      "Williams-Lambert, Mr. Fletcher Fellows           113510         C128\n",
      "Woolner, Mr. Hugh                                19947           C52\n",
      "Young, Miss. Marie Grice                         PC 17760        C32\n",
      "Length: 204, dtype: object \n",
      "\n",
      "Ticket                                          24160   113781 19952 13502  \\\n",
      "Name                                                                         \n",
      "Allen, Miss. Elisabeth Walton                      B5      NaN   NaN   NaN   \n",
      "Allison, Master. Hudson Trevor                    NaN  C22 C26   NaN   NaN   \n",
      "Allison, Miss. Helen Loraine                      NaN  C22 C26   NaN   NaN   \n",
      "Allison, Mrs. Hudson J C (Bessie Waldo Daniels)   NaN  C22 C26   NaN   NaN   \n",
      "Anderson, Mr. Harry                               NaN      NaN   E12   NaN   \n",
      "...                                               ...      ...   ...   ...   \n",
      "Wick, Miss. Mary Natalie                          NaN      NaN   NaN   NaN   \n",
      "Widener, Mr. Harry Elkins                         NaN      NaN   NaN   NaN   \n",
      "Williams-Lambert, Mr. Fletcher Fellows            NaN      NaN   NaN   NaN   \n",
      "Woolner, Mr. Hugh                                 NaN      NaN   NaN   NaN   \n",
      "Young, Miss. Marie Grice                          NaN      NaN   NaN   NaN   \n",
      "\n",
      "Ticket                                          112050 11769 PC 17757  \\\n",
      "Name                                                                    \n",
      "Allen, Miss. Elisabeth Walton                      NaN   NaN      NaN   \n",
      "Allison, Master. Hudson Trevor                     NaN   NaN      NaN   \n",
      "Allison, Miss. Helen Loraine                       NaN   NaN      NaN   \n",
      "Allison, Mrs. Hudson J C (Bessie Waldo Daniels)    NaN   NaN      NaN   \n",
      "Anderson, Mr. Harry                                NaN   NaN      NaN   \n",
      "...                                                ...   ...      ...   \n",
      "Wick, Miss. Mary Natalie                           NaN   NaN      NaN   \n",
      "Widener, Mr. Harry Elkins                          NaN   NaN      NaN   \n",
      "Williams-Lambert, Mr. Fletcher Fellows             NaN   NaN      NaN   \n",
      "Woolner, Mr. Hugh                                  NaN   NaN      NaN   \n",
      "Young, Miss. Marie Grice                           NaN   NaN      NaN   \n",
      "\n",
      "Ticket                                          PC 17477 28551 27042  ...  \\\n",
      "Name                                                                  ...   \n",
      "Allen, Miss. Elisabeth Walton                        NaN   NaN   NaN  ...   \n",
      "Allison, Master. Hudson Trevor                       NaN   NaN   NaN  ...   \n",
      "Allison, Miss. Helen Loraine                         NaN   NaN   NaN  ...   \n",
      "Allison, Mrs. Hudson J C (Bessie Waldo Daniels)      NaN   NaN   NaN  ...   \n",
      "Anderson, Mr. Harry                                  NaN   NaN   NaN  ...   \n",
      "...                                                  ...   ...   ...  ...   \n",
      "Wick, Miss. Mary Natalie                             NaN   NaN   NaN  ...   \n",
      "Widener, Mr. Harry Elkins                            NaN   NaN   NaN  ...   \n",
      "Williams-Lambert, Mr. Fletcher Fellows               NaN   NaN   NaN  ...   \n",
      "Woolner, Mr. Hugh                                    NaN   NaN   NaN  ...   \n",
      "Young, Miss. Marie Grice                             NaN   NaN   NaN  ...   \n",
      "\n",
      "Ticket                                          34218 111240 36967 110813  \\\n",
      "Name                                                                        \n",
      "Allen, Miss. Elisabeth Walton                     NaN    NaN   NaN    NaN   \n",
      "Allison, Master. Hudson Trevor                    NaN    NaN   NaN    NaN   \n",
      "Allison, Miss. Helen Loraine                      NaN    NaN   NaN    NaN   \n",
      "Allison, Mrs. Hudson J C (Bessie Waldo Daniels)   NaN    NaN   NaN    NaN   \n",
      "Anderson, Mr. Harry                               NaN    NaN   NaN    NaN   \n",
      "...                                               ...    ...   ...    ...   \n",
      "Wick, Miss. Mary Natalie                          NaN    NaN   NaN    NaN   \n",
      "Widener, Mr. Harry Elkins                         NaN    NaN   NaN    NaN   \n",
      "Williams-Lambert, Mr. Fletcher Fellows            NaN    NaN   NaN    NaN   \n",
      "Woolner, Mr. Hugh                                 NaN    NaN   NaN    NaN   \n",
      "Young, Miss. Marie Grice                          NaN    NaN   NaN    NaN   \n",
      "\n",
      "Ticket                                          27267 35281 36928 113503  \\\n",
      "Name                                                                       \n",
      "Allen, Miss. Elisabeth Walton                     NaN   NaN   NaN    NaN   \n",
      "Allison, Master. Hudson Trevor                    NaN   NaN   NaN    NaN   \n",
      "Allison, Miss. Helen Loraine                      NaN   NaN   NaN    NaN   \n",
      "Allison, Mrs. Hudson J C (Bessie Waldo Daniels)   NaN   NaN   NaN    NaN   \n",
      "Anderson, Mr. Harry                               NaN   NaN   NaN    NaN   \n",
      "...                                               ...   ...   ...    ...   \n",
      "Wick, Miss. Mary Natalie                          NaN   NaN    C7    NaN   \n",
      "Widener, Mr. Harry Elkins                         NaN   NaN   NaN    C82   \n",
      "Williams-Lambert, Mr. Fletcher Fellows            NaN   NaN   NaN    NaN   \n",
      "Woolner, Mr. Hugh                                 NaN   NaN   NaN    NaN   \n",
      "Young, Miss. Marie Grice                          NaN   NaN   NaN    NaN   \n",
      "\n",
      "Ticket                                          113510 19947  \n",
      "Name                                                          \n",
      "Allen, Miss. Elisabeth Walton                      NaN   NaN  \n",
      "Allison, Master. Hudson Trevor                     NaN   NaN  \n",
      "Allison, Miss. Helen Loraine                       NaN   NaN  \n",
      "Allison, Mrs. Hudson J C (Bessie Waldo Daniels)    NaN   NaN  \n",
      "Anderson, Mr. Harry                                NaN   NaN  \n",
      "...                                                ...   ...  \n",
      "Wick, Miss. Mary Natalie                           NaN   NaN  \n",
      "Widener, Mr. Harry Elkins                          NaN   NaN  \n",
      "Williams-Lambert, Mr. Fletcher Fellows            C128   NaN  \n",
      "Woolner, Mr. Hugh                                  NaN   C52  \n",
      "Young, Miss. Marie Grice                           NaN   NaN  \n",
      "\n",
      "[204 rows x 142 columns]\n"
     ]
    }
   ],
   "source": [
    "# Stack the DataFrame\n",
    "stacked_df = pivot_df.stack()\n",
    "print(stacked_df,\"\\n\")\n",
    "\n",
    "# Unstack the DataFrame\n",
    "unstacked_df = stacked_df.unstack()\n",
    "print(unstacked_df)\n"
   ]
  },
  {
   "cell_type": "markdown",
   "metadata": {},
   "source": [
    "# TRANSFORMING"
   ]
  },
  {
   "cell_type": "markdown",
   "metadata": {},
   "source": [
    "**GroupBy and Aggregation**"
   ]
  },
  {
   "cell_type": "code",
   "execution_count": 43,
   "metadata": {},
   "outputs": [
    {
     "name": "stdout",
     "output_type": "stream",
     "text": [
      "                                             Name   Age     Fare\n",
      "0                             Abbing, Mr. Anthony  42.0   7.5500\n",
      "1                     Abbott, Mr. Rossmore Edward  16.0  20.2500\n",
      "2                Abbott, Mrs. Stanton (Rosa Hunt)  35.0  20.2500\n",
      "3                             Abelson, Mr. Samuel  30.0  24.0000\n",
      "4           Abelson, Mrs. Samuel (Hannah Wizosky)  28.0  24.0000\n",
      "..                                            ...   ...      ...\n",
      "709  de Messemaeker, Mrs. Guillaume Joseph (Emma)  36.0  17.4000\n",
      "710                       de Mulder, Mr. Theodore  30.0   9.5000\n",
      "711                     de Pelsmaeker, Mr. Alfons  16.0   9.5000\n",
      "712                     del Carlo, Mr. Sebastiano  29.0  27.7208\n",
      "713               van Billiard, Mr. Austin Blyler  40.5  14.5000\n",
      "\n",
      "[714 rows x 3 columns]\n"
     ]
    }
   ],
   "source": [
    "print(df.groupby(['Name', 'Age'])['Fare'].mean().reset_index())\n"
   ]
  },
  {
   "cell_type": "markdown",
   "metadata": {},
   "source": [
    "**Applying Functions**"
   ]
  },
  {
   "cell_type": "code",
   "execution_count": 44,
   "metadata": {},
   "outputs": [
    {
     "data": {
      "text/plain": [
       "0      Adult\n",
       "1      Adult\n",
       "2      Adult\n",
       "3      Adult\n",
       "4      Adult\n",
       "       ...  \n",
       "886    Adult\n",
       "887    Adult\n",
       "888    Child\n",
       "889    Adult\n",
       "890    Adult\n",
       "Name: Age, Length: 891, dtype: object"
      ]
     },
     "execution_count": 44,
     "metadata": {},
     "output_type": "execute_result"
    }
   ],
   "source": [
    "df['Age'] = df['Age'].apply(lambda x: 'Adult' if x > 18 else 'Child')\n",
    "df['Age'] "
   ]
  },
  {
   "cell_type": "markdown",
   "metadata": {},
   "source": [
    "**Duplicates**"
   ]
  },
  {
   "cell_type": "code",
   "execution_count": 45,
   "metadata": {},
   "outputs": [
    {
     "data": {
      "text/html": [
       "<div>\n",
       "<style scoped>\n",
       "    .dataframe tbody tr th:only-of-type {\n",
       "        vertical-align: middle;\n",
       "    }\n",
       "\n",
       "    .dataframe tbody tr th {\n",
       "        vertical-align: top;\n",
       "    }\n",
       "\n",
       "    .dataframe thead th {\n",
       "        text-align: right;\n",
       "    }\n",
       "</style>\n",
       "<table border=\"1\" class=\"dataframe\">\n",
       "  <thead>\n",
       "    <tr style=\"text-align: right;\">\n",
       "      <th></th>\n",
       "      <th>PassengerId</th>\n",
       "      <th>Survived</th>\n",
       "      <th>Pclass</th>\n",
       "      <th>Name</th>\n",
       "      <th>Sex</th>\n",
       "      <th>Age</th>\n",
       "      <th>SibSp</th>\n",
       "      <th>Parch</th>\n",
       "      <th>Ticket</th>\n",
       "      <th>Fare</th>\n",
       "      <th>Cabin</th>\n",
       "      <th>Embarked</th>\n",
       "    </tr>\n",
       "  </thead>\n",
       "  <tbody>\n",
       "    <tr>\n",
       "      <th>0</th>\n",
       "      <td>1</td>\n",
       "      <td>0</td>\n",
       "      <td>3</td>\n",
       "      <td>Braund, Mr. Owen Harris</td>\n",
       "      <td>male</td>\n",
       "      <td>Adult</td>\n",
       "      <td>1</td>\n",
       "      <td>0</td>\n",
       "      <td>A/5 21171</td>\n",
       "      <td>7.2500</td>\n",
       "      <td>NaN</td>\n",
       "      <td>S</td>\n",
       "    </tr>\n",
       "    <tr>\n",
       "      <th>1</th>\n",
       "      <td>2</td>\n",
       "      <td>1</td>\n",
       "      <td>1</td>\n",
       "      <td>Cumings, Mrs. John Bradley (Florence Briggs Th...</td>\n",
       "      <td>female</td>\n",
       "      <td>Adult</td>\n",
       "      <td>1</td>\n",
       "      <td>0</td>\n",
       "      <td>PC 17599</td>\n",
       "      <td>71.2833</td>\n",
       "      <td>C85</td>\n",
       "      <td>C</td>\n",
       "    </tr>\n",
       "    <tr>\n",
       "      <th>2</th>\n",
       "      <td>3</td>\n",
       "      <td>1</td>\n",
       "      <td>3</td>\n",
       "      <td>Heikkinen, Miss. Laina</td>\n",
       "      <td>female</td>\n",
       "      <td>Adult</td>\n",
       "      <td>0</td>\n",
       "      <td>0</td>\n",
       "      <td>STON/O2. 3101282</td>\n",
       "      <td>7.9250</td>\n",
       "      <td>NaN</td>\n",
       "      <td>S</td>\n",
       "    </tr>\n",
       "    <tr>\n",
       "      <th>3</th>\n",
       "      <td>4</td>\n",
       "      <td>1</td>\n",
       "      <td>1</td>\n",
       "      <td>Futrelle, Mrs. Jacques Heath (Lily May Peel)</td>\n",
       "      <td>female</td>\n",
       "      <td>Adult</td>\n",
       "      <td>1</td>\n",
       "      <td>0</td>\n",
       "      <td>113803</td>\n",
       "      <td>53.1000</td>\n",
       "      <td>C123</td>\n",
       "      <td>S</td>\n",
       "    </tr>\n",
       "    <tr>\n",
       "      <th>4</th>\n",
       "      <td>5</td>\n",
       "      <td>0</td>\n",
       "      <td>3</td>\n",
       "      <td>Allen, Mr. William Henry</td>\n",
       "      <td>male</td>\n",
       "      <td>Adult</td>\n",
       "      <td>0</td>\n",
       "      <td>0</td>\n",
       "      <td>373450</td>\n",
       "      <td>8.0500</td>\n",
       "      <td>NaN</td>\n",
       "      <td>S</td>\n",
       "    </tr>\n",
       "    <tr>\n",
       "      <th>...</th>\n",
       "      <td>...</td>\n",
       "      <td>...</td>\n",
       "      <td>...</td>\n",
       "      <td>...</td>\n",
       "      <td>...</td>\n",
       "      <td>...</td>\n",
       "      <td>...</td>\n",
       "      <td>...</td>\n",
       "      <td>...</td>\n",
       "      <td>...</td>\n",
       "      <td>...</td>\n",
       "      <td>...</td>\n",
       "    </tr>\n",
       "    <tr>\n",
       "      <th>867</th>\n",
       "      <td>868</td>\n",
       "      <td>0</td>\n",
       "      <td>1</td>\n",
       "      <td>Roebling, Mr. Washington Augustus II</td>\n",
       "      <td>male</td>\n",
       "      <td>Adult</td>\n",
       "      <td>0</td>\n",
       "      <td>0</td>\n",
       "      <td>PC 17590</td>\n",
       "      <td>50.4958</td>\n",
       "      <td>A24</td>\n",
       "      <td>S</td>\n",
       "    </tr>\n",
       "    <tr>\n",
       "      <th>872</th>\n",
       "      <td>873</td>\n",
       "      <td>0</td>\n",
       "      <td>1</td>\n",
       "      <td>Carlsson, Mr. Frans Olof</td>\n",
       "      <td>male</td>\n",
       "      <td>Adult</td>\n",
       "      <td>0</td>\n",
       "      <td>0</td>\n",
       "      <td>695</td>\n",
       "      <td>5.0000</td>\n",
       "      <td>B51 B53 B55</td>\n",
       "      <td>S</td>\n",
       "    </tr>\n",
       "    <tr>\n",
       "      <th>876</th>\n",
       "      <td>877</td>\n",
       "      <td>0</td>\n",
       "      <td>3</td>\n",
       "      <td>Gustafsson, Mr. Alfred Ossian</td>\n",
       "      <td>male</td>\n",
       "      <td>Adult</td>\n",
       "      <td>0</td>\n",
       "      <td>0</td>\n",
       "      <td>7534</td>\n",
       "      <td>9.8458</td>\n",
       "      <td>NaN</td>\n",
       "      <td>S</td>\n",
       "    </tr>\n",
       "    <tr>\n",
       "      <th>882</th>\n",
       "      <td>883</td>\n",
       "      <td>0</td>\n",
       "      <td>3</td>\n",
       "      <td>Dahlberg, Miss. Gerda Ulrika</td>\n",
       "      <td>female</td>\n",
       "      <td>Adult</td>\n",
       "      <td>0</td>\n",
       "      <td>0</td>\n",
       "      <td>7552</td>\n",
       "      <td>10.5167</td>\n",
       "      <td>NaN</td>\n",
       "      <td>S</td>\n",
       "    </tr>\n",
       "    <tr>\n",
       "      <th>885</th>\n",
       "      <td>886</td>\n",
       "      <td>0</td>\n",
       "      <td>3</td>\n",
       "      <td>Rice, Mrs. William (Margaret Norton)</td>\n",
       "      <td>female</td>\n",
       "      <td>Adult</td>\n",
       "      <td>0</td>\n",
       "      <td>5</td>\n",
       "      <td>382652</td>\n",
       "      <td>29.1250</td>\n",
       "      <td>NaN</td>\n",
       "      <td>Q</td>\n",
       "    </tr>\n",
       "  </tbody>\n",
       "</table>\n",
       "<p>344 rows × 12 columns</p>\n",
       "</div>"
      ],
      "text/plain": [
       "     PassengerId  Survived  Pclass  \\\n",
       "0              1         0       3   \n",
       "1              2         1       1   \n",
       "2              3         1       3   \n",
       "3              4         1       1   \n",
       "4              5         0       3   \n",
       "..           ...       ...     ...   \n",
       "867          868         0       1   \n",
       "872          873         0       1   \n",
       "876          877         0       3   \n",
       "882          883         0       3   \n",
       "885          886         0       3   \n",
       "\n",
       "                                                  Name     Sex    Age  SibSp  \\\n",
       "0                              Braund, Mr. Owen Harris    male  Adult      1   \n",
       "1    Cumings, Mrs. John Bradley (Florence Briggs Th...  female  Adult      1   \n",
       "2                               Heikkinen, Miss. Laina  female  Adult      0   \n",
       "3         Futrelle, Mrs. Jacques Heath (Lily May Peel)  female  Adult      1   \n",
       "4                             Allen, Mr. William Henry    male  Adult      0   \n",
       "..                                                 ...     ...    ...    ...   \n",
       "867               Roebling, Mr. Washington Augustus II    male  Adult      0   \n",
       "872                           Carlsson, Mr. Frans Olof    male  Adult      0   \n",
       "876                      Gustafsson, Mr. Alfred Ossian    male  Adult      0   \n",
       "882                       Dahlberg, Miss. Gerda Ulrika  female  Adult      0   \n",
       "885               Rice, Mrs. William (Margaret Norton)  female  Adult      0   \n",
       "\n",
       "     Parch            Ticket     Fare        Cabin Embarked  \n",
       "0        0         A/5 21171   7.2500          NaN        S  \n",
       "1        0          PC 17599  71.2833          C85        C  \n",
       "2        0  STON/O2. 3101282   7.9250          NaN        S  \n",
       "3        0            113803  53.1000         C123        S  \n",
       "4        0            373450   8.0500          NaN        S  \n",
       "..     ...               ...      ...          ...      ...  \n",
       "867      0          PC 17590  50.4958          A24        S  \n",
       "872      0               695   5.0000  B51 B53 B55        S  \n",
       "876      0              7534   9.8458          NaN        S  \n",
       "882      0              7552  10.5167          NaN        S  \n",
       "885      5            382652  29.1250          NaN        Q  \n",
       "\n",
       "[344 rows x 12 columns]"
      ]
     },
     "execution_count": 45,
     "metadata": {},
     "output_type": "execute_result"
    }
   ],
   "source": [
    "deduped_df = df.drop_duplicates(subset=['Age', 'Fare'])\n",
    "deduped_df"
   ]
  }
 ],
 "metadata": {
  "kernelspec": {
   "display_name": "Python 3",
   "language": "python",
   "name": "python3"
  },
  "language_info": {
   "codemirror_mode": {
    "name": "ipython",
    "version": 3
   },
   "file_extension": ".py",
   "mimetype": "text/x-python",
   "name": "python",
   "nbconvert_exporter": "python",
   "pygments_lexer": "ipython3",
   "version": "3.12.4"
  }
 },
 "nbformat": 4,
 "nbformat_minor": 2
}
